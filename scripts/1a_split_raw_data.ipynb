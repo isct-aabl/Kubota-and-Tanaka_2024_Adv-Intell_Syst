{
 "cells": [
  {
   "cell_type": "markdown",
   "metadata": {
    "pycharm": {
     "name": "#%% md\n"
    }
   },
   "source": [
    "# Split data"
   ]
  },
  {
   "cell_type": "code",
   "execution_count": null,
   "metadata": {
    "ExecuteTime": {
     "end_time": "2023-07-26T15:37:24.541716600Z",
     "start_time": "2023-07-26T15:37:22.582616600Z"
    },
    "collapsed": false,
    "pycharm": {
     "name": "#%%\n"
    }
   },
   "outputs": [],
   "source": [
    "from da_libraries.arrange_data import StrainDataSplitter\n",
    "\n",
    "%matplotlib inline"
   ]
  },
  {
   "cell_type": "markdown",
   "metadata": {
    "collapsed": false,
    "pycharm": {
     "name": "#%% md\n"
    }
   },
   "source": [
    "## Read me"
   ]
  },
  {
   "cell_type": "markdown",
   "metadata": {
    "collapsed": false,
    "pycharm": {
     "name": "#%% md\n"
    }
   },
   "source": [
    "### StrainDataSplitter: Class\n",
    "\n"
   ]
  },
  {
   "cell_type": "markdown",
   "metadata": {
    "collapsed": false,
    "pycharm": {
     "name": "#%% md\n"
    }
   },
   "source": [
    "\n",
    "実験データをスプリットしたCSV file, pngを作る"
   ]
  },
  {
   "cell_type": "code",
   "execution_count": 5,
   "metadata": {
    "collapsed": false,
    "pycharm": {
     "name": "#%%\n"
    }
   },
   "outputs": [
    {
     "name": "stdout",
     "output_type": "stream",
     "text": [
      "No offset is conducted\n"
     ]
    },
    {
     "data": {
      "application/vnd.jupyter.widget-view+json": {
       "model_id": "8dca8fa1bf1240a8a5015b1a61e85ac3",
       "version_major": 2,
       "version_minor": 0
      },
      "text/plain": [
       "  0%|          | 0/8 [00:00<?, ?it/s]"
      ]
     },
     "metadata": {},
     "output_type": "display_data"
    },
    {
     "name": "stdout",
     "output_type": "stream",
     "text": [
      "0deg: 3\n",
      "15deg: 3\n",
      "30deg: 3\n",
      "45deg: 3\n",
      "60deg: 3\n",
      "75deg: 3\n",
      "90deg: 3\n",
      "No Wind: 3\n",
      "No offset is conducted\n"
     ]
    },
    {
     "data": {
      "application/vnd.jupyter.widget-view+json": {
       "model_id": "e11cd8c13c844d3089cdb271aa5a5b7f",
       "version_major": 2,
       "version_minor": 0
      },
      "text/plain": [
       "  0%|          | 0/8 [00:00<?, ?it/s]"
      ]
     },
     "metadata": {},
     "output_type": "display_data"
    },
    {
     "name": "stdout",
     "output_type": "stream",
     "text": [
      "0deg: 3\n",
      "15deg: 3\n",
      "30deg: 3\n",
      "45deg: 3\n",
      "60deg: 3\n",
      "75deg: 3\n",
      "90deg: 3\n",
      "No Wind: 3\n",
      "Found 8 folders.\n",
      "After checking the graph of raw data (arranged_strain_dataframes), implement get_split_strain_data_dfs.\n"
     ]
    }
   ],
   "source": [
    "strain_data_splitter = StrainDataSplitter(should_normalize_data=False)"
   ]
  },
  {
   "cell_type": "code",
   "execution_count": 6,
   "metadata": {
    "collapsed": false,
    "pycharm": {
     "name": "#%%\n"
    }
   },
   "outputs": [
    {
     "name": "stdout",
     "output_type": "stream",
     "text": [
      "0deg: 7224\n",
      "15deg: 7224\n",
      "30deg: 7224\n",
      "45deg: 7224\n",
      "60deg: 7224\n",
      "75deg: 7224\n",
      "90deg: 7224\n",
      "No Wind: 7224\n",
      "Didn't save 0 dataframes.\n",
      "0deg: 3612\n",
      "15deg: 3612\n",
      "30deg: 3612\n",
      "45deg: 3612\n",
      "60deg: 3612\n",
      "75deg: 3612\n",
      "90deg: 3612\n",
      "No Wind: 3612\n",
      "Didn't save 0 dataframes.\n",
      "0deg: 1440\n",
      "15deg: 1440\n",
      "30deg: 1440\n",
      "45deg: 1440\n",
      "60deg: 1440\n",
      "75deg: 1440\n",
      "90deg: 1440\n",
      "No Wind: 1440\n",
      "Didn't save 0 dataframes.\n",
      "0deg: 720\n",
      "15deg: 720\n",
      "30deg: 720\n",
      "45deg: 720\n",
      "60deg: 720\n",
      "75deg: 720\n",
      "90deg: 720\n",
      "No Wind: 720\n",
      "Didn't save 0 dataframes.\n"
     ]
    }
   ],
   "source": [
    "for i in [0.1, 0.2, 0.5, 1]:\n",
    "# for i in [0.01]:\n",
    "    time_over_period = i\n",
    "    strain_data_splitter.split_strain_data(\"period\", time_over_period)\n",
    "\n",
    "    strain_data_splitter.save_data(\"pkl\")\n",
    "    strain_data_splitter.save_data(\"npy\")"
   ]
  },
  {
   "cell_type": "code",
   "execution_count": null,
   "metadata": {
    "collapsed": false,
    "pycharm": {
     "name": "#%%\n"
    }
   },
   "outputs": [],
   "source": []
  }
 ],
 "metadata": {
  "kernelspec": {
   "display_name": "Python 3 (ipykernel)",
   "language": "python",
   "name": "python3"
  },
  "language_info": {
   "codemirror_mode": {
    "name": "ipython",
    "version": 3
   },
   "file_extension": ".py",
   "mimetype": "text/x-python",
   "name": "python",
   "nbconvert_exporter": "python",
   "pygments_lexer": "ipython3",
   "version": "3.9.7"
  }
 },
 "nbformat": 4,
 "nbformat_minor": 1
}
