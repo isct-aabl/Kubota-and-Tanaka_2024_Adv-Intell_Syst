{
 "cells": [
  {
   "cell_type": "markdown",
   "metadata": {
    "collapsed": false,
    "pycharm": {
     "name": "#%% md\n"
    }
   },
   "source": [
    "### StrainDataSplitter: Class"
   ]
  },
  {
   "cell_type": "markdown",
   "metadata": {
    "collapsed": false,
    "pycharm": {
     "name": "#%% md\n"
    }
   },
   "source": []
  },
  {
   "cell_type": "markdown",
   "metadata": {
    "collapsed": false,
    "pycharm": {
     "name": "#%% md\n"
    }
   },
   "source": [
    "### 定数を定義\n",
    "\n",
    "No constants are required right now"
   ]
  },
  {
   "cell_type": "markdown",
   "metadata": {
    "collapsed": false,
    "pycharm": {
     "name": "#%% md\n"
    }
   },
   "source": [
    "### 変数の定義\n",
    " 適宜変更する"
   ]
  },
  {
   "cell_type": "code",
   "execution_count": null,
   "metadata": {
    "collapsed": false,
    "pycharm": {
     "name": "#%%\n"
    }
   },
   "outputs": [],
   "source": [
    "import matplotlib.pyplot as plt\n",
    "import pandas as pd\n",
    "\n",
    "from da_libraries.arrange_data import StrainDataSplitter\n",
    "\n",
    "%matplotlib inline"
   ]
  },
  {
   "cell_type": "code",
   "execution_count": 2,
   "metadata": {
    "collapsed": false,
    "pycharm": {
     "name": "#%%\n"
    }
   },
   "outputs": [
    {
     "name": "stdout",
     "output_type": "stream",
     "text": [
      "Help on class StrainDataSplitter in module kubota_libraries.arrange_data:\n",
      "\n",
      "class StrainDataSplitter(DataOrganizer)\n",
      " |  StrainDataSplitter(should_normalize_data: bool = False, should_flatten_data: bool = False, m: int = 0, frequency_c: int = 0)\n",
      " |  \n",
      " |  ひずみデータの管理、CSVとデータフレームの相互変換、周期の抽出を行うクラス\n",
      " |  \n",
      " |  Method resolution order:\n",
      " |      StrainDataSplitter\n",
      " |      DataOrganizer\n",
      " |      builtins.object\n",
      " |  \n",
      " |  Methods defined here:\n",
      " |  \n",
      " |  __init__(self, should_normalize_data: bool = False, should_flatten_data: bool = False, m: int = 0, frequency_c: int = 0)\n",
      " |      Args:\n",
      " |          should_normalize_data: データを標準化するかどうか (bool)\n",
      " |          should_flatten_data: データを平滑化するかどうか (bool)\n",
      " |          m: 平滑化のパラメータm (int)\n",
      " |          frequency_c: 平滑化のパラメータfrequency_c (int)\n",
      " |  \n",
      " |  save_data(self, file_format: str) -> None\n",
      " |      この関数は指定されたフォーマットでデータを保存します。サポートされているフォーマットは 'csv', 'pkl', 'npy' です。\n",
      " |      'csv' および 'pkl' の場合、split_strain_data_dfs の各データフレームは別々のファイルに保存されます。\n",
      " |      'npy' の場合は、すべてのデータフレームが一つの numpy 配列に統合され、その配列がファイルに保存されます。\n",
      " |      \n",
      " |      Args:\n",
      " |          file_format: データの保存形式。'csv'、'pkl'、または 'npy'。\n",
      " |      \n",
      " |      Raises:\n",
      " |          ValueError: サポートされていないフォーマットが指定された場合。\n",
      " |  \n",
      " |  split_strain_data(self, mode: str, value: float) -> None\n",
      " |      データを分割する関数。\n",
      " |      Args:\n",
      " |          mode: 分割方法。'random'または'period'が指定可能。\n",
      " |          value: \"random\"モードの場合は分割数split_num、\"period\"の場合はtime_over_periodを代入\n",
      " |          ※time_over_periodは周期に対する無次元時間（例：0.5に設定したら周期の半分でカット\n",
      " |  \n",
      " |  ----------------------------------------------------------------------\n",
      " |  Methods inherited from DataOrganizer:\n",
      " |  \n",
      " |  calculate_filter_frequency_response(self, should_db: bool = True)\n",
      " |      フィルタの周波数応答を計算し、その結果を返す関数。\n",
      " |      Args:\n",
      " |          should_db: デシベルに変換するかどうか\n",
      " |      Returns:\n",
      " |          w: 周波数レスポンス\n",
      " |          amp_dB: デシベル変換された振幅（should_db=Trueの場合）\n",
      " |  \n",
      " |  update_filter_parameters(self, m, frequency_c) -> None\n",
      " |      平滑化のパラメータmとfrequency_cを更新し、フィルター係数を再計算する関数。\n",
      " |      Args:\n",
      " |          m: 平滑化のパラメータm (int)\n",
      " |          frequency_c: 平滑化のパラメータfrequency_c (int)\n",
      " |  \n",
      " |  ----------------------------------------------------------------------\n",
      " |  Data descriptors inherited from DataOrganizer:\n",
      " |  \n",
      " |  __dict__\n",
      " |      dictionary for instance variables (if defined)\n",
      " |  \n",
      " |  __weakref__\n",
      " |      list of weak references to the object (if defined)\n",
      "\n"
     ]
    }
   ],
   "source": [
    "help(StrainDataSplitter)"
   ]
  },
  {
   "cell_type": "markdown",
   "metadata": {
    "collapsed": false,
    "pycharm": {
     "name": "#%% md\n"
    }
   },
   "source": [
    "実験データをスプリットしたCSV file, pngを作る"
   ]
  },
  {
   "cell_type": "code",
   "execution_count": 3,
   "metadata": {
    "collapsed": false,
    "pycharm": {
     "name": "#%%\n"
    }
   },
   "outputs": [],
   "source": [
    "split_num = 5"
   ]
  },
  {
   "cell_type": "code",
   "execution_count": 4,
   "metadata": {
    "collapsed": false,
    "pycharm": {
     "name": "#%%\n"
    }
   },
   "outputs": [
    {
     "name": "stdout",
     "output_type": "stream",
     "text": [
      "No offset is conducted\n"
     ]
    },
    {
     "data": {
      "application/vnd.jupyter.widget-view+json": {
       "model_id": "ca9fa60bf092419ca9edc353b767dc0f",
       "version_major": 2,
       "version_minor": 0
      },
      "text/plain": [
       "  0%|          | 0/11 [00:00<?, ?it/s]"
      ]
     },
     "metadata": {},
     "output_type": "display_data"
    },
    {
     "name": "stdout",
     "output_type": "stream",
     "text": [
      "0deg: 2\n",
      "10deg: 2\n",
      "20deg: 2\n",
      "30deg: 2\n",
      "40deg: 2\n",
      "50deg: 2\n",
      "60deg: 2\n",
      "70deg: 2\n",
      "80deg: 2\n",
      "90deg: 2\n",
      "No Wind: 2\n",
      "No offset is conducted\n"
     ]
    },
    {
     "data": {
      "application/vnd.jupyter.widget-view+json": {
       "model_id": "25fe5728ac594395a13c592696238396",
       "version_major": 2,
       "version_minor": 0
      },
      "text/plain": [
       "  0%|          | 0/11 [00:00<?, ?it/s]"
      ]
     },
     "metadata": {},
     "output_type": "display_data"
    },
    {
     "name": "stdout",
     "output_type": "stream",
     "text": [
      "0deg: 2\n",
      "10deg: 2\n",
      "20deg: 2\n",
      "30deg: 2\n",
      "40deg: 2\n",
      "50deg: 2\n",
      "60deg: 2\n",
      "70deg: 2\n",
      "80deg: 2\n",
      "90deg: 2\n",
      "No Wind: 2\n",
      "Found 11 folders.\n",
      "After checking the graph of raw data (arranged_strain_dataframes), implement get_split_strain_data_dfs.\n"
     ]
    }
   ],
   "source": [
    "strain_data_splitter = StrainDataSplitter(should_flatten_data=True,should_normalize_data=True, m=1050, frequency_c=20)"
   ]
  },
  {
   "cell_type": "code",
   "execution_count": 36,
   "metadata": {
    "collapsed": false,
    "pycharm": {
     "name": "#%%\n"
    }
   },
   "outputs": [],
   "source": [
    "strain_data_splitter.update_filter_parameters(m=1020, frequency_c=20)"
   ]
  },
  {
   "cell_type": "code",
   "execution_count": 37,
   "metadata": {
    "collapsed": false,
    "pycharm": {
     "name": "#%%\n"
    }
   },
   "outputs": [
    {
     "data": {
      "image/png": "[encoded data removed]",
      "text/plain": [
       "<Figure size 432x288 with 1 Axes>"
      ]
     },
     "metadata": {
      "needs_background": "light"
     },
     "output_type": "display_data"
    }
   ],
   "source": [
    "should_db = False\n",
    "\n",
    "w, amp_dB = strain_data_splitter.calculate_filter_frequency_response(should_db=should_db)\n",
    "\n",
    "# プロット\n",
    "fig = plt.figure()\n",
    "plt.title('Digital filter frequency response')\n",
    "ax = plt.gca()\n",
    "ax.set_xlim([0, 150])\n",
    "ax.set_ylim([0, 1.1])\n",
    "\n",
    "# 振幅応答のプロット\n",
    "# ax1 = fig.add_subplot(111)\n",
    "plt.plot(w, amp_dB, 'r')\n",
    "\n",
    "if should_db:\n",
    "    plt.ylabel('Amplitude [dB]', color='r')\n",
    "else:\n",
    "    plt.ylabel('Amplitude', color='r')\n",
    "\n",
    "plt.xlabel('Frequency [Hz]')\n",
    "plt.grid()\n",
    "# ax1.set_ylim(np.minimum(ylim_min_dB, np.min(amp_dB)), 0)\n",
    "\n",
    "plt.show()\n",
    "\n",
    "# fig.figure.savefig(\"filter.png\")"
   ]
  },
  {
   "cell_type": "code",
   "execution_count": 38,
   "metadata": {
    "collapsed": false,
    "pycharm": {
     "name": "#%%\n"
    }
   },
   "outputs": [
    {
     "data": {
      "image/png": "[encoded data removed]",
      "text/plain": [
       "<Figure size 1080x720 with 1 Axes>"
      ]
     },
     "metadata": {
      "needs_background": "light"
     },
     "output_type": "display_data"
    }
   ],
   "source": [
    "should_db = False\n",
    "file_name = \"filter2.svg\"\n",
    "\n",
    "w, amp_dB = strain_data_splitter.calculate_filter_frequency_response(should_db=should_db)\n",
    "\n",
    "# プロット\n",
    "fig = plt.figure(figsize=(15, 10))\n",
    "plt.title('Digital filter frequency response')\n",
    "ax = plt.gca()\n",
    "ax.set_xlim([0, 50])\n",
    "ax.set_ylim([-1.1, 1.1])\n",
    "\n",
    "# 振幅応答のプロット\n",
    "# ax1 = fig.add_subplot(111)\n",
    "\n",
    "\n",
    "plt.plot(w, amp_dB, 'r')\n",
    "\n",
    "if should_db:\n",
    "    plt.ylabel('Amplitude [dB]', color='r')\n",
    "else:\n",
    "    plt.ylabel('Amplitude', color='r')\n",
    "\n",
    "plt.xlabel('Frequency [Hz]')\n",
    "plt.grid()\n",
    "# ax1.set_ylim(np.minimum(ylim_min_dB, np.min(amp_dB)), 0)\n",
    "\n",
    "\n",
    "plt.show()"
   ]
  },
  {
   "cell_type": "code",
   "execution_count": 39,
   "metadata": {
    "collapsed": false,
    "pycharm": {
     "name": "#%%\n"
    }
   },
   "outputs": [],
   "source": [
    "# fig.figure.savefig(file_name)"
   ]
  },
  {
   "cell_type": "code",
   "execution_count": 40,
   "metadata": {
    "collapsed": false,
    "pycharm": {
     "name": "#%%\n"
    }
   },
   "outputs": [
    {
     "data": {
      "image/png": "[encoded data removed]",
      "text/plain": [
       "<Figure size 1440x720 with 1 Axes>"
      ]
     },
     "metadata": {
      "needs_background": "light"
     },
     "output_type": "display_data"
    }
   ],
   "source": [
    "should_db = True\n",
    "file_name = \"filter2_db.svg\"\n",
    "\n",
    "w, amp_dB = strain_data_splitter.calculate_filter_frequency_response(should_db=should_db)\n",
    "\n",
    "# プロット\n",
    "fig = plt.figure(figsize=(20, 10))\n",
    "plt.title('Digital filter frequency response')\n",
    "ax = plt.gca()\n",
    "ax.set_xlim([0, 10000])\n",
    "# ax.set_ylim([-1.1, 1.1])\n",
    "\n",
    "# 振幅応答のプロット\n",
    "# ax1 = fig.add_subplot(111)\n",
    "\n",
    "\n",
    "plt.plot(w, amp_dB, 'r')\n",
    "\n",
    "if should_db:\n",
    "    plt.ylabel('Amplitude [dB]', color='r')\n",
    "else:\n",
    "    plt.ylabel('Amplitude', color='r')\n",
    "\n",
    "plt.xlabel('Frequency [Hz]')\n",
    "plt.grid()\n",
    "# ax1.set_ylim(np.minimum(ylim_min_dB, np.min(amp_dB)), 0)\n",
    "\n",
    "\n",
    "plt.show()"
   ]
  },
  {
   "cell_type": "code",
   "execution_count": 41,
   "metadata": {
    "collapsed": false,
    "pycharm": {
     "name": "#%%\n"
    }
   },
   "outputs": [],
   "source": [
    "# fig.figure.savefig(file_name)"
   ]
  },
  {
   "cell_type": "code",
   "execution_count": 42,
   "metadata": {
    "collapsed": false,
    "pycharm": {
     "name": "#%%\n"
    }
   },
   "outputs": [
    {
     "data": {
      "application/vnd.jupyter.widget-view+json": {
       "model_id": "bae3dcce3afd41c8945a063fcb8527df",
       "version_major": 2,
       "version_minor": 0
      },
      "text/plain": [
       "  0%|          | 0/11 [00:00<?, ?it/s]"
      ]
     },
     "metadata": {},
     "output_type": "display_data"
    },
    {
     "name": "stdout",
     "output_type": "stream",
     "text": [
      "0deg: 920\n",
      "10deg: 920\n",
      "20deg: 920\n",
      "30deg: 920\n",
      "40deg: 920\n",
      "50deg: 920\n",
      "60deg: 920\n",
      "70deg: 920\n",
      "80deg: 920\n",
      "90deg: 920\n",
      "No Wind: 920\n"
     ]
    }
   ],
   "source": [
    "# split_num = 6\n",
    "# strain_data_splitter.split_strain_data(\"random\", split_num)\n",
    "\n",
    "time_over_period = 0.5\n",
    "strain_data_splitter.split_strain_data(\"period\", time_over_period)"
   ]
  },
  {
   "cell_type": "code",
   "execution_count": 43,
   "metadata": {
    "collapsed": false,
    "pycharm": {
     "name": "#%%\n"
    }
   },
   "outputs": [
    {
     "name": "stdout",
     "output_type": "stream",
     "text": [
      "Data is already flattened.\n",
      "0deg: 4676\n",
      "10deg: 4676\n",
      "20deg: 4676\n",
      "30deg: 4676\n",
      "40deg: 4676\n",
      "50deg: 4676\n",
      "60deg: 4676\n",
      "70deg: 4676\n",
      "80deg: 4676\n",
      "90deg: 4676\n",
      "No Wind: 4676\n",
      "Didn't save 0 dataframes.\n",
      "Data is already flattened.\n",
      "0deg: 2308\n",
      "10deg: 2308\n",
      "20deg: 2308\n",
      "30deg: 2308\n",
      "40deg: 2308\n",
      "50deg: 2308\n",
      "60deg: 2308\n",
      "70deg: 2308\n",
      "80deg: 2308\n",
      "90deg: 2308\n",
      "No Wind: 2308\n",
      "Didn't save 0 dataframes.\n",
      "Data is already flattened.\n",
      "0deg: 920\n",
      "10deg: 920\n",
      "20deg: 920\n",
      "30deg: 920\n",
      "40deg: 920\n",
      "50deg: 920\n",
      "60deg: 920\n",
      "70deg: 920\n",
      "80deg: 920\n",
      "90deg: 920\n",
      "No Wind: 920\n",
      "Didn't save 0 dataframes.\n",
      "Data is already flattened.\n",
      "0deg: 460\n",
      "10deg: 460\n",
      "20deg: 460\n",
      "30deg: 460\n",
      "40deg: 460\n",
      "50deg: 460\n",
      "60deg: 460\n",
      "70deg: 460\n",
      "80deg: 460\n",
      "90deg: 460\n",
      "No Wind: 460\n",
      "Didn't save 0 dataframes.\n"
     ]
    }
   ],
   "source": [
    "for time_over_period in [0.1, 0.2, 0.5, 1]:\n",
    "    strain_data_splitter.split_strain_data(\"period\", time_over_period)\n",
    "    strain_data_splitter.save_data(\"pkl\")\n",
    "    strain_data_splitter.save_data(\"npy\")"
   ]
  },
  {
   "cell_type": "code",
   "execution_count": null,
   "metadata": {
    "collapsed": false,
    "pycharm": {
     "name": "#%%\n"
    }
   },
   "outputs": [],
   "source": []
  }
 ],
 "metadata": {
  "kernelspec": {
   "display_name": "Python 3 (ipykernel)",
   "language": "python",
   "name": "python3"
  },
  "language_info": {
   "codemirror_mode": {
    "name": "ipython",
    "version": 3
   },
   "file_extension": ".py",
   "mimetype": "text/x-python",
   "name": "python",
   "nbconvert_exporter": "python",
   "pygments_lexer": "ipython3",
   "version": "3.9.7"
  }
 },
 "nbformat": 4,
 "nbformat_minor": 1
}
