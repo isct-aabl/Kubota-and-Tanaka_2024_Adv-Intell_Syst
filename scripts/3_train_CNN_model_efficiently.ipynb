{
 "cells": [
  {
   "cell_type": "code",
   "execution_count": null,
   "metadata": {
    "collapsed": false,
    "pycharm": {
     "name": "#%%\n"
    }
   },
   "outputs": [
    {
     "name": "stderr",
     "output_type": "stream",
     "text": [
      "2024-01-18 01:25:13.930502: I tensorflow/core/platform/cpu_feature_guard.cc:193] This TensorFlow binary is optimized with oneAPI Deep Neural Network Library (oneDNN) to use the following CPU instructions in performance-critical operations:  AVX2 AVX_VNNI FMA\n",
      "To enable them in other operations, rebuild TensorFlow with the appropriate compiler flags.\n",
      "2024-01-18 01:25:14.433666: I tensorflow/core/util/util.cc:169] oneDNN custom operations are on. You may see slightly different numerical results due to floating-point round-off errors from different computation orders. To turn them off, set the environment variable `TF_ENABLE_ONEDNN_OPTS=0`.\n",
      "2024-01-18 01:25:14.637430: E tensorflow/stream_executor/cuda/cuda_blas.cc:2981] Unable to register cuBLAS factory: Attempting to register factory for plugin cuBLAS when one has already been registered\n",
      "2024-01-18 01:25:15.625467: W tensorflow/stream_executor/platform/default/dso_loader.cc:64] Could not load dynamic library 'libnvinfer.so.7'; dlerror: libnvinfer.so.7: cannot open shared object file: No such file or directory; LD_LIBRARY_PATH: :/usr/local/cuda/extras/CUPTI/lib64:/usr/local/cuda/lib64\n",
      "2024-01-18 01:25:15.625564: W tensorflow/stream_executor/platform/default/dso_loader.cc:64] Could not load dynamic library 'libnvinfer_plugin.so.7'; dlerror: libnvinfer_plugin.so.7: cannot open shared object file: No such file or directory; LD_LIBRARY_PATH: :/usr/local/cuda/extras/CUPTI/lib64:/usr/local/cuda/lib64\n",
      "2024-01-18 01:25:15.625569: W tensorflow/compiler/tf2tensorrt/utils/py_utils.cc:38] TF-TRT Warning: Cannot dlopen some TensorRT libraries. If you would like to use Nvidia GPU with TensorRT, please make sure the missing libraries mentioned above are installed properly.\n"
     ]
    }
   ],
   "source": [
    "import tensorflow as tf\n",
    "from tqdm.notebook import tqdm\n",
    "\n",
    "from da_libraries.manage_data_for_ml import CNNModelTrainer\n",
    "\n",
    "tf.random.set_seed(40)\n",
    "\n",
    "%matplotlib inline\n",
    "%load_ext tensorboard"
   ]
  },
  {
   "cell_type": "code",
   "execution_count": 2,
   "metadata": {},
   "outputs": [
    {
     "name": "stdout",
     "output_type": "stream",
     "text": [
      "240104_w_shaftで良いですか？\n"
     ]
    }
   ],
   "source": [
    "from settings.general_variables import setting_yaml_file_base\n",
    "print(f\"{setting_yaml_file_base}で良いですか？\")"
   ]
  },
  {
   "cell_type": "markdown",
   "metadata": {
    "collapsed": false,
    "pycharm": {
     "name": "#%% md\n"
    }
   },
   "source": [
    "ファイルのパスを指定"
   ]
  },
  {
   "cell_type": "markdown",
   "metadata": {
    "collapsed": false,
    "pycharm": {
     "name": "#%% md\n"
    }
   },
   "source": [
    "Load input_datasets and answer_datasets.\n",
    "\n",
    "* It can't deal with data split per period."
   ]
  },
  {
   "cell_type": "code",
   "execution_count": 3,
   "metadata": {
    "collapsed": false,
    "pycharm": {
     "name": "#%%\n"
    }
   },
   "outputs": [
    {
     "name": "stdout",
     "output_type": "stream",
     "text": [
      "Help on class CNNModelTrainer in module kubota_libraries.manage_data_for_ml:\n",
      "\n",
      "class CNNModelTrainer(BaseCNNModel)\n",
      " |  CNNModelTrainer(test_size, random_state)\n",
      " |  \n",
      " |  CNNモデルを訓練するクラス。\n",
      " |  Args:\n",
      " |      test_size: テストデータの割合（デフォルトは0.20）\n",
      " |      random_state: 乱数の種（デフォルトは40）\n",
      " |  \n",
      " |  Method resolution order:\n",
      " |      CNNModelTrainer\n",
      " |      BaseCNNModel\n",
      " |      builtins.object\n",
      " |  \n",
      " |  Methods defined here:\n",
      " |  \n",
      " |  __init__(self, test_size, random_state)\n",
      " |      Initialize self.  See help(type(self)) for accurate signature.\n",
      " |  \n",
      " |  check_folders_existence(self, should_use_flatten_data_list, should_normalize_list, which_channels_list, chosen_parameter_folder_names_list, m_and_cfs=[{}])\n",
      " |      指定されたパラメータの組み合わせごとに、訓練データのフォルダが存在するかどうかをチェックする関数。\n",
      " |      \n",
      " |      Args:\n",
      " |          should_use_flatten_data_list (list): データをフラット化するかどうかを指定するブール値のリスト。\n",
      " |          should_normalize_list (list): データを正規化するかどうかを指定するブール値のリスト。\n",
      " |          which_channels_list (list): 使用するチャンネルを指定する文字列のリスト。\n",
      " |          chosen_parameter_folder_names_list (list): パラメータを分割するために選択されたフォルダ名のリスト。\n",
      " |      \n",
      " |      Returns:\n",
      " |          None. 存在しないフォルダがある場合はその情報を出力し、全てのフォルダが存在する場合はその旨を出力する。\n",
      " |      \n",
      " |      Note:\n",
      " |          各リストの全ての組み合わせについてチェックを行う。各組み合わせごとに設定を更新し、対応する訓練データのフォルダの存在を確認する。\n",
      " |  \n",
      " |  get_model(self, optimizer, loss, metrics)\n",
      " |      モデルを作成します。\n",
      " |      Args:\n",
      " |          optimizer:\n",
      " |          loss:\n",
      " |          metrics:\n",
      " |  \n",
      " |  save_model(self)\n",
      " |      現在のモデルを保存します。\n",
      " |  \n",
      " |  train_model(self, epochs, verbose, validation_split, batch_size, mode='manual')\n",
      " |      モデルを訓練します。\n",
      " |      Args:\n",
      " |          epochs:\n",
      " |          verbose:\n",
      " |          validation_split:\n",
      " |          batch_size:\n",
      " |          mode:\n",
      " |  \n",
      " |  update_settings(self)\n",
      " |      各種設定をユーザーとインタラクティブに行います。\n",
      " |  \n",
      " |  update_settings_efficiently(self, should_use_flatten_data, should_normalize, chosen_parameter_folder_name, which_channel, m_and_cf={})\n",
      " |      各種設定を変数を用いてより効率的に行います。\n",
      " |      繰り返し文等で、複数の設定による学習を行いたいときに利用します。\n",
      " |  \n",
      " |  ----------------------------------------------------------------------\n",
      " |  Methods inherited from BaseCNNModel:\n",
      " |  \n",
      " |  evaluate_average_inference_time(self, warmup_rounds=2, measure_rounds=10)\n",
      " |      モデルの推論にかかる平均時間を計測します。初期の数回（デフォルトでは2回）の推論は\n",
      " |      モデルやハードウェアのウォームアップに使用され、計測から除外されます。その後、\n",
      " |      指定された回数（デフォルトでは10回）の推論を行い、それらの推論にかかる時間の平均を計算します。\n",
      " |      \n",
      " |      Args:\n",
      " |          warmup_rounds : ウォームアップのラウンド数 (デフォルト: 2)\n",
      " |          measure_rounds : 推論時間を計測するラウンド数 (デフォルト: 10)\n",
      " |      \n",
      " |      Returns:\n",
      " |          average_time : 推論にかかる平均時間（秒）\n",
      " |  \n",
      " |  evaluate_model(self, measure_inference_time=True, measure_memory_usage=True, measure_flops=True)\n",
      " |  \n",
      " |  evaluate_model_flops(self)\n",
      " |      モデルのFLOPS（Floating Point Operations Per Second）を計測します。この関数は、\n",
      " |      モデルが1秒間に実行する浮動小数点演算の数を推定し、モデルの計算効率を評価します。\n",
      " |      FLOPSの高いモデルはより多くの演算を高速に処理できることを意味しますが、\n",
      " |      通常、より多くのエネルギー消費やハードウェアリソースを必要とします。\n",
      " |      \n",
      " |      Returns:\n",
      " |          flops : モデルのFLOPS\n",
      " |  \n",
      " |  evaluate_model_memory_usage(self)\n",
      " |  \n",
      " |  load_train_test_data(self)\n",
      " |      訓練データとテストデータを取得します。\n",
      " |      Returns:\n",
      " |          numpy array: 訓練データとテストデータ（入力とラベル）\n",
      " |  \n",
      " |  optimal_epochs(self)\n",
      " |      historyを使って、モデルが最適な状態の時のインデックス（epochs）を出力する。\n",
      " |      最適な状態は以下の通り\n",
      " |      ・loss, val_lossが最小の時のepochs（index+1)とその時のloss, val_lossの値\n",
      " |      ・accuracy, val_accuracyが最小の時のepochs（index+1)とその時のaccuracy, val_accuracyの値\n",
      " |  \n",
      " |  plot_history(self)\n",
      " |      historyを折れ線グラフで表示する。\n",
      " |  \n",
      " |  visualize_confusion_matrix(self, output_type='num')\n",
      " |      予測結果の混同行列を視覚化し、オプションでCSV形式で保存します。\n",
      " |      \n",
      " |      Args:\n",
      " |          output_type (str): 混同行列の出力形式。\"num\"は実際の数値、\"percentage\"はパーセンテージを示します。\n",
      " |      \n",
      " |      Returns:\n",
      " |          fig (matplotlib.figure.Figure): 混同行列の視覚化を含むmatplotlib Figure オブジェクトを返します。\n",
      " |  \n",
      " |  ----------------------------------------------------------------------\n",
      " |  Data descriptors inherited from BaseCNNModel:\n",
      " |  \n",
      " |  __dict__\n",
      " |      dictionary for instance variables (if defined)\n",
      " |  \n",
      " |  __weakref__\n",
      " |      list of weak references to the object (if defined)\n",
      "\n"
     ]
    }
   ],
   "source": [
    "help(CNNModelTrainer)"
   ]
  },
  {
   "cell_type": "code",
   "execution_count": 4,
   "metadata": {
    "collapsed": false,
    "pycharm": {
     "name": "#%%\n"
    }
   },
   "outputs": [],
   "source": [
    "cnn_data_trainer = CNNModelTrainer(test_size=0.20, random_state=40)"
   ]
  },
  {
   "cell_type": "code",
   "execution_count": 5,
   "metadata": {
    "collapsed": false,
    "pycharm": {
     "name": "#%%\n"
    }
   },
   "outputs": [],
   "source": [
    "# should_use_flatten_data_list = [False]\n",
    "# should_normalize_list = [True, False]\n",
    "# # should_normalize_list = [True]\n",
    "# # should_normalize_list = [False, True]\n",
    "# # which_channels_list = [\"\", \"123456\", \"12\", \"3456\", \"127\", \"34567\"]\n",
    "# # which_channels_list = [\"1\", \"2\", \"3\", \"4\", \"5\", \"6\", \"17\",\"12\",\"123\",\"124\",\"125\",\"126\", \"3456\", \"123456\", \"\"]\n",
    "# # which_channels_list = [\"1\", \"18\", \"2\", \"3\", \"4\", \"5\", \"6\", \"7\", \"12\", \"34567\", \"345678\", \"1234567\", \"\"]\n",
    "\n",
    "# ### 注意\n",
    "# # epoch数を確認・保存\n",
    "# # 学習時間を記録\n",
    "# # 学習したモデルを保存！！\n",
    "\n",
    "# which_channels_list = [\"\", \"1\"]\n",
    "# chosen_parameter_folder_names_list = [\n",
    "#     \"data_split_by_1_period\",\n",
    "#     \"data_split_by_0.5_period\",\n",
    "#     \"data_split_by_0.2_period\",\n",
    "# ]\n",
    "# # chosen_parameter_folder_names_list = [\n",
    "# #     \"data_split_by_0.1_period\"\n",
    "# # ]"
   ]
  },
  {
   "cell_type": "code",
   "execution_count": 6,
   "metadata": {},
   "outputs": [],
   "source": [
    "# # should_use_flatten_data_list = [False]\n",
    "# should_use_flatten_data_list = [True]\n",
    "# should_normalize_list = [False]\n",
    "# # should_normalize_list = [True]\n",
    "# # should_normalize_list = [False, True]\n",
    "\n",
    "# which_channels_list = [\"\", \"1234567\", \"1\", \"2\", \"3\", \"4\", \"5\", \"6\", \"7\"]\n",
    "# chosen_parameter_folder_names_list = [\n",
    "#     \"data_split_by_1_period\",\n",
    "#     \"data_split_by_0.5_period\",\n",
    "#     \"data_split_by_0.2_period\",\n",
    "# ]\n",
    "# m_and_cfs = [{\"m\": 6500, \"frequency_c\": 100}, {\"m\": 3500, \"frequency_c\": 200}, {\"m\": 3000, \"frequency_c\": 400}]\n",
    "# # chosen_parameter_folder_names_list = [\n",
    "# #     \"data_split_by_0.1_period\"\n",
    "# # ]\n",
    "\n",
    "# cnn_data_trainer.check_folders_existence(should_use_flatten_data_list, should_normalize_list, which_channels_list, chosen_parameter_folder_names_list, m_and_cfs)"
   ]
  },
  {
   "cell_type": "code",
   "execution_count": 7,
   "metadata": {
    "collapsed": false,
    "pycharm": {
     "is_executing": true,
     "name": "#%%\n"
    }
   },
   "outputs": [],
   "source": [
    "# from tensorflow.keras import backend\n",
    "\n",
    "# for should_use_flatten_data in tqdm(should_use_flatten_data_list):\n",
    "#     for should_normalize in tqdm(should_normalize_list):\n",
    "#         for which_channel in tqdm(which_channels_list):\n",
    "#             for chosen_parameter_folder_name in tqdm(chosen_parameter_folder_names_list):\n",
    "#                 for m_and_cf in m_and_cfs:\n",
    "#                     cnn_data_trainer.update_settings_efficiently(\n",
    "#                         should_use_flatten_data=should_use_flatten_data,\n",
    "#                         should_normalize=should_normalize,\n",
    "#                         which_channel=which_channel,\n",
    "#                         chosen_parameter_folder_name=chosen_parameter_folder_name,\n",
    "#                         m_and_cf=m_and_cf,\n",
    "#                     )\n",
    "#                     cnn_data_trainer.load_train_test_data()\n",
    "\n",
    "#                     cnn_data_trainer.get_model(optimizer='adam',\n",
    "#                                                 loss='sparse_categorical_crossentropy',\n",
    "#                                                 metrics=['accuracy'])\n",
    "#                     cnn_data_trainer.train_model(epochs=1, verbose=0, validation_split=0.2, batch_size=100)\n",
    "#                     # cnn_data_trainer.train_model(epochs=20000, verbose=0, validation_split=0.2, batch_size=100)\n",
    "#                     cnn_data_trainer.save_model(\n",
    "\n",
    "#                     )\n",
    "\n",
    "#                     print(\"\\n\\n\\n\")\n",
    "\n",
    "#                 # セッションのクリア\n",
    "\n",
    "#                 backend.clear_session()"
   ]
  },
  {
   "cell_type": "code",
   "execution_count": 8,
   "metadata": {},
   "outputs": [
    {
     "name": "stdout",
     "output_type": "stream",
     "text": [
      "/cutoff100_m6500\n",
      "/cutoff200_m3500\n",
      "/cutoff400_m3000\n",
      "/cutoff100_m6500\n",
      "/cutoff200_m3500\n",
      "/cutoff400_m3000\n",
      "/cutoff100_m6500\n",
      "/cutoff200_m3500\n",
      "/cutoff400_m3000\n",
      "All folders exist.\n"
     ]
    }
   ],
   "source": [
    "# should_use_flatten_data_list = [False]\n",
    "should_use_flatten_data_list = [True]\n",
    "should_normalize_list = [False]\n",
    "# should_normalize_list = [True]\n",
    "# should_normalize_list = [False, True]\n",
    "\n",
    "# which_channels_list = [\"\", \"1234567\", \"1\", \"2\", \"3\", \"4\", \"5\", \"6\", \"7\"]\n",
    "which_channels_list = [\"7\"]\n",
    "chosen_parameter_folder_names_list = [\n",
    "    \"data_split_by_1_period\",\n",
    "    \"data_split_by_0.5_period\",\n",
    "    \"data_split_by_0.2_period\",\n",
    "]\n",
    "m_and_cfs = [{\"m\": 6500, \"frequency_c\": 100}, {\"m\": 3500, \"frequency_c\": 200}, {\"m\": 3000, \"frequency_c\": 400}]\n",
    "# m_and_cfs = [{\"m\": 6500, \"frequency_c\": 100}, {\"m\": 3500, \"frequency_c\": 200}]\n",
    "# chosen_parameter_folder_names_list = [\n",
    "#     \"data_split_by_0.1_period\"\n",
    "# ]\n",
    "\n",
    "cnn_data_trainer.check_folders_existence(should_use_flatten_data_list, should_normalize_list, which_channels_list, chosen_parameter_folder_names_list, m_and_cfs)"
   ]
  },
  {
   "cell_type": "code",
   "execution_count": 9,
   "metadata": {
    "collapsed": false,
    "pycharm": {
     "name": "#%%\n"
    }
   },
   "outputs": [
    {
     "data": {
      "application/vnd.jupyter.widget-view+json": {
       "model_id": "c29fc77c7fa245139a99eafd6091780b",
       "version_major": 2,
       "version_minor": 0
      },
      "text/plain": [
       "  0%|          | 0/1 [00:00<?, ?it/s]"
      ]
     },
     "metadata": {},
     "output_type": "display_data"
    },
    {
     "data": {
      "application/vnd.jupyter.widget-view+json": {
       "model_id": "2244245356b74157a3ab68f474fabe10",
       "version_major": 2,
       "version_minor": 0
      },
      "text/plain": [
       "  0%|          | 0/1 [00:00<?, ?it/s]"
      ]
     },
     "metadata": {},
     "output_type": "display_data"
    },
    {
     "data": {
      "application/vnd.jupyter.widget-view+json": {
       "model_id": "d060fd94fc7d467cb3fc62e9055b9053",
       "version_major": 2,
       "version_minor": 0
      },
      "text/plain": [
       "  0%|          | 0/1 [00:00<?, ?it/s]"
      ]
     },
     "metadata": {},
     "output_type": "display_data"
    },
    {
     "data": {
      "application/vnd.jupyter.widget-view+json": {
       "model_id": "78c092642f254d0a96afe9dcf0884447",
       "version_major": 2,
       "version_minor": 0
      },
      "text/plain": [
       "  0%|          | 0/3 [00:00<?, ?it/s]"
      ]
     },
     "metadata": {},
     "output_type": "display_data"
    },
    {
     "data": {
      "application/vnd.jupyter.widget-view+json": {
       "model_id": "01a93e37ca9c415aaec14afbd6af10f9",
       "version_major": 2,
       "version_minor": 0
      },
      "text/plain": [
       "  0%|          | 0/3 [00:00<?, ?it/s]"
      ]
     },
     "metadata": {},
     "output_type": "display_data"
    },
    {
     "name": "stdout",
     "output_type": "stream",
     "text": [
      "/cutoff100_m6500\n",
      "7\n",
      "Should Flatten:  True\n",
      "Split parameter:  data_split_by_1_period\n",
      "Which Channel:  SG7\n",
      "Should Normalize: False\n",
      "Num of train data：3993 (0deg：499 / 15deg：499 / 30deg：499 / 45deg：499 / 60deg：499 / 75deg：499 / 90deg：499 / No Wind：500)\n",
      "Num of test data：999 (0deg：125 / 15deg：125 / 30deg：125 / 45deg：125 / 60deg：125 / 75deg：125 / 90deg：125 / No Wind：124)\n",
      "Model: \"model\"\n",
      "_________________________________________________________________\n",
      " Layer (type)                Output Shape              Param #   \n",
      "=================================================================\n",
      " input_1 (InputLayer)        [(None, 833, 1)]          0         \n",
      "                                                                 \n",
      " conv1d (Conv1D)             (None, 578, 16)           4112      \n",
      "                                                                 \n",
      " re_lu (ReLU)                (None, 578, 16)           0         \n",
      "                                                                 \n",
      " batch_normalization (BatchN  (None, 578, 16)          64        \n",
      " ormalization)                                                   \n",
      "                                                                 \n",
      " dropout (Dropout)           (None, 578, 16)           0         \n",
      "                                                                 \n",
      " conv1d_1 (Conv1D)           (None, 451, 16)           32784     \n",
      "                                                                 \n",
      " re_lu_1 (ReLU)              (None, 451, 16)           0         \n",
      "                                                                 \n",
      " batch_normalization_1 (Batc  (None, 451, 16)          64        \n",
      " hNormalization)                                                 \n",
      "                                                                 \n",
      " dropout_1 (Dropout)         (None, 451, 16)           0         \n",
      "                                                                 \n",
      " conv1d_2 (Conv1D)           (None, 388, 16)           16400     \n",
      "                                                                 \n",
      " re_lu_2 (ReLU)              (None, 388, 16)           0         \n",
      "                                                                 \n",
      " batch_normalization_2 (Batc  (None, 388, 16)          64        \n",
      " hNormalization)                                                 \n",
      "                                                                 \n",
      " dropout_2 (Dropout)         (None, 388, 16)           0         \n",
      "                                                                 \n",
      " conv1d_3 (Conv1D)           (None, 357, 16)           8208      \n",
      "                                                                 \n",
      " re_lu_3 (ReLU)              (None, 357, 16)           0         \n",
      "                                                                 \n",
      " batch_normalization_3 (Batc  (None, 357, 16)          64        \n",
      " hNormalization)                                                 \n",
      "                                                                 \n",
      " dropout_3 (Dropout)         (None, 357, 16)           0         \n",
      "                                                                 \n",
      " conv1d_4 (Conv1D)           (None, 342, 16)           4112      \n",
      "                                                                 \n",
      " re_lu_4 (ReLU)              (None, 342, 16)           0         \n",
      "                                                                 \n",
      " batch_normalization_4 (Batc  (None, 342, 16)          64        \n",
      " hNormalization)                                                 \n",
      "                                                                 \n",
      " dropout_4 (Dropout)         (None, 342, 16)           0         \n",
      "                                                                 \n",
      " flatten (Flatten)           (None, 5472)              0         \n",
      "                                                                 \n",
      " dense (Dense)               (None, 8)                 43784     \n",
      "                                                                 \n",
      " tf.nn.softmax (TFOpLambda)  (None, 8)                 0         \n",
      "                                                                 \n",
      "=================================================================\n",
      "Total params: 109,720\n",
      "Trainable params: 109,560\n",
      "Non-trainable params: 160\n",
      "_________________________________________________________________\n"
     ]
    },
    {
     "name": "stderr",
     "output_type": "stream",
     "text": [
      "2024-01-18 01:28:17.052525: I tensorflow/stream_executor/cuda/cuda_gpu_executor.cc:980] successful NUMA node read from SysFS had negative value (-1), but there must be at least one NUMA node, so returning NUMA node zero\n",
      "2024-01-18 01:28:17.128482: I tensorflow/stream_executor/cuda/cuda_gpu_executor.cc:980] successful NUMA node read from SysFS had negative value (-1), but there must be at least one NUMA node, so returning NUMA node zero\n",
      "2024-01-18 01:28:17.128608: I tensorflow/stream_executor/cuda/cuda_gpu_executor.cc:980] successful NUMA node read from SysFS had negative value (-1), but there must be at least one NUMA node, so returning NUMA node zero\n",
      "2024-01-18 01:28:17.129358: I tensorflow/core/platform/cpu_feature_guard.cc:193] This TensorFlow binary is optimized with oneAPI Deep Neural Network Library (oneDNN) to use the following CPU instructions in performance-critical operations:  AVX2 AVX_VNNI FMA\n",
      "To enable them in other operations, rebuild TensorFlow with the appropriate compiler flags.\n",
      "2024-01-18 01:28:17.129499: I tensorflow/stream_executor/cuda/cuda_gpu_executor.cc:980] successful NUMA node read from SysFS had negative value (-1), but there must be at least one NUMA node, so returning NUMA node zero\n",
      "2024-01-18 01:28:17.129591: I tensorflow/stream_executor/cuda/cuda_gpu_executor.cc:980] successful NUMA node read from SysFS had negative value (-1), but there must be at least one NUMA node, so returning NUMA node zero\n",
      "2024-01-18 01:28:17.129654: I tensorflow/stream_executor/cuda/cuda_gpu_executor.cc:980] successful NUMA node read from SysFS had negative value (-1), but there must be at least one NUMA node, so returning NUMA node zero\n",
      "2024-01-18 01:28:17.985030: I tensorflow/stream_executor/cuda/cuda_gpu_executor.cc:980] successful NUMA node read from SysFS had negative value (-1), but there must be at least one NUMA node, so returning NUMA node zero\n",
      "2024-01-18 01:28:17.985626: I tensorflow/stream_executor/cuda/cuda_gpu_executor.cc:980] successful NUMA node read from SysFS had negative value (-1), but there must be at least one NUMA node, so returning NUMA node zero\n",
      "2024-01-18 01:28:17.985704: I tensorflow/stream_executor/cuda/cuda_gpu_executor.cc:980] successful NUMA node read from SysFS had negative value (-1), but there must be at least one NUMA node, so returning NUMA node zero\n",
      "2024-01-18 01:28:17.985772: I tensorflow/core/common_runtime/gpu/gpu_device.cc:1616] Created device /job:localhost/replica:0/task:0/device:GPU:0 with 14243 MB memory:  -> device: 0, name: NVIDIA RTX A4000, pci bus id: 0000:01:00.0, compute capability: 8.6\n",
      "2024-01-18 01:28:18.244873: I tensorflow/core/profiler/lib/profiler_session.cc:101] Profiler session initializing.\n",
      "2024-01-18 01:28:18.244889: I tensorflow/core/profiler/lib/profiler_session.cc:116] Profiler session started.\n",
      "2024-01-18 01:28:18.245973: I tensorflow/core/profiler/backends/gpu/cupti_tracer.cc:1664] Profiler found 1 GPUs\n",
      "2024-01-18 01:28:18.246177: W tensorflow/stream_executor/platform/default/dso_loader.cc:64] Could not load dynamic library 'libcupti.so.11.2'; dlerror: libcupti.so.11.2: cannot open shared object file: No such file or directory; LD_LIBRARY_PATH: :/usr/local/cuda/extras/CUPTI/lib64:/usr/local/cuda/lib64\n"
     ]
    },
    {
     "name": "stdout",
     "output_type": "stream",
     "text": [
      "7000\n",
      "Training start time: 2024-01-18 01:28:18\n"
     ]
    },
    {
     "name": "stderr",
     "output_type": "stream",
     "text": [
      "2024-01-18 01:28:18.413974: I tensorflow/core/profiler/lib/profiler_session.cc:128] Profiler session tear down.\n",
      "2024-01-18 01:28:18.414098: I tensorflow/core/profiler/backends/gpu/cupti_tracer.cc:1798] CUPTI activity buffer flushed\n"
     ]
    },
    {
     "data": {
      "application/vnd.jupyter.widget-view+json": {
       "model_id": "3e53b9a598ca463f9cb938f26a52095a",
       "version_major": 2,
       "version_minor": 0
      },
      "text/plain": [
       "Epoch Progress:   0%|          | 0/7000 [00:00<?, ?epoch/s]"
      ]
     },
     "metadata": {},
     "output_type": "display_data"
    },
    {
     "name": "stderr",
     "output_type": "stream",
     "text": [
      "2024-01-18 01:28:20.780336: I tensorflow/stream_executor/cuda/cuda_dnn.cc:384] Loaded cuDNN version 8400\n",
      "2024-01-18 01:28:22.783872: I tensorflow/stream_executor/cuda/cuda_blas.cc:1614] TensorFloat-32 will be used for the matrix multiplication. This will only be logged once.\n",
      "2024-01-18 01:28:23.374971: I tensorflow/core/profiler/lib/profiler_session.cc:101] Profiler session initializing.\n",
      "2024-01-18 01:28:23.374988: I tensorflow/core/profiler/lib/profiler_session.cc:116] Profiler session started.\n"
     ]
    },
    {
     "name": "stdout",
     "output_type": "stream",
     "text": [
      "WARNING:tensorflow:Callback method `on_train_batch_begin` is slow compared to the batch time (batch time: 0.0054s vs `on_train_batch_begin` time: 0.0704s). Check your callbacks.\n",
      "WARNING:tensorflow:Callback method `on_train_batch_end` is slow compared to the batch time (batch time: 0.0054s vs `on_train_batch_end` time: 0.0123s). Check your callbacks.\n"
     ]
    },
    {
     "name": "stderr",
     "output_type": "stream",
     "text": [
      "2024-01-18 01:28:23.812706: I tensorflow/core/profiler/lib/profiler_session.cc:67] Profiler session collecting data.\n",
      "2024-01-18 01:28:23.812938: I tensorflow/core/profiler/backends/gpu/cupti_tracer.cc:1798] CUPTI activity buffer flushed\n",
      "2024-01-18 01:28:23.828393: I tensorflow/core/profiler/backends/gpu/cupti_collector.cc:521]  GpuTracer has collected 414 callback api events and 416 activity events. \n",
      "2024-01-18 01:28:23.831955: I tensorflow/core/profiler/lib/profiler_session.cc:128] Profiler session tear down.\n",
      "2024-01-18 01:28:23.839342: I tensorflow/core/profiler/rpc/client/save_profile.cc:136] Creating directory: ../logs/240104_w_shaft/1705508898.2421017/train/plugins/profile/2024_01_18_01_28_23\n",
      "\n",
      "2024-01-18 01:28:23.843427: I tensorflow/core/profiler/rpc/client/save_profile.cc:142] Dumped gzipped tool data for trace.json.gz to ../logs/240104_w_shaft/1705508898.2421017/train/plugins/profile/2024_01_18_01_28_23/winddetection.trace.json.gz\n",
      "2024-01-18 01:28:23.857265: I tensorflow/core/profiler/rpc/client/save_profile.cc:136] Creating directory: ../logs/240104_w_shaft/1705508898.2421017/train/plugins/profile/2024_01_18_01_28_23\n",
      "\n",
      "2024-01-18 01:28:23.859320: I tensorflow/core/profiler/rpc/client/save_profile.cc:142] Dumped gzipped tool data for memory_profile.json.gz to ../logs/240104_w_shaft/1705508898.2421017/train/plugins/profile/2024_01_18_01_28_23/winddetection.memory_profile.json.gz\n",
      "2024-01-18 01:28:23.859727: I tensorflow/core/profiler/rpc/client/capture_profile.cc:251] Creating directory: ../logs/240104_w_shaft/1705508898.2421017/train/plugins/profile/2024_01_18_01_28_23\n",
      "Dumped tool data for xplane.pb to ../logs/240104_w_shaft/1705508898.2421017/train/plugins/profile/2024_01_18_01_28_23/winddetection.xplane.pb\n",
      "Dumped tool data for overview_page.pb to ../logs/240104_w_shaft/1705508898.2421017/train/plugins/profile/2024_01_18_01_28_23/winddetection.overview_page.pb\n",
      "Dumped tool data for input_pipeline.pb to ../logs/240104_w_shaft/1705508898.2421017/train/plugins/profile/2024_01_18_01_28_23/winddetection.input_pipeline.pb\n",
      "Dumped tool data for tensorflow_stats.pb to ../logs/240104_w_shaft/1705508898.2421017/train/plugins/profile/2024_01_18_01_28_23/winddetection.tensorflow_stats.pb\n",
      "Dumped tool data for kernel_stats.pb to ../logs/240104_w_shaft/1705508898.2421017/train/plugins/profile/2024_01_18_01_28_23/winddetection.kernel_stats.pb\n",
      "\n"
     ]
    },
    {
     "name": "stdout",
     "output_type": "stream",
     "text": [
      "Training end time: 2024-01-18 01:53:45\n",
      "Training took 0:25:26.835334 (h:m:s)\n",
      "../models/240104_w_shaft/1_CNN/flatten_data/data_split_by_1_period/cutoff100_m6500/not_normalized\n"
     ]
    },
    {
     "name": "stderr",
     "output_type": "stream",
     "text": [
      "WARNING:absl:Found untraced functions such as _jit_compiled_convolution_op, _jit_compiled_convolution_op, _jit_compiled_convolution_op, _jit_compiled_convolution_op, _jit_compiled_convolution_op while saving (showing 5 of 5). These functions will not be directly callable after loading.\n"
     ]
    },
    {
     "name": "stdout",
     "output_type": "stream",
     "text": [
      "INFO:tensorflow:Assets written to: ../models/240104_w_shaft/1_CNN/flatten_data/data_split_by_1_period/cutoff100_m6500/not_normalized/my_model_CH7/assets\n"
     ]
    },
    {
     "name": "stderr",
     "output_type": "stream",
     "text": [
      "INFO:tensorflow:Assets written to: ../models/240104_w_shaft/1_CNN/flatten_data/data_split_by_1_period/cutoff100_m6500/not_normalized/my_model_CH7/assets\n"
     ]
    },
    {
     "name": "stdout",
     "output_type": "stream",
     "text": [
      "\n",
      "\n",
      "\n",
      "\n",
      "/cutoff200_m3500\n",
      "7\n",
      "Should Flatten:  True\n",
      "Split parameter:  data_split_by_1_period\n",
      "Which Channel:  SG7\n",
      "Should Normalize: False\n",
      "Num of train data：4262 (0deg：533 / 15deg：533 / 30deg：533 / 45deg：532 / 60deg：533 / 75deg：533 / 90deg：532 / No Wind：533)\n",
      "Num of test data：1066 (0deg：133 / 15deg：133 / 30deg：133 / 45deg：134 / 60deg：133 / 75deg：133 / 90deg：134 / No Wind：133)\n",
      "Model: \"model\"\n",
      "_________________________________________________________________\n",
      " Layer (type)                Output Shape              Param #   \n",
      "=================================================================\n",
      " input_1 (InputLayer)        [(None, 833, 1)]          0         \n",
      "                                                                 \n",
      " conv1d (Conv1D)             (None, 578, 16)           4112      \n",
      "                                                                 \n",
      " re_lu (ReLU)                (None, 578, 16)           0         \n",
      "                                                                 \n",
      " batch_normalization (BatchN  (None, 578, 16)          64        \n",
      " ormalization)                                                   \n",
      "                                                                 \n",
      " dropout (Dropout)           (None, 578, 16)           0         \n",
      "                                                                 \n",
      " conv1d_1 (Conv1D)           (None, 451, 16)           32784     \n",
      "                                                                 \n",
      " re_lu_1 (ReLU)              (None, 451, 16)           0         \n",
      "                                                                 \n",
      " batch_normalization_1 (Batc  (None, 451, 16)          64        \n",
      " hNormalization)                                                 \n",
      "                                                                 \n",
      " dropout_1 (Dropout)         (None, 451, 16)           0         \n",
      "                                                                 \n",
      " conv1d_2 (Conv1D)           (None, 388, 16)           16400     \n",
      "                                                                 \n",
      " re_lu_2 (ReLU)              (None, 388, 16)           0         \n",
      "                                                                 \n",
      " batch_normalization_2 (Batc  (None, 388, 16)          64        \n",
      " hNormalization)                                                 \n",
      "                                                                 \n",
      " dropout_2 (Dropout)         (None, 388, 16)           0         \n",
      "                                                                 \n",
      " conv1d_3 (Conv1D)           (None, 357, 16)           8208      \n",
      "                                                                 \n",
      " re_lu_3 (ReLU)              (None, 357, 16)           0         \n",
      "                                                                 \n",
      " batch_normalization_3 (Batc  (None, 357, 16)          64        \n",
      " hNormalization)                                                 \n",
      "                                                                 \n",
      " dropout_3 (Dropout)         (None, 357, 16)           0         \n",
      "                                                                 \n",
      " conv1d_4 (Conv1D)           (None, 342, 16)           4112      \n",
      "                                                                 \n",
      " re_lu_4 (ReLU)              (None, 342, 16)           0         \n",
      "                                                                 \n",
      " batch_normalization_4 (Batc  (None, 342, 16)          64        \n",
      " hNormalization)                                                 \n",
      "                                                                 \n",
      " dropout_4 (Dropout)         (None, 342, 16)           0         \n",
      "                                                                 \n",
      " flatten (Flatten)           (None, 5472)              0         \n",
      "                                                                 \n",
      " dense (Dense)               (None, 8)                 43784     \n",
      "                                                                 \n",
      " tf.nn.softmax (TFOpLambda)  (None, 8)                 0         \n",
      "                                                                 \n",
      "=================================================================\n",
      "Total params: 109,720\n",
      "Trainable params: 109,560\n",
      "Non-trainable params: 160\n",
      "_________________________________________________________________\n",
      "7000\n"
     ]
    },
    {
     "name": "stderr",
     "output_type": "stream",
     "text": [
      "2024-01-18 01:53:49.268151: I tensorflow/core/profiler/lib/profiler_session.cc:101] Profiler session initializing.\n",
      "2024-01-18 01:53:49.268167: I tensorflow/core/profiler/lib/profiler_session.cc:116] Profiler session started.\n"
     ]
    },
    {
     "name": "stdout",
     "output_type": "stream",
     "text": [
      "Training start time: 2024-01-18 01:53:49\n"
     ]
    },
    {
     "name": "stderr",
     "output_type": "stream",
     "text": [
      "2024-01-18 01:53:49.450442: I tensorflow/core/profiler/lib/profiler_session.cc:128] Profiler session tear down.\n",
      "2024-01-18 01:53:49.450526: I tensorflow/core/profiler/backends/gpu/cupti_tracer.cc:1798] CUPTI activity buffer flushed\n"
     ]
    },
    {
     "data": {
      "application/vnd.jupyter.widget-view+json": {
       "model_id": "24f9747010c64e2e8ef9e07b11017ef2",
       "version_major": 2,
       "version_minor": 0
      },
      "text/plain": [
       "Epoch Progress:   0%|          | 0/7000 [00:00<?, ?epoch/s]"
      ]
     },
     "metadata": {},
     "output_type": "display_data"
    },
    {
     "name": "stderr",
     "output_type": "stream",
     "text": [
      "2024-01-18 01:53:50.178329: I tensorflow/core/profiler/lib/profiler_session.cc:101] Profiler session initializing.\n",
      "2024-01-18 01:53:50.178349: I tensorflow/core/profiler/lib/profiler_session.cc:116] Profiler session started.\n"
     ]
    },
    {
     "name": "stdout",
     "output_type": "stream",
     "text": [
      "WARNING:tensorflow:Callback method `on_train_batch_begin` is slow compared to the batch time (batch time: 0.0045s vs `on_train_batch_begin` time: 0.0322s). Check your callbacks.\n"
     ]
    },
    {
     "name": "stderr",
     "output_type": "stream",
     "text": [
      "2024-01-18 01:53:50.458067: I tensorflow/core/profiler/lib/profiler_session.cc:67] Profiler session collecting data.\n",
      "2024-01-18 01:53:50.459181: I tensorflow/core/profiler/backends/gpu/cupti_tracer.cc:1798] CUPTI activity buffer flushed\n",
      "2024-01-18 01:53:50.475522: I tensorflow/core/profiler/backends/gpu/cupti_collector.cc:521]  GpuTracer has collected 414 callback api events and 415 activity events. \n",
      "2024-01-18 01:53:50.480865: I tensorflow/core/profiler/lib/profiler_session.cc:128] Profiler session tear down.\n",
      "2024-01-18 01:53:50.486280: I tensorflow/core/profiler/rpc/client/save_profile.cc:136] Creating directory: ../logs/240104_w_shaft/1705510429.268093/train/plugins/profile/2024_01_18_01_53_50\n",
      "\n",
      "2024-01-18 01:53:50.490095: I tensorflow/core/profiler/rpc/client/save_profile.cc:142] Dumped gzipped tool data for trace.json.gz to ../logs/240104_w_shaft/1705510429.268093/train/plugins/profile/2024_01_18_01_53_50/winddetection.trace.json.gz\n",
      "2024-01-18 01:53:50.505016: I tensorflow/core/profiler/rpc/client/save_profile.cc:136] Creating directory: ../logs/240104_w_shaft/1705510429.268093/train/plugins/profile/2024_01_18_01_53_50\n",
      "\n",
      "2024-01-18 01:53:50.507245: I tensorflow/core/profiler/rpc/client/save_profile.cc:142] Dumped gzipped tool data for memory_profile.json.gz to ../logs/240104_w_shaft/1705510429.268093/train/plugins/profile/2024_01_18_01_53_50/winddetection.memory_profile.json.gz\n",
      "2024-01-18 01:53:50.507867: I tensorflow/core/profiler/rpc/client/capture_profile.cc:251] Creating directory: ../logs/240104_w_shaft/1705510429.268093/train/plugins/profile/2024_01_18_01_53_50\n",
      "Dumped tool data for xplane.pb to ../logs/240104_w_shaft/1705510429.268093/train/plugins/profile/2024_01_18_01_53_50/winddetection.xplane.pb\n",
      "Dumped tool data for overview_page.pb to ../logs/240104_w_shaft/1705510429.268093/train/plugins/profile/2024_01_18_01_53_50/winddetection.overview_page.pb\n",
      "Dumped tool data for input_pipeline.pb to ../logs/240104_w_shaft/1705510429.268093/train/plugins/profile/2024_01_18_01_53_50/winddetection.input_pipeline.pb\n",
      "Dumped tool data for tensorflow_stats.pb to ../logs/240104_w_shaft/1705510429.268093/train/plugins/profile/2024_01_18_01_53_50/winddetection.tensorflow_stats.pb\n",
      "Dumped tool data for kernel_stats.pb to ../logs/240104_w_shaft/1705510429.268093/train/plugins/profile/2024_01_18_01_53_50/winddetection.kernel_stats.pb\n",
      "\n",
      "WARNING:tensorflow:Callback method `on_train_batch_begin` is slow compared to the batch time (batch time: 0.0045s vs `on_train_batch_begin` time: 0.0322s). Check your callbacks.\n"
     ]
    },
    {
     "name": "stdout",
     "output_type": "stream",
     "text": [
      "WARNING:tensorflow:Callback method `on_train_batch_end` is slow compared to the batch time (batch time: 0.0045s vs `on_train_batch_end` time: 0.0254s). Check your callbacks.\n"
     ]
    },
    {
     "name": "stderr",
     "output_type": "stream",
     "text": [
      "WARNING:tensorflow:Callback method `on_train_batch_end` is slow compared to the batch time (batch time: 0.0045s vs `on_train_batch_end` time: 0.0254s). Check your callbacks.\n"
     ]
    },
    {
     "name": "stdout",
     "output_type": "stream",
     "text": [
      "Training end time: 2024-01-18 02:20:47\n",
      "Training took 0:26:58.489902 (h:m:s)\n",
      "../models/240104_w_shaft/1_CNN/flatten_data/data_split_by_1_period/cutoff200_m3500/not_normalized\n"
     ]
    },
    {
     "name": "stderr",
     "output_type": "stream",
     "text": [
      "WARNING:absl:Found untraced functions such as _jit_compiled_convolution_op, _jit_compiled_convolution_op, _jit_compiled_convolution_op, _jit_compiled_convolution_op, _jit_compiled_convolution_op while saving (showing 5 of 5). These functions will not be directly callable after loading.\n"
     ]
    },
    {
     "name": "stdout",
     "output_type": "stream",
     "text": [
      "INFO:tensorflow:Assets written to: ../models/240104_w_shaft/1_CNN/flatten_data/data_split_by_1_period/cutoff200_m3500/not_normalized/my_model_CH7/assets\n"
     ]
    },
    {
     "name": "stderr",
     "output_type": "stream",
     "text": [
      "INFO:tensorflow:Assets written to: ../models/240104_w_shaft/1_CNN/flatten_data/data_split_by_1_period/cutoff200_m3500/not_normalized/my_model_CH7/assets\n"
     ]
    },
    {
     "name": "stdout",
     "output_type": "stream",
     "text": [
      "\n",
      "\n",
      "\n",
      "\n",
      "/cutoff400_m3000\n",
      "7\n",
      "Should Flatten:  True\n",
      "Split parameter:  data_split_by_1_period\n",
      "Which Channel:  SG7\n",
      "Should Normalize: False\n",
      "Num of train data：4300 (0deg：537 / 15deg：538 / 30deg：538 / 45deg：537 / 60deg：538 / 75deg：537 / 90deg：537 / No Wind：538)\n",
      "Num of test data：1076 (0deg：135 / 15deg：134 / 30deg：134 / 45deg：135 / 60deg：134 / 75deg：135 / 90deg：135 / No Wind：134)\n",
      "Model: \"model\"\n",
      "_________________________________________________________________\n",
      " Layer (type)                Output Shape              Param #   \n",
      "=================================================================\n",
      " input_1 (InputLayer)        [(None, 833, 1)]          0         \n",
      "                                                                 \n",
      " conv1d (Conv1D)             (None, 578, 16)           4112      \n",
      "                                                                 \n",
      " re_lu (ReLU)                (None, 578, 16)           0         \n",
      "                                                                 \n",
      " batch_normalization (BatchN  (None, 578, 16)          64        \n",
      " ormalization)                                                   \n",
      "                                                                 \n",
      " dropout (Dropout)           (None, 578, 16)           0         \n",
      "                                                                 \n",
      " conv1d_1 (Conv1D)           (None, 451, 16)           32784     \n",
      "                                                                 \n",
      " re_lu_1 (ReLU)              (None, 451, 16)           0         \n",
      "                                                                 \n",
      " batch_normalization_1 (Batc  (None, 451, 16)          64        \n",
      " hNormalization)                                                 \n",
      "                                                                 \n",
      " dropout_1 (Dropout)         (None, 451, 16)           0         \n",
      "                                                                 \n",
      " conv1d_2 (Conv1D)           (None, 388, 16)           16400     \n",
      "                                                                 \n",
      " re_lu_2 (ReLU)              (None, 388, 16)           0         \n",
      "                                                                 \n",
      " batch_normalization_2 (Batc  (None, 388, 16)          64        \n",
      " hNormalization)                                                 \n",
      "                                                                 \n",
      " dropout_2 (Dropout)         (None, 388, 16)           0         \n",
      "                                                                 \n",
      " conv1d_3 (Conv1D)           (None, 357, 16)           8208      \n",
      "                                                                 \n",
      " re_lu_3 (ReLU)              (None, 357, 16)           0         \n",
      "                                                                 \n",
      " batch_normalization_3 (Batc  (None, 357, 16)          64        \n",
      " hNormalization)                                                 \n",
      "                                                                 \n",
      " dropout_3 (Dropout)         (None, 357, 16)           0         \n",
      "                                                                 \n",
      " conv1d_4 (Conv1D)           (None, 342, 16)           4112      \n",
      "                                                                 \n",
      " re_lu_4 (ReLU)              (None, 342, 16)           0         \n",
      "                                                                 \n",
      " batch_normalization_4 (Batc  (None, 342, 16)          64        \n",
      " hNormalization)                                                 \n",
      "                                                                 \n",
      " dropout_4 (Dropout)         (None, 342, 16)           0         \n",
      "                                                                 \n",
      " flatten (Flatten)           (None, 5472)              0         \n",
      "                                                                 \n",
      " dense (Dense)               (None, 8)                 43784     \n",
      "                                                                 \n",
      " tf.nn.softmax (TFOpLambda)  (None, 8)                 0         \n",
      "                                                                 \n",
      "=================================================================\n",
      "Total params: 109,720\n",
      "Trainable params: 109,560\n",
      "Non-trainable params: 160\n",
      "_________________________________________________________________\n",
      "7000\n",
      "Training start time: 2024-01-18 02:20:52\n"
     ]
    },
    {
     "name": "stderr",
     "output_type": "stream",
     "text": [
      "2024-01-18 02:20:51.809595: I tensorflow/core/profiler/lib/profiler_session.cc:101] Profiler session initializing.\n",
      "2024-01-18 02:20:51.809611: I tensorflow/core/profiler/lib/profiler_session.cc:116] Profiler session started.\n",
      "2024-01-18 02:20:51.984930: I tensorflow/core/profiler/lib/profiler_session.cc:128] Profiler session tear down.\n",
      "2024-01-18 02:20:51.985053: I tensorflow/core/profiler/backends/gpu/cupti_tracer.cc:1798] CUPTI activity buffer flushed\n"
     ]
    },
    {
     "data": {
      "application/vnd.jupyter.widget-view+json": {
       "model_id": "12ca4c5423e84f5eac49906e831a89c4",
       "version_major": 2,
       "version_minor": 0
      },
      "text/plain": [
       "Epoch Progress:   0%|          | 0/7000 [00:00<?, ?epoch/s]"
      ]
     },
     "metadata": {},
     "output_type": "display_data"
    },
    {
     "name": "stderr",
     "output_type": "stream",
     "text": [
      "2024-01-18 02:20:53.093201: I tensorflow/core/profiler/lib/profiler_session.cc:101] Profiler session initializing.\n",
      "2024-01-18 02:20:53.093217: I tensorflow/core/profiler/lib/profiler_session.cc:116] Profiler session started.\n"
     ]
    },
    {
     "name": "stdout",
     "output_type": "stream",
     "text": [
      "WARNING:tensorflow:Callback method `on_train_batch_begin` is slow compared to the batch time (batch time: 0.0047s vs `on_train_batch_begin` time: 0.0332s). Check your callbacks.\n"
     ]
    },
    {
     "name": "stderr",
     "output_type": "stream",
     "text": [
      "2024-01-18 02:20:53.410755: I tensorflow/core/profiler/lib/profiler_session.cc:67] Profiler session collecting data.\n",
      "2024-01-18 02:20:53.414048: I tensorflow/core/profiler/backends/gpu/cupti_tracer.cc:1798] CUPTI activity buffer flushed\n",
      "2024-01-18 02:20:53.460410: I tensorflow/core/profiler/backends/gpu/cupti_collector.cc:521]  GpuTracer has collected 414 callback api events and 415 activity events. \n",
      "2024-01-18 02:20:53.469443: I tensorflow/core/profiler/lib/profiler_session.cc:128] Profiler session tear down.\n",
      "2024-01-18 02:20:53.476646: I tensorflow/core/profiler/rpc/client/save_profile.cc:136] Creating directory: ../logs/240104_w_shaft/1705512051.8095372/train/plugins/profile/2024_01_18_02_20_53\n",
      "\n",
      "2024-01-18 02:20:53.480422: I tensorflow/core/profiler/rpc/client/save_profile.cc:142] Dumped gzipped tool data for trace.json.gz to ../logs/240104_w_shaft/1705512051.8095372/train/plugins/profile/2024_01_18_02_20_53/winddetection.trace.json.gz\n",
      "2024-01-18 02:20:53.509026: I tensorflow/core/profiler/rpc/client/save_profile.cc:136] Creating directory: ../logs/240104_w_shaft/1705512051.8095372/train/plugins/profile/2024_01_18_02_20_53\n",
      "\n",
      "2024-01-18 02:20:53.515645: I tensorflow/core/profiler/rpc/client/save_profile.cc:142] Dumped gzipped tool data for memory_profile.json.gz to ../logs/240104_w_shaft/1705512051.8095372/train/plugins/profile/2024_01_18_02_20_53/winddetection.memory_profile.json.gz\n",
      "2024-01-18 02:20:53.516861: I tensorflow/core/profiler/rpc/client/capture_profile.cc:251] Creating directory: ../logs/240104_w_shaft/1705512051.8095372/train/plugins/profile/2024_01_18_02_20_53\n",
      "Dumped tool data for xplane.pb to ../logs/240104_w_shaft/1705512051.8095372/train/plugins/profile/2024_01_18_02_20_53/winddetection.xplane.pb\n",
      "Dumped tool data for overview_page.pb to ../logs/240104_w_shaft/1705512051.8095372/train/plugins/profile/2024_01_18_02_20_53/winddetection.overview_page.pb\n",
      "Dumped tool data for input_pipeline.pb to ../logs/240104_w_shaft/1705512051.8095372/train/plugins/profile/2024_01_18_02_20_53/winddetection.input_pipeline.pb\n",
      "Dumped tool data for tensorflow_stats.pb to ../logs/240104_w_shaft/1705512051.8095372/train/plugins/profile/2024_01_18_02_20_53/winddetection.tensorflow_stats.pb\n",
      "Dumped tool data for kernel_stats.pb to ../logs/240104_w_shaft/1705512051.8095372/train/plugins/profile/2024_01_18_02_20_53/winddetection.kernel_stats.pb\n",
      "\n",
      "WARNING:tensorflow:Callback method `on_train_batch_begin` is slow compared to the batch time (batch time: 0.0047s vs `on_train_batch_begin` time: 0.0332s). Check your callbacks.\n"
     ]
    },
    {
     "name": "stdout",
     "output_type": "stream",
     "text": [
      "WARNING:tensorflow:Callback method `on_train_batch_end` is slow compared to the batch time (batch time: 0.0047s vs `on_train_batch_end` time: 0.0414s). Check your callbacks.\n"
     ]
    },
    {
     "name": "stderr",
     "output_type": "stream",
     "text": [
      "WARNING:tensorflow:Callback method `on_train_batch_end` is slow compared to the batch time (batch time: 0.0047s vs `on_train_batch_end` time: 0.0414s). Check your callbacks.\n"
     ]
    },
    {
     "name": "stdout",
     "output_type": "stream",
     "text": [
      "Training end time: 2024-01-18 02:48:09\n",
      "Training took 0:27:17.184186 (h:m:s)\n",
      "../models/240104_w_shaft/1_CNN/flatten_data/data_split_by_1_period/cutoff400_m3000/not_normalized\n"
     ]
    },
    {
     "name": "stderr",
     "output_type": "stream",
     "text": [
      "WARNING:absl:Found untraced functions such as _jit_compiled_convolution_op, _jit_compiled_convolution_op, _jit_compiled_convolution_op, _jit_compiled_convolution_op, _jit_compiled_convolution_op while saving (showing 5 of 5). These functions will not be directly callable after loading.\n"
     ]
    },
    {
     "name": "stdout",
     "output_type": "stream",
     "text": [
      "INFO:tensorflow:Assets written to: ../models/240104_w_shaft/1_CNN/flatten_data/data_split_by_1_period/cutoff400_m3000/not_normalized/my_model_CH7/assets\n"
     ]
    },
    {
     "name": "stderr",
     "output_type": "stream",
     "text": [
      "INFO:tensorflow:Assets written to: ../models/240104_w_shaft/1_CNN/flatten_data/data_split_by_1_period/cutoff400_m3000/not_normalized/my_model_CH7/assets\n"
     ]
    },
    {
     "name": "stdout",
     "output_type": "stream",
     "text": [
      "\n",
      "\n",
      "\n",
      "\n"
     ]
    },
    {
     "data": {
      "application/vnd.jupyter.widget-view+json": {
       "model_id": "42644e32d5d34361989bcbd47cecace1",
       "version_major": 2,
       "version_minor": 0
      },
      "text/plain": [
       "  0%|          | 0/3 [00:00<?, ?it/s]"
      ]
     },
     "metadata": {},
     "output_type": "display_data"
    },
    {
     "name": "stdout",
     "output_type": "stream",
     "text": [
      "/cutoff100_m6500\n",
      "7\n",
      "Should Flatten:  True\n",
      "Split parameter:  data_split_by_0.5_period\n",
      "Which Channel:  SG7\n",
      "Should Normalize: False\n",
      "Num of train data：8025 (0deg：1003 / 15deg：1003 / 30deg：1003 / 45deg：1003 / 60deg：1003 / 75deg：1003 / 90deg：1003 / No Wind：1004)\n",
      "Num of test data：2007 (0deg：251 / 15deg：251 / 30deg：251 / 45deg：251 / 60deg：251 / 75deg：251 / 90deg：251 / No Wind：250)\n",
      "Model: \"model\"\n",
      "_________________________________________________________________\n",
      " Layer (type)                Output Shape              Param #   \n",
      "=================================================================\n",
      " input_1 (InputLayer)        [(None, 416, 1)]          0         \n",
      "                                                                 \n",
      " conv1d (Conv1D)             (None, 289, 16)           2064      \n",
      "                                                                 \n",
      " re_lu (ReLU)                (None, 289, 16)           0         \n",
      "                                                                 \n",
      " batch_normalization (BatchN  (None, 289, 16)          64        \n",
      " ormalization)                                                   \n",
      "                                                                 \n",
      " dropout (Dropout)           (None, 289, 16)           0         \n",
      "                                                                 \n",
      " conv1d_1 (Conv1D)           (None, 226, 16)           16400     \n",
      "                                                                 \n",
      " re_lu_1 (ReLU)              (None, 226, 16)           0         \n",
      "                                                                 \n",
      " batch_normalization_1 (Batc  (None, 226, 16)          64        \n",
      " hNormalization)                                                 \n",
      "                                                                 \n",
      " dropout_1 (Dropout)         (None, 226, 16)           0         \n",
      "                                                                 \n",
      " conv1d_2 (Conv1D)           (None, 195, 16)           8208      \n",
      "                                                                 \n",
      " re_lu_2 (ReLU)              (None, 195, 16)           0         \n",
      "                                                                 \n",
      " batch_normalization_2 (Batc  (None, 195, 16)          64        \n",
      " hNormalization)                                                 \n",
      "                                                                 \n",
      " dropout_2 (Dropout)         (None, 195, 16)           0         \n",
      "                                                                 \n",
      " conv1d_3 (Conv1D)           (None, 180, 16)           4112      \n",
      "                                                                 \n",
      " re_lu_3 (ReLU)              (None, 180, 16)           0         \n",
      "                                                                 \n",
      " batch_normalization_3 (Batc  (None, 180, 16)          64        \n",
      " hNormalization)                                                 \n",
      "                                                                 \n",
      " dropout_3 (Dropout)         (None, 180, 16)           0         \n",
      "                                                                 \n",
      " flatten (Flatten)           (None, 2880)              0         \n",
      "                                                                 \n",
      " dense (Dense)               (None, 8)                 23048     \n",
      "                                                                 \n",
      " tf.nn.softmax (TFOpLambda)  (None, 8)                 0         \n",
      "                                                                 \n",
      "=================================================================\n",
      "Total params: 54,088\n",
      "Trainable params: 53,960\n",
      "Non-trainable params: 128\n",
      "_________________________________________________________________\n",
      "19000\n"
     ]
    },
    {
     "name": "stderr",
     "output_type": "stream",
     "text": [
      "2024-01-18 02:48:13.306495: I tensorflow/core/profiler/lib/profiler_session.cc:101] Profiler session initializing.\n",
      "2024-01-18 02:48:13.306512: I tensorflow/core/profiler/lib/profiler_session.cc:116] Profiler session started.\n"
     ]
    },
    {
     "name": "stdout",
     "output_type": "stream",
     "text": [
      "Training start time: 2024-01-18 02:48:13\n"
     ]
    },
    {
     "name": "stderr",
     "output_type": "stream",
     "text": [
      "2024-01-18 02:48:13.510028: I tensorflow/core/profiler/lib/profiler_session.cc:128] Profiler session tear down.\n",
      "2024-01-18 02:48:13.510137: I tensorflow/core/profiler/backends/gpu/cupti_tracer.cc:1798] CUPTI activity buffer flushed\n"
     ]
    },
    {
     "data": {
      "application/vnd.jupyter.widget-view+json": {
       "model_id": "9a716fdec6d94e238db46d940ff7a3e8",
       "version_major": 2,
       "version_minor": 0
      },
      "text/plain": [
       "Epoch Progress:   0%|          | 0/19000 [00:00<?, ?epoch/s]"
      ]
     },
     "metadata": {},
     "output_type": "display_data"
    },
    {
     "name": "stderr",
     "output_type": "stream",
     "text": [
      "2024-01-18 02:48:14.270535: I tensorflow/core/profiler/lib/profiler_session.cc:101] Profiler session initializing.\n",
      "2024-01-18 02:48:14.270550: I tensorflow/core/profiler/lib/profiler_session.cc:116] Profiler session started.\n"
     ]
    },
    {
     "name": "stdout",
     "output_type": "stream",
     "text": [
      "WARNING:tensorflow:Callback method `on_train_batch_begin` is slow compared to the batch time (batch time: 0.0033s vs `on_train_batch_begin` time: 0.0357s). Check your callbacks.\n"
     ]
    },
    {
     "name": "stderr",
     "output_type": "stream",
     "text": [
      "2024-01-18 02:48:14.577267: I tensorflow/core/profiler/lib/profiler_session.cc:67] Profiler session collecting data.\n",
      "2024-01-18 02:48:14.580542: I tensorflow/core/profiler/backends/gpu/cupti_tracer.cc:1798] CUPTI activity buffer flushed\n",
      "2024-01-18 02:48:14.618954: I tensorflow/core/profiler/backends/gpu/cupti_collector.cc:521]  GpuTracer has collected 337 callback api events and 337 activity events. \n",
      "2024-01-18 02:48:14.623959: I tensorflow/core/profiler/lib/profiler_session.cc:128] Profiler session tear down.\n",
      "2024-01-18 02:48:14.629832: I tensorflow/core/profiler/rpc/client/save_profile.cc:136] Creating directory: ../logs/240104_w_shaft/1705513693.306437/train/plugins/profile/2024_01_18_02_48_14\n",
      "\n",
      "2024-01-18 02:48:14.633163: I tensorflow/core/profiler/rpc/client/save_profile.cc:142] Dumped gzipped tool data for trace.json.gz to ../logs/240104_w_shaft/1705513693.306437/train/plugins/profile/2024_01_18_02_48_14/winddetection.trace.json.gz\n",
      "2024-01-18 02:48:14.653918: I tensorflow/core/profiler/rpc/client/save_profile.cc:136] Creating directory: ../logs/240104_w_shaft/1705513693.306437/train/plugins/profile/2024_01_18_02_48_14\n",
      "\n",
      "2024-01-18 02:48:14.658022: I tensorflow/core/profiler/rpc/client/save_profile.cc:142] Dumped gzipped tool data for memory_profile.json.gz to ../logs/240104_w_shaft/1705513693.306437/train/plugins/profile/2024_01_18_02_48_14/winddetection.memory_profile.json.gz\n",
      "2024-01-18 02:48:14.658909: I tensorflow/core/profiler/rpc/client/capture_profile.cc:251] Creating directory: ../logs/240104_w_shaft/1705513693.306437/train/plugins/profile/2024_01_18_02_48_14\n",
      "Dumped tool data for xplane.pb to ../logs/240104_w_shaft/1705513693.306437/train/plugins/profile/2024_01_18_02_48_14/winddetection.xplane.pb\n",
      "Dumped tool data for overview_page.pb to ../logs/240104_w_shaft/1705513693.306437/train/plugins/profile/2024_01_18_02_48_14/winddetection.overview_page.pb\n",
      "Dumped tool data for input_pipeline.pb to ../logs/240104_w_shaft/1705513693.306437/train/plugins/profile/2024_01_18_02_48_14/winddetection.input_pipeline.pb\n",
      "Dumped tool data for tensorflow_stats.pb to ../logs/240104_w_shaft/1705513693.306437/train/plugins/profile/2024_01_18_02_48_14/winddetection.tensorflow_stats.pb\n",
      "Dumped tool data for kernel_stats.pb to ../logs/240104_w_shaft/1705513693.306437/train/plugins/profile/2024_01_18_02_48_14/winddetection.kernel_stats.pb\n",
      "\n",
      "WARNING:tensorflow:Callback method `on_train_batch_begin` is slow compared to the batch time (batch time: 0.0033s vs `on_train_batch_begin` time: 0.0357s). Check your callbacks.\n"
     ]
    },
    {
     "name": "stdout",
     "output_type": "stream",
     "text": [
      "WARNING:tensorflow:Callback method `on_train_batch_end` is slow compared to the batch time (batch time: 0.0033s vs `on_train_batch_end` time: 0.0317s). Check your callbacks.\n"
     ]
    },
    {
     "name": "stderr",
     "output_type": "stream",
     "text": [
      "WARNING:tensorflow:Callback method `on_train_batch_end` is slow compared to the batch time (batch time: 0.0033s vs `on_train_batch_end` time: 0.0317s). Check your callbacks.\n"
     ]
    },
    {
     "name": "stdout",
     "output_type": "stream",
     "text": [
      "Training end time: 2024-01-18 03:42:46\n",
      "Training took 0:54:33.107728 (h:m:s)\n",
      "../models/240104_w_shaft/1_CNN/flatten_data/data_split_by_0.5_period/cutoff100_m6500/not_normalized\n"
     ]
    },
    {
     "name": "stderr",
     "output_type": "stream",
     "text": [
      "WARNING:absl:Found untraced functions such as _jit_compiled_convolution_op, _jit_compiled_convolution_op, _jit_compiled_convolution_op, _jit_compiled_convolution_op while saving (showing 4 of 4). These functions will not be directly callable after loading.\n"
     ]
    },
    {
     "name": "stdout",
     "output_type": "stream",
     "text": [
      "INFO:tensorflow:Assets written to: ../models/240104_w_shaft/1_CNN/flatten_data/data_split_by_0.5_period/cutoff100_m6500/not_normalized/my_model_CH7/assets\n"
     ]
    },
    {
     "name": "stderr",
     "output_type": "stream",
     "text": [
      "INFO:tensorflow:Assets written to: ../models/240104_w_shaft/1_CNN/flatten_data/data_split_by_0.5_period/cutoff100_m6500/not_normalized/my_model_CH7/assets\n"
     ]
    },
    {
     "name": "stdout",
     "output_type": "stream",
     "text": [
      "\n",
      "\n",
      "\n",
      "\n",
      "/cutoff200_m3500\n",
      "7\n",
      "Should Flatten:  True\n",
      "Split parameter:  data_split_by_0.5_period\n",
      "Which Channel:  SG7\n",
      "Should Normalize: False\n",
      "Num of train data：8563 (0deg：1070 / 15deg：1071 / 30deg：1071 / 45deg：1070 / 60deg：1070 / 75deg：1070 / 90deg：1070 / No Wind：1071)\n",
      "Num of test data：2141 (0deg：268 / 15deg：267 / 30deg：267 / 45deg：268 / 60deg：268 / 75deg：268 / 90deg：268 / No Wind：267)\n",
      "Model: \"model\"\n",
      "_________________________________________________________________\n",
      " Layer (type)                Output Shape              Param #   \n",
      "=================================================================\n",
      " input_1 (InputLayer)        [(None, 416, 1)]          0         \n",
      "                                                                 \n",
      " conv1d (Conv1D)             (None, 289, 16)           2064      \n",
      "                                                                 \n",
      " re_lu (ReLU)                (None, 289, 16)           0         \n",
      "                                                                 \n",
      " batch_normalization (BatchN  (None, 289, 16)          64        \n",
      " ormalization)                                                   \n",
      "                                                                 \n",
      " dropout (Dropout)           (None, 289, 16)           0         \n",
      "                                                                 \n",
      " conv1d_1 (Conv1D)           (None, 226, 16)           16400     \n",
      "                                                                 \n",
      " re_lu_1 (ReLU)              (None, 226, 16)           0         \n",
      "                                                                 \n",
      " batch_normalization_1 (Batc  (None, 226, 16)          64        \n",
      " hNormalization)                                                 \n",
      "                                                                 \n",
      " dropout_1 (Dropout)         (None, 226, 16)           0         \n",
      "                                                                 \n",
      " conv1d_2 (Conv1D)           (None, 195, 16)           8208      \n",
      "                                                                 \n",
      " re_lu_2 (ReLU)              (None, 195, 16)           0         \n",
      "                                                                 \n",
      " batch_normalization_2 (Batc  (None, 195, 16)          64        \n",
      " hNormalization)                                                 \n",
      "                                                                 \n",
      " dropout_2 (Dropout)         (None, 195, 16)           0         \n",
      "                                                                 \n",
      " conv1d_3 (Conv1D)           (None, 180, 16)           4112      \n",
      "                                                                 \n",
      " re_lu_3 (ReLU)              (None, 180, 16)           0         \n",
      "                                                                 \n",
      " batch_normalization_3 (Batc  (None, 180, 16)          64        \n",
      " hNormalization)                                                 \n",
      "                                                                 \n",
      " dropout_3 (Dropout)         (None, 180, 16)           0         \n",
      "                                                                 \n",
      " flatten (Flatten)           (None, 2880)              0         \n",
      "                                                                 \n",
      " dense (Dense)               (None, 8)                 23048     \n",
      "                                                                 \n",
      " tf.nn.softmax (TFOpLambda)  (None, 8)                 0         \n",
      "                                                                 \n",
      "=================================================================\n",
      "Total params: 54,088\n",
      "Trainable params: 53,960\n",
      "Non-trainable params: 128\n",
      "_________________________________________________________________\n",
      "19000\n"
     ]
    },
    {
     "name": "stderr",
     "output_type": "stream",
     "text": [
      "2024-01-18 03:42:50.654451: I tensorflow/core/profiler/lib/profiler_session.cc:101] Profiler session initializing.\n",
      "2024-01-18 03:42:50.654467: I tensorflow/core/profiler/lib/profiler_session.cc:116] Profiler session started.\n"
     ]
    },
    {
     "name": "stdout",
     "output_type": "stream",
     "text": [
      "Training start time: 2024-01-18 03:42:50\n"
     ]
    },
    {
     "name": "stderr",
     "output_type": "stream",
     "text": [
      "2024-01-18 03:42:50.951168: I tensorflow/core/profiler/lib/profiler_session.cc:128] Profiler session tear down.\n",
      "2024-01-18 03:42:50.951280: I tensorflow/core/profiler/backends/gpu/cupti_tracer.cc:1798] CUPTI activity buffer flushed\n"
     ]
    },
    {
     "data": {
      "application/vnd.jupyter.widget-view+json": {
       "model_id": "2ef4f0fc7c54400e85e50033a0297c22",
       "version_major": 2,
       "version_minor": 0
      },
      "text/plain": [
       "Epoch Progress:   0%|          | 0/19000 [00:00<?, ?epoch/s]"
      ]
     },
     "metadata": {},
     "output_type": "display_data"
    },
    {
     "name": "stderr",
     "output_type": "stream",
     "text": [
      "2024-01-18 03:42:51.806342: I tensorflow/core/profiler/lib/profiler_session.cc:101] Profiler session initializing.\n",
      "2024-01-18 03:42:51.806357: I tensorflow/core/profiler/lib/profiler_session.cc:116] Profiler session started.\n"
     ]
    },
    {
     "name": "stdout",
     "output_type": "stream",
     "text": [
      "WARNING:tensorflow:Callback method `on_train_batch_begin` is slow compared to the batch time (batch time: 0.0030s vs `on_train_batch_begin` time: 0.0507s). Check your callbacks.\n"
     ]
    },
    {
     "name": "stderr",
     "output_type": "stream",
     "text": [
      "2024-01-18 03:42:52.256857: I tensorflow/core/profiler/lib/profiler_session.cc:67] Profiler session collecting data.\n",
      "2024-01-18 03:42:52.271772: I tensorflow/core/profiler/backends/gpu/cupti_tracer.cc:1798] CUPTI activity buffer flushed\n",
      "2024-01-18 03:42:52.317639: I tensorflow/core/profiler/backends/gpu/cupti_collector.cc:521]  GpuTracer has collected 337 callback api events and 337 activity events. \n",
      "2024-01-18 03:42:52.334350: I tensorflow/core/profiler/lib/profiler_session.cc:128] Profiler session tear down.\n",
      "2024-01-18 03:42:52.340177: I tensorflow/core/profiler/rpc/client/save_profile.cc:136] Creating directory: ../logs/240104_w_shaft/1705516970.654391/train/plugins/profile/2024_01_18_03_42_52\n",
      "\n",
      "2024-01-18 03:42:52.343354: I tensorflow/core/profiler/rpc/client/save_profile.cc:142] Dumped gzipped tool data for trace.json.gz to ../logs/240104_w_shaft/1705516970.654391/train/plugins/profile/2024_01_18_03_42_52/winddetection.trace.json.gz\n",
      "2024-01-18 03:42:52.365123: I tensorflow/core/profiler/rpc/client/save_profile.cc:136] Creating directory: ../logs/240104_w_shaft/1705516970.654391/train/plugins/profile/2024_01_18_03_42_52\n",
      "\n",
      "2024-01-18 03:42:52.372310: I tensorflow/core/profiler/rpc/client/save_profile.cc:142] Dumped gzipped tool data for memory_profile.json.gz to ../logs/240104_w_shaft/1705516970.654391/train/plugins/profile/2024_01_18_03_42_52/winddetection.memory_profile.json.gz\n",
      "2024-01-18 03:42:52.373201: I tensorflow/core/profiler/rpc/client/capture_profile.cc:251] Creating directory: ../logs/240104_w_shaft/1705516970.654391/train/plugins/profile/2024_01_18_03_42_52\n",
      "Dumped tool data for xplane.pb to ../logs/240104_w_shaft/1705516970.654391/train/plugins/profile/2024_01_18_03_42_52/winddetection.xplane.pb\n",
      "Dumped tool data for overview_page.pb to ../logs/240104_w_shaft/1705516970.654391/train/plugins/profile/2024_01_18_03_42_52/winddetection.overview_page.pb\n",
      "Dumped tool data for input_pipeline.pb to ../logs/240104_w_shaft/1705516970.654391/train/plugins/profile/2024_01_18_03_42_52/winddetection.input_pipeline.pb\n",
      "Dumped tool data for tensorflow_stats.pb to ../logs/240104_w_shaft/1705516970.654391/train/plugins/profile/2024_01_18_03_42_52/winddetection.tensorflow_stats.pb\n",
      "Dumped tool data for kernel_stats.pb to ../logs/240104_w_shaft/1705516970.654391/train/plugins/profile/2024_01_18_03_42_52/winddetection.kernel_stats.pb\n",
      "\n",
      "WARNING:tensorflow:Callback method `on_train_batch_begin` is slow compared to the batch time (batch time: 0.0030s vs `on_train_batch_begin` time: 0.0507s). Check your callbacks.\n"
     ]
    },
    {
     "name": "stdout",
     "output_type": "stream",
     "text": [
      "WARNING:tensorflow:Callback method `on_train_batch_end` is slow compared to the batch time (batch time: 0.0030s vs `on_train_batch_end` time: 0.0484s). Check your callbacks.\n"
     ]
    },
    {
     "name": "stderr",
     "output_type": "stream",
     "text": [
      "WARNING:tensorflow:Callback method `on_train_batch_end` is slow compared to the batch time (batch time: 0.0030s vs `on_train_batch_end` time: 0.0484s). Check your callbacks.\n"
     ]
    },
    {
     "name": "stdout",
     "output_type": "stream",
     "text": [
      "Training end time: 2024-01-18 04:40:34\n",
      "Training took 0:57:43.810158 (h:m:s)\n",
      "../models/240104_w_shaft/1_CNN/flatten_data/data_split_by_0.5_period/cutoff200_m3500/not_normalized\n"
     ]
    },
    {
     "name": "stderr",
     "output_type": "stream",
     "text": [
      "WARNING:absl:Found untraced functions such as _jit_compiled_convolution_op, _jit_compiled_convolution_op, _jit_compiled_convolution_op, _jit_compiled_convolution_op while saving (showing 4 of 4). These functions will not be directly callable after loading.\n"
     ]
    },
    {
     "name": "stdout",
     "output_type": "stream",
     "text": [
      "INFO:tensorflow:Assets written to: ../models/240104_w_shaft/1_CNN/flatten_data/data_split_by_0.5_period/cutoff200_m3500/not_normalized/my_model_CH7/assets\n"
     ]
    },
    {
     "name": "stderr",
     "output_type": "stream",
     "text": [
      "INFO:tensorflow:Assets written to: ../models/240104_w_shaft/1_CNN/flatten_data/data_split_by_0.5_period/cutoff200_m3500/not_normalized/my_model_CH7/assets\n"
     ]
    },
    {
     "name": "stdout",
     "output_type": "stream",
     "text": [
      "\n",
      "\n",
      "\n",
      "\n",
      "/cutoff400_m3000\n",
      "7\n",
      "Should Flatten:  True\n",
      "Split parameter:  data_split_by_0.5_period\n",
      "Which Channel:  SG7\n",
      "Should Normalize: False\n",
      "Num of train data：8640 (0deg：1080 / 15deg：1080 / 30deg：1080 / 45deg：1080 / 60deg：1080 / 75deg：1080 / 90deg：1080 / No Wind：1080)\n",
      "Num of test data：2160 (0deg：270 / 15deg：270 / 30deg：270 / 45deg：270 / 60deg：270 / 75deg：270 / 90deg：270 / No Wind：270)\n",
      "Model: \"model\"\n",
      "_________________________________________________________________\n",
      " Layer (type)                Output Shape              Param #   \n",
      "=================================================================\n",
      " input_1 (InputLayer)        [(None, 416, 1)]          0         \n",
      "                                                                 \n",
      " conv1d (Conv1D)             (None, 289, 16)           2064      \n",
      "                                                                 \n",
      " re_lu (ReLU)                (None, 289, 16)           0         \n",
      "                                                                 \n",
      " batch_normalization (BatchN  (None, 289, 16)          64        \n",
      " ormalization)                                                   \n",
      "                                                                 \n",
      " dropout (Dropout)           (None, 289, 16)           0         \n",
      "                                                                 \n",
      " conv1d_1 (Conv1D)           (None, 226, 16)           16400     \n",
      "                                                                 \n",
      " re_lu_1 (ReLU)              (None, 226, 16)           0         \n",
      "                                                                 \n",
      " batch_normalization_1 (Batc  (None, 226, 16)          64        \n",
      " hNormalization)                                                 \n",
      "                                                                 \n",
      " dropout_1 (Dropout)         (None, 226, 16)           0         \n",
      "                                                                 \n",
      " conv1d_2 (Conv1D)           (None, 195, 16)           8208      \n",
      "                                                                 \n",
      " re_lu_2 (ReLU)              (None, 195, 16)           0         \n",
      "                                                                 \n",
      " batch_normalization_2 (Batc  (None, 195, 16)          64        \n",
      " hNormalization)                                                 \n",
      "                                                                 \n",
      " dropout_2 (Dropout)         (None, 195, 16)           0         \n",
      "                                                                 \n",
      " conv1d_3 (Conv1D)           (None, 180, 16)           4112      \n",
      "                                                                 \n",
      " re_lu_3 (ReLU)              (None, 180, 16)           0         \n",
      "                                                                 \n",
      " batch_normalization_3 (Batc  (None, 180, 16)          64        \n",
      " hNormalization)                                                 \n",
      "                                                                 \n",
      " dropout_3 (Dropout)         (None, 180, 16)           0         \n",
      "                                                                 \n",
      " flatten (Flatten)           (None, 2880)              0         \n",
      "                                                                 \n",
      " dense (Dense)               (None, 8)                 23048     \n",
      "                                                                 \n",
      " tf.nn.softmax (TFOpLambda)  (None, 8)                 0         \n",
      "                                                                 \n",
      "=================================================================\n",
      "Total params: 54,088\n",
      "Trainable params: 53,960\n",
      "Non-trainable params: 128\n",
      "_________________________________________________________________\n",
      "19000\n"
     ]
    },
    {
     "name": "stderr",
     "output_type": "stream",
     "text": [
      "2024-01-18 04:40:38.836298: I tensorflow/core/profiler/lib/profiler_session.cc:101] Profiler session initializing.\n",
      "2024-01-18 04:40:38.836314: I tensorflow/core/profiler/lib/profiler_session.cc:116] Profiler session started.\n"
     ]
    },
    {
     "name": "stdout",
     "output_type": "stream",
     "text": [
      "Training start time: 2024-01-18 04:40:39\n"
     ]
    },
    {
     "name": "stderr",
     "output_type": "stream",
     "text": [
      "2024-01-18 04:40:39.136620: I tensorflow/core/profiler/lib/profiler_session.cc:128] Profiler session tear down.\n",
      "2024-01-18 04:40:39.136707: I tensorflow/core/profiler/backends/gpu/cupti_tracer.cc:1798] CUPTI activity buffer flushed\n"
     ]
    },
    {
     "data": {
      "application/vnd.jupyter.widget-view+json": {
       "model_id": "819fcf40effd43309143d0a027a53eeb",
       "version_major": 2,
       "version_minor": 0
      },
      "text/plain": [
       "Epoch Progress:   0%|          | 0/19000 [00:00<?, ?epoch/s]"
      ]
     },
     "metadata": {},
     "output_type": "display_data"
    },
    {
     "name": "stderr",
     "output_type": "stream",
     "text": [
      "2024-01-18 04:40:39.957326: I tensorflow/core/profiler/lib/profiler_session.cc:101] Profiler session initializing.\n",
      "2024-01-18 04:40:39.957343: I tensorflow/core/profiler/lib/profiler_session.cc:116] Profiler session started.\n"
     ]
    },
    {
     "name": "stdout",
     "output_type": "stream",
     "text": [
      "WARNING:tensorflow:Callback method `on_train_batch_begin` is slow compared to the batch time (batch time: 0.0029s vs `on_train_batch_begin` time: 0.0516s). Check your callbacks.\n"
     ]
    },
    {
     "name": "stderr",
     "output_type": "stream",
     "text": [
      "2024-01-18 04:40:40.414965: I tensorflow/core/profiler/lib/profiler_session.cc:67] Profiler session collecting data.\n",
      "2024-01-18 04:40:40.435068: I tensorflow/core/profiler/backends/gpu/cupti_tracer.cc:1798] CUPTI activity buffer flushed\n",
      "2024-01-18 04:40:40.497192: I tensorflow/core/profiler/backends/gpu/cupti_collector.cc:521]  GpuTracer has collected 313 callback api events and 313 activity events. \n",
      "2024-01-18 04:40:40.520538: I tensorflow/core/profiler/lib/profiler_session.cc:128] Profiler session tear down.\n",
      "2024-01-18 04:40:40.526408: I tensorflow/core/profiler/rpc/client/save_profile.cc:136] Creating directory: ../logs/240104_w_shaft/1705520438.836241/train/plugins/profile/2024_01_18_04_40_40\n",
      "\n",
      "2024-01-18 04:40:40.529458: I tensorflow/core/profiler/rpc/client/save_profile.cc:142] Dumped gzipped tool data for trace.json.gz to ../logs/240104_w_shaft/1705520438.836241/train/plugins/profile/2024_01_18_04_40_40/winddetection.trace.json.gz\n",
      "2024-01-18 04:40:40.551133: I tensorflow/core/profiler/rpc/client/save_profile.cc:136] Creating directory: ../logs/240104_w_shaft/1705520438.836241/train/plugins/profile/2024_01_18_04_40_40\n",
      "\n",
      "2024-01-18 04:40:40.558825: I tensorflow/core/profiler/rpc/client/save_profile.cc:142] Dumped gzipped tool data for memory_profile.json.gz to ../logs/240104_w_shaft/1705520438.836241/train/plugins/profile/2024_01_18_04_40_40/winddetection.memory_profile.json.gz\n",
      "2024-01-18 04:40:40.559772: I tensorflow/core/profiler/rpc/client/capture_profile.cc:251] Creating directory: ../logs/240104_w_shaft/1705520438.836241/train/plugins/profile/2024_01_18_04_40_40\n",
      "Dumped tool data for xplane.pb to ../logs/240104_w_shaft/1705520438.836241/train/plugins/profile/2024_01_18_04_40_40/winddetection.xplane.pb\n",
      "Dumped tool data for overview_page.pb to ../logs/240104_w_shaft/1705520438.836241/train/plugins/profile/2024_01_18_04_40_40/winddetection.overview_page.pb\n",
      "Dumped tool data for input_pipeline.pb to ../logs/240104_w_shaft/1705520438.836241/train/plugins/profile/2024_01_18_04_40_40/winddetection.input_pipeline.pb\n",
      "Dumped tool data for tensorflow_stats.pb to ../logs/240104_w_shaft/1705520438.836241/train/plugins/profile/2024_01_18_04_40_40/winddetection.tensorflow_stats.pb\n",
      "Dumped tool data for kernel_stats.pb to ../logs/240104_w_shaft/1705520438.836241/train/plugins/profile/2024_01_18_04_40_40/winddetection.kernel_stats.pb\n",
      "\n",
      "WARNING:tensorflow:Callback method `on_train_batch_begin` is slow compared to the batch time (batch time: 0.0029s vs `on_train_batch_begin` time: 0.0516s). Check your callbacks.\n"
     ]
    },
    {
     "name": "stdout",
     "output_type": "stream",
     "text": [
      "WARNING:tensorflow:Callback method `on_train_batch_end` is slow compared to the batch time (batch time: 0.0029s vs `on_train_batch_end` time: 0.0532s). Check your callbacks.\n"
     ]
    },
    {
     "name": "stderr",
     "output_type": "stream",
     "text": [
      "WARNING:tensorflow:Callback method `on_train_batch_end` is slow compared to the batch time (batch time: 0.0029s vs `on_train_batch_end` time: 0.0532s). Check your callbacks.\n"
     ]
    },
    {
     "name": "stdout",
     "output_type": "stream",
     "text": [
      "Training end time: 2024-01-18 05:37:35\n",
      "Training took 0:56:55.929720 (h:m:s)\n",
      "../models/240104_w_shaft/1_CNN/flatten_data/data_split_by_0.5_period/cutoff400_m3000/not_normalized\n"
     ]
    },
    {
     "name": "stderr",
     "output_type": "stream",
     "text": [
      "WARNING:absl:Found untraced functions such as _jit_compiled_convolution_op, _jit_compiled_convolution_op, _jit_compiled_convolution_op, _jit_compiled_convolution_op while saving (showing 4 of 4). These functions will not be directly callable after loading.\n"
     ]
    },
    {
     "name": "stdout",
     "output_type": "stream",
     "text": [
      "INFO:tensorflow:Assets written to: ../models/240104_w_shaft/1_CNN/flatten_data/data_split_by_0.5_period/cutoff400_m3000/not_normalized/my_model_CH7/assets\n"
     ]
    },
    {
     "name": "stderr",
     "output_type": "stream",
     "text": [
      "INFO:tensorflow:Assets written to: ../models/240104_w_shaft/1_CNN/flatten_data/data_split_by_0.5_period/cutoff400_m3000/not_normalized/my_model_CH7/assets\n"
     ]
    },
    {
     "name": "stdout",
     "output_type": "stream",
     "text": [
      "\n",
      "\n",
      "\n",
      "\n"
     ]
    },
    {
     "data": {
      "application/vnd.jupyter.widget-view+json": {
       "model_id": "be5fa22194fe4a768dd8b0b56c48206f",
       "version_major": 2,
       "version_minor": 0
      },
      "text/plain": [
       "  0%|          | 0/3 [00:00<?, ?it/s]"
      ]
     },
     "metadata": {},
     "output_type": "display_data"
    },
    {
     "name": "stdout",
     "output_type": "stream",
     "text": [
      "/cutoff100_m6500\n",
      "7\n",
      "Should Flatten:  True\n",
      "Split parameter:  data_split_by_0.2_period\n",
      "Which Channel:  SG7\n",
      "Should Normalize: False\n",
      "Num of train data：20121 (0deg：2515 / 15deg：2515 / 30deg：2515 / 45deg：2515 / 60deg：2515 / 75deg：2515 / 90deg：2515 / No Wind：2516)\n",
      "Num of test data：5031 (0deg：629 / 15deg：629 / 30deg：629 / 45deg：629 / 60deg：629 / 75deg：629 / 90deg：629 / No Wind：628)\n",
      "Model: \"model\"\n",
      "_________________________________________________________________\n",
      " Layer (type)                Output Shape              Param #   \n",
      "=================================================================\n",
      " input_1 (InputLayer)        [(None, 166, 1)]          0         \n",
      "                                                                 \n",
      " conv1d (Conv1D)             (None, 103, 16)           1040      \n",
      "                                                                 \n",
      " re_lu (ReLU)                (None, 103, 16)           0         \n",
      "                                                                 \n",
      " batch_normalization (BatchN  (None, 103, 16)          64        \n",
      " ormalization)                                                   \n",
      "                                                                 \n",
      " dropout (Dropout)           (None, 103, 16)           0         \n",
      "                                                                 \n",
      " conv1d_1 (Conv1D)           (None, 72, 16)            8208      \n",
      "                                                                 \n",
      " re_lu_1 (ReLU)              (None, 72, 16)            0         \n",
      "                                                                 \n",
      " batch_normalization_1 (Batc  (None, 72, 16)           64        \n",
      " hNormalization)                                                 \n",
      "                                                                 \n",
      " dropout_1 (Dropout)         (None, 72, 16)            0         \n",
      "                                                                 \n",
      " conv1d_2 (Conv1D)           (None, 57, 16)            4112      \n",
      "                                                                 \n",
      " re_lu_2 (ReLU)              (None, 57, 16)            0         \n",
      "                                                                 \n",
      " batch_normalization_2 (Batc  (None, 57, 16)           64        \n",
      " hNormalization)                                                 \n",
      "                                                                 \n",
      " dropout_2 (Dropout)         (None, 57, 16)            0         \n",
      "                                                                 \n",
      " flatten (Flatten)           (None, 912)               0         \n",
      "                                                                 \n",
      " dense (Dense)               (None, 8)                 7304      \n",
      "                                                                 \n",
      " tf.nn.softmax (TFOpLambda)  (None, 8)                 0         \n",
      "                                                                 \n",
      "=================================================================\n",
      "Total params: 20,856\n",
      "Trainable params: 20,760\n",
      "Non-trainable params: 96\n",
      "_________________________________________________________________\n",
      "14000\n"
     ]
    },
    {
     "name": "stderr",
     "output_type": "stream",
     "text": [
      "2024-01-18 05:37:38.768459: I tensorflow/core/profiler/lib/profiler_session.cc:101] Profiler session initializing.\n",
      "2024-01-18 05:37:38.768474: I tensorflow/core/profiler/lib/profiler_session.cc:116] Profiler session started.\n"
     ]
    },
    {
     "name": "stdout",
     "output_type": "stream",
     "text": [
      "Training start time: 2024-01-18 05:37:39\n"
     ]
    },
    {
     "name": "stderr",
     "output_type": "stream",
     "text": [
      "2024-01-18 05:37:39.210235: I tensorflow/core/profiler/lib/profiler_session.cc:128] Profiler session tear down.\n",
      "2024-01-18 05:37:39.210364: I tensorflow/core/profiler/backends/gpu/cupti_tracer.cc:1798] CUPTI activity buffer flushed\n"
     ]
    },
    {
     "data": {
      "application/vnd.jupyter.widget-view+json": {
       "model_id": "d4e2d3e6c38d402e9bcc7d0c9ad58289",
       "version_major": 2,
       "version_minor": 0
      },
      "text/plain": [
       "Epoch Progress:   0%|          | 0/14000 [00:00<?, ?epoch/s]"
      ]
     },
     "metadata": {},
     "output_type": "display_data"
    },
    {
     "name": "stderr",
     "output_type": "stream",
     "text": [
      "2024-01-18 05:37:40.000641: I tensorflow/core/profiler/lib/profiler_session.cc:101] Profiler session initializing.\n",
      "2024-01-18 05:37:40.000662: I tensorflow/core/profiler/lib/profiler_session.cc:116] Profiler session started.\n"
     ]
    },
    {
     "name": "stdout",
     "output_type": "stream",
     "text": [
      "WARNING:tensorflow:Callback method `on_train_batch_begin` is slow compared to the batch time (batch time: 0.0025s vs `on_train_batch_begin` time: 0.0762s). Check your callbacks.\n"
     ]
    },
    {
     "name": "stderr",
     "output_type": "stream",
     "text": [
      "2024-01-18 05:37:40.616361: I tensorflow/core/profiler/lib/profiler_session.cc:67] Profiler session collecting data.\n",
      "2024-01-18 05:37:40.640957: I tensorflow/core/profiler/backends/gpu/cupti_tracer.cc:1798] CUPTI activity buffer flushed\n",
      "2024-01-18 05:37:40.690778: I tensorflow/core/profiler/backends/gpu/cupti_collector.cc:521]  GpuTracer has collected 258 callback api events and 258 activity events. \n",
      "2024-01-18 05:37:40.710760: I tensorflow/core/profiler/lib/profiler_session.cc:128] Profiler session tear down.\n",
      "2024-01-18 05:37:40.715568: I tensorflow/core/profiler/rpc/client/save_profile.cc:136] Creating directory: ../logs/240104_w_shaft/1705523858.768402/train/plugins/profile/2024_01_18_05_37_40\n",
      "\n",
      "2024-01-18 05:37:40.718052: I tensorflow/core/profiler/rpc/client/save_profile.cc:142] Dumped gzipped tool data for trace.json.gz to ../logs/240104_w_shaft/1705523858.768402/train/plugins/profile/2024_01_18_05_37_40/winddetection.trace.json.gz\n",
      "2024-01-18 05:37:40.735672: I tensorflow/core/profiler/rpc/client/save_profile.cc:136] Creating directory: ../logs/240104_w_shaft/1705523858.768402/train/plugins/profile/2024_01_18_05_37_40\n",
      "\n",
      "2024-01-18 05:37:40.741747: I tensorflow/core/profiler/rpc/client/save_profile.cc:142] Dumped gzipped tool data for memory_profile.json.gz to ../logs/240104_w_shaft/1705523858.768402/train/plugins/profile/2024_01_18_05_37_40/winddetection.memory_profile.json.gz\n",
      "2024-01-18 05:37:40.742435: I tensorflow/core/profiler/rpc/client/capture_profile.cc:251] Creating directory: ../logs/240104_w_shaft/1705523858.768402/train/plugins/profile/2024_01_18_05_37_40\n",
      "Dumped tool data for xplane.pb to ../logs/240104_w_shaft/1705523858.768402/train/plugins/profile/2024_01_18_05_37_40/winddetection.xplane.pb\n",
      "Dumped tool data for overview_page.pb to ../logs/240104_w_shaft/1705523858.768402/train/plugins/profile/2024_01_18_05_37_40/winddetection.overview_page.pb\n",
      "Dumped tool data for input_pipeline.pb to ../logs/240104_w_shaft/1705523858.768402/train/plugins/profile/2024_01_18_05_37_40/winddetection.input_pipeline.pb\n",
      "Dumped tool data for tensorflow_stats.pb to ../logs/240104_w_shaft/1705523858.768402/train/plugins/profile/2024_01_18_05_37_40/winddetection.tensorflow_stats.pb\n",
      "Dumped tool data for kernel_stats.pb to ../logs/240104_w_shaft/1705523858.768402/train/plugins/profile/2024_01_18_05_37_40/winddetection.kernel_stats.pb\n",
      "\n",
      "WARNING:tensorflow:Callback method `on_train_batch_begin` is slow compared to the batch time (batch time: 0.0025s vs `on_train_batch_begin` time: 0.0762s). Check your callbacks.\n"
     ]
    },
    {
     "name": "stdout",
     "output_type": "stream",
     "text": [
      "WARNING:tensorflow:Callback method `on_train_batch_end` is slow compared to the batch time (batch time: 0.0025s vs `on_train_batch_end` time: 0.0511s). Check your callbacks.\n"
     ]
    },
    {
     "name": "stderr",
     "output_type": "stream",
     "text": [
      "WARNING:tensorflow:Callback method `on_train_batch_end` is slow compared to the batch time (batch time: 0.0025s vs `on_train_batch_end` time: 0.0511s). Check your callbacks.\n"
     ]
    },
    {
     "name": "stdout",
     "output_type": "stream",
     "text": [
      "Training end time: 2024-01-18 06:29:04\n",
      "Training took 0:51:24.811003 (h:m:s)\n",
      "../models/240104_w_shaft/1_CNN/flatten_data/data_split_by_0.2_period/cutoff100_m6500/not_normalized\n"
     ]
    },
    {
     "name": "stderr",
     "output_type": "stream",
     "text": [
      "WARNING:absl:Found untraced functions such as _jit_compiled_convolution_op, _jit_compiled_convolution_op, _jit_compiled_convolution_op while saving (showing 3 of 3). These functions will not be directly callable after loading.\n"
     ]
    },
    {
     "name": "stdout",
     "output_type": "stream",
     "text": [
      "INFO:tensorflow:Assets written to: ../models/240104_w_shaft/1_CNN/flatten_data/data_split_by_0.2_period/cutoff100_m6500/not_normalized/my_model_CH7/assets\n"
     ]
    },
    {
     "name": "stderr",
     "output_type": "stream",
     "text": [
      "INFO:tensorflow:Assets written to: ../models/240104_w_shaft/1_CNN/flatten_data/data_split_by_0.2_period/cutoff100_m6500/not_normalized/my_model_CH7/assets\n"
     ]
    },
    {
     "name": "stdout",
     "output_type": "stream",
     "text": [
      "\n",
      "\n",
      "\n",
      "\n",
      "/cutoff200_m3500\n",
      "7\n",
      "Should Flatten:  True\n",
      "Split parameter:  data_split_by_0.2_period\n",
      "Which Channel:  SG7\n",
      "Should Normalize: False\n",
      "Num of train data：21504 (0deg：2688 / 15deg：2688 / 30deg：2688 / 45deg：2688 / 60deg：2688 / 75deg：2688 / 90deg：2688 / No Wind：2688)\n",
      "Num of test data：5376 (0deg：672 / 15deg：672 / 30deg：672 / 45deg：672 / 60deg：672 / 75deg：672 / 90deg：672 / No Wind：672)\n",
      "Model: \"model\"\n",
      "_________________________________________________________________\n",
      " Layer (type)                Output Shape              Param #   \n",
      "=================================================================\n",
      " input_1 (InputLayer)        [(None, 166, 1)]          0         \n",
      "                                                                 \n",
      " conv1d (Conv1D)             (None, 103, 16)           1040      \n",
      "                                                                 \n",
      " re_lu (ReLU)                (None, 103, 16)           0         \n",
      "                                                                 \n",
      " batch_normalization (BatchN  (None, 103, 16)          64        \n",
      " ormalization)                                                   \n",
      "                                                                 \n",
      " dropout (Dropout)           (None, 103, 16)           0         \n",
      "                                                                 \n",
      " conv1d_1 (Conv1D)           (None, 72, 16)            8208      \n",
      "                                                                 \n",
      " re_lu_1 (ReLU)              (None, 72, 16)            0         \n",
      "                                                                 \n",
      " batch_normalization_1 (Batc  (None, 72, 16)           64        \n",
      " hNormalization)                                                 \n",
      "                                                                 \n",
      " dropout_1 (Dropout)         (None, 72, 16)            0         \n",
      "                                                                 \n",
      " conv1d_2 (Conv1D)           (None, 57, 16)            4112      \n",
      "                                                                 \n",
      " re_lu_2 (ReLU)              (None, 57, 16)            0         \n",
      "                                                                 \n",
      " batch_normalization_2 (Batc  (None, 57, 16)           64        \n",
      " hNormalization)                                                 \n",
      "                                                                 \n",
      " dropout_2 (Dropout)         (None, 57, 16)            0         \n",
      "                                                                 \n",
      " flatten (Flatten)           (None, 912)               0         \n",
      "                                                                 \n",
      " dense (Dense)               (None, 8)                 7304      \n",
      "                                                                 \n",
      " tf.nn.softmax (TFOpLambda)  (None, 8)                 0         \n",
      "                                                                 \n",
      "=================================================================\n",
      "Total params: 20,856\n",
      "Trainable params: 20,760\n",
      "Non-trainable params: 96\n",
      "_________________________________________________________________\n",
      "14000\n"
     ]
    },
    {
     "name": "stderr",
     "output_type": "stream",
     "text": [
      "2024-01-18 06:29:08.167188: I tensorflow/core/profiler/lib/profiler_session.cc:101] Profiler session initializing.\n",
      "2024-01-18 06:29:08.167204: I tensorflow/core/profiler/lib/profiler_session.cc:116] Profiler session started.\n"
     ]
    },
    {
     "name": "stdout",
     "output_type": "stream",
     "text": [
      "Training start time: 2024-01-18 06:29:08\n"
     ]
    },
    {
     "name": "stderr",
     "output_type": "stream",
     "text": [
      "2024-01-18 06:29:08.548059: I tensorflow/core/profiler/lib/profiler_session.cc:128] Profiler session tear down.\n",
      "2024-01-18 06:29:08.548196: I tensorflow/core/profiler/backends/gpu/cupti_tracer.cc:1798] CUPTI activity buffer flushed\n"
     ]
    },
    {
     "data": {
      "application/vnd.jupyter.widget-view+json": {
       "model_id": "8231a86d03b549aea93d7aa78162064d",
       "version_major": 2,
       "version_minor": 0
      },
      "text/plain": [
       "Epoch Progress:   0%|          | 0/14000 [00:00<?, ?epoch/s]"
      ]
     },
     "metadata": {},
     "output_type": "display_data"
    },
    {
     "name": "stderr",
     "output_type": "stream",
     "text": [
      "2024-01-18 06:29:09.347119: I tensorflow/core/profiler/lib/profiler_session.cc:101] Profiler session initializing.\n",
      "2024-01-18 06:29:09.347135: I tensorflow/core/profiler/lib/profiler_session.cc:116] Profiler session started.\n"
     ]
    },
    {
     "name": "stdout",
     "output_type": "stream",
     "text": [
      "WARNING:tensorflow:Callback method `on_train_batch_begin` is slow compared to the batch time (batch time: 0.0026s vs `on_train_batch_begin` time: 0.0662s). Check your callbacks.\n"
     ]
    },
    {
     "name": "stderr",
     "output_type": "stream",
     "text": [
      "2024-01-18 06:29:09.897163: I tensorflow/core/profiler/lib/profiler_session.cc:67] Profiler session collecting data.\n",
      "2024-01-18 06:29:09.922100: I tensorflow/core/profiler/backends/gpu/cupti_tracer.cc:1798] CUPTI activity buffer flushed\n",
      "2024-01-18 06:29:09.993104: I tensorflow/core/profiler/backends/gpu/cupti_collector.cc:521]  GpuTracer has collected 258 callback api events and 258 activity events. \n",
      "2024-01-18 06:29:10.016656: I tensorflow/core/profiler/lib/profiler_session.cc:128] Profiler session tear down.\n",
      "2024-01-18 06:29:10.021873: I tensorflow/core/profiler/rpc/client/save_profile.cc:136] Creating directory: ../logs/240104_w_shaft/1705526948.167132/train/plugins/profile/2024_01_18_06_29_10\n",
      "\n",
      "2024-01-18 06:29:10.024366: I tensorflow/core/profiler/rpc/client/save_profile.cc:142] Dumped gzipped tool data for trace.json.gz to ../logs/240104_w_shaft/1705526948.167132/train/plugins/profile/2024_01_18_06_29_10/winddetection.trace.json.gz\n",
      "2024-01-18 06:29:10.042926: I tensorflow/core/profiler/rpc/client/save_profile.cc:136] Creating directory: ../logs/240104_w_shaft/1705526948.167132/train/plugins/profile/2024_01_18_06_29_10\n",
      "\n",
      "2024-01-18 06:29:10.048630: I tensorflow/core/profiler/rpc/client/save_profile.cc:142] Dumped gzipped tool data for memory_profile.json.gz to ../logs/240104_w_shaft/1705526948.167132/train/plugins/profile/2024_01_18_06_29_10/winddetection.memory_profile.json.gz\n",
      "2024-01-18 06:29:10.049465: I tensorflow/core/profiler/rpc/client/capture_profile.cc:251] Creating directory: ../logs/240104_w_shaft/1705526948.167132/train/plugins/profile/2024_01_18_06_29_10\n",
      "Dumped tool data for xplane.pb to ../logs/240104_w_shaft/1705526948.167132/train/plugins/profile/2024_01_18_06_29_10/winddetection.xplane.pb\n",
      "Dumped tool data for overview_page.pb to ../logs/240104_w_shaft/1705526948.167132/train/plugins/profile/2024_01_18_06_29_10/winddetection.overview_page.pb\n",
      "Dumped tool data for input_pipeline.pb to ../logs/240104_w_shaft/1705526948.167132/train/plugins/profile/2024_01_18_06_29_10/winddetection.input_pipeline.pb\n",
      "Dumped tool data for tensorflow_stats.pb to ../logs/240104_w_shaft/1705526948.167132/train/plugins/profile/2024_01_18_06_29_10/winddetection.tensorflow_stats.pb\n",
      "Dumped tool data for kernel_stats.pb to ../logs/240104_w_shaft/1705526948.167132/train/plugins/profile/2024_01_18_06_29_10/winddetection.kernel_stats.pb\n",
      "\n",
      "WARNING:tensorflow:Callback method `on_train_batch_begin` is slow compared to the batch time (batch time: 0.0026s vs `on_train_batch_begin` time: 0.0662s). Check your callbacks.\n"
     ]
    },
    {
     "name": "stdout",
     "output_type": "stream",
     "text": [
      "WARNING:tensorflow:Callback method `on_train_batch_end` is slow compared to the batch time (batch time: 0.0026s vs `on_train_batch_end` time: 0.0550s). Check your callbacks.\n"
     ]
    },
    {
     "name": "stderr",
     "output_type": "stream",
     "text": [
      "WARNING:tensorflow:Callback method `on_train_batch_end` is slow compared to the batch time (batch time: 0.0026s vs `on_train_batch_end` time: 0.0550s). Check your callbacks.\n"
     ]
    },
    {
     "name": "stdout",
     "output_type": "stream",
     "text": [
      "Training end time: 2024-01-18 07:23:54\n",
      "Training took 0:54:46.151428 (h:m:s)\n",
      "../models/240104_w_shaft/1_CNN/flatten_data/data_split_by_0.2_period/cutoff200_m3500/not_normalized\n"
     ]
    },
    {
     "name": "stderr",
     "output_type": "stream",
     "text": [
      "WARNING:absl:Found untraced functions such as _jit_compiled_convolution_op, _jit_compiled_convolution_op, _jit_compiled_convolution_op while saving (showing 3 of 3). These functions will not be directly callable after loading.\n"
     ]
    },
    {
     "name": "stdout",
     "output_type": "stream",
     "text": [
      "INFO:tensorflow:Assets written to: ../models/240104_w_shaft/1_CNN/flatten_data/data_split_by_0.2_period/cutoff200_m3500/not_normalized/my_model_CH7/assets\n"
     ]
    },
    {
     "name": "stderr",
     "output_type": "stream",
     "text": [
      "INFO:tensorflow:Assets written to: ../models/240104_w_shaft/1_CNN/flatten_data/data_split_by_0.2_period/cutoff200_m3500/not_normalized/my_model_CH7/assets\n"
     ]
    },
    {
     "name": "stdout",
     "output_type": "stream",
     "text": [
      "\n",
      "\n",
      "\n",
      "\n",
      "/cutoff400_m3000\n",
      "7\n",
      "Should Flatten:  True\n",
      "Split parameter:  data_split_by_0.2_period\n",
      "Which Channel:  SG7\n",
      "Should Normalize: False\n",
      "Num of train data：21734 (0deg：2717 / 15deg：2717 / 30deg：2717 / 45deg：2716 / 60deg：2717 / 75deg：2717 / 90deg：2716 / No Wind：2717)\n",
      "Num of test data：5434 (0deg：679 / 15deg：679 / 30deg：679 / 45deg：680 / 60deg：679 / 75deg：679 / 90deg：680 / No Wind：679)\n",
      "Model: \"model\"\n",
      "_________________________________________________________________\n",
      " Layer (type)                Output Shape              Param #   \n",
      "=================================================================\n",
      " input_1 (InputLayer)        [(None, 166, 1)]          0         \n",
      "                                                                 \n",
      " conv1d (Conv1D)             (None, 103, 16)           1040      \n",
      "                                                                 \n",
      " re_lu (ReLU)                (None, 103, 16)           0         \n",
      "                                                                 \n",
      " batch_normalization (BatchN  (None, 103, 16)          64        \n",
      " ormalization)                                                   \n",
      "                                                                 \n",
      " dropout (Dropout)           (None, 103, 16)           0         \n",
      "                                                                 \n",
      " conv1d_1 (Conv1D)           (None, 72, 16)            8208      \n",
      "                                                                 \n",
      " re_lu_1 (ReLU)              (None, 72, 16)            0         \n",
      "                                                                 \n",
      " batch_normalization_1 (Batc  (None, 72, 16)           64        \n",
      " hNormalization)                                                 \n",
      "                                                                 \n",
      " dropout_1 (Dropout)         (None, 72, 16)            0         \n",
      "                                                                 \n",
      " conv1d_2 (Conv1D)           (None, 57, 16)            4112      \n",
      "                                                                 \n",
      " re_lu_2 (ReLU)              (None, 57, 16)            0         \n",
      "                                                                 \n",
      " batch_normalization_2 (Batc  (None, 57, 16)           64        \n",
      " hNormalization)                                                 \n",
      "                                                                 \n",
      " dropout_2 (Dropout)         (None, 57, 16)            0         \n",
      "                                                                 \n",
      " flatten (Flatten)           (None, 912)               0         \n",
      "                                                                 \n",
      " dense (Dense)               (None, 8)                 7304      \n",
      "                                                                 \n",
      " tf.nn.softmax (TFOpLambda)  (None, 8)                 0         \n",
      "                                                                 \n",
      "=================================================================\n",
      "Total params: 20,856\n",
      "Trainable params: 20,760\n",
      "Non-trainable params: 96\n",
      "_________________________________________________________________\n",
      "14000\n"
     ]
    },
    {
     "name": "stderr",
     "output_type": "stream",
     "text": [
      "2024-01-18 07:23:58.382899: I tensorflow/core/profiler/lib/profiler_session.cc:101] Profiler session initializing.\n",
      "2024-01-18 07:23:58.382915: I tensorflow/core/profiler/lib/profiler_session.cc:116] Profiler session started.\n"
     ]
    },
    {
     "name": "stdout",
     "output_type": "stream",
     "text": [
      "Training start time: 2024-01-18 07:23:58\n"
     ]
    },
    {
     "name": "stderr",
     "output_type": "stream",
     "text": [
      "2024-01-18 07:23:58.821166: I tensorflow/core/profiler/lib/profiler_session.cc:128] Profiler session tear down.\n",
      "2024-01-18 07:23:58.821304: I tensorflow/core/profiler/backends/gpu/cupti_tracer.cc:1798] CUPTI activity buffer flushed\n"
     ]
    },
    {
     "data": {
      "application/vnd.jupyter.widget-view+json": {
       "model_id": "a5acba1a14914cbb8cb6841a45621fc5",
       "version_major": 2,
       "version_minor": 0
      },
      "text/plain": [
       "Epoch Progress:   0%|          | 0/14000 [00:00<?, ?epoch/s]"
      ]
     },
     "metadata": {},
     "output_type": "display_data"
    },
    {
     "name": "stderr",
     "output_type": "stream",
     "text": [
      "2024-01-18 07:23:59.909505: I tensorflow/core/profiler/lib/profiler_session.cc:101] Profiler session initializing.\n",
      "2024-01-18 07:23:59.909523: I tensorflow/core/profiler/lib/profiler_session.cc:116] Profiler session started.\n"
     ]
    },
    {
     "name": "stdout",
     "output_type": "stream",
     "text": [
      "WARNING:tensorflow:Callback method `on_train_batch_begin` is slow compared to the batch time (batch time: 0.0026s vs `on_train_batch_begin` time: 0.0753s). Check your callbacks.\n"
     ]
    },
    {
     "name": "stderr",
     "output_type": "stream",
     "text": [
      "2024-01-18 07:24:00.530542: I tensorflow/core/profiler/lib/profiler_session.cc:67] Profiler session collecting data.\n",
      "2024-01-18 07:24:00.558488: I tensorflow/core/profiler/backends/gpu/cupti_tracer.cc:1798] CUPTI activity buffer flushed\n",
      "2024-01-18 07:24:00.657930: I tensorflow/core/profiler/backends/gpu/cupti_collector.cc:521]  GpuTracer has collected 258 callback api events and 258 activity events. \n",
      "2024-01-18 07:24:00.683049: I tensorflow/core/profiler/lib/profiler_session.cc:128] Profiler session tear down.\n",
      "2024-01-18 07:24:00.688321: I tensorflow/core/profiler/rpc/client/save_profile.cc:136] Creating directory: ../logs/240104_w_shaft/1705530238.382842/train/plugins/profile/2024_01_18_07_24_00\n",
      "\n",
      "2024-01-18 07:24:00.690776: I tensorflow/core/profiler/rpc/client/save_profile.cc:142] Dumped gzipped tool data for trace.json.gz to ../logs/240104_w_shaft/1705530238.382842/train/plugins/profile/2024_01_18_07_24_00/winddetection.trace.json.gz\n",
      "2024-01-18 07:24:00.709293: I tensorflow/core/profiler/rpc/client/save_profile.cc:136] Creating directory: ../logs/240104_w_shaft/1705530238.382842/train/plugins/profile/2024_01_18_07_24_00\n",
      "\n",
      "2024-01-18 07:24:00.715643: I tensorflow/core/profiler/rpc/client/save_profile.cc:142] Dumped gzipped tool data for memory_profile.json.gz to ../logs/240104_w_shaft/1705530238.382842/train/plugins/profile/2024_01_18_07_24_00/winddetection.memory_profile.json.gz\n",
      "2024-01-18 07:24:00.716465: I tensorflow/core/profiler/rpc/client/capture_profile.cc:251] Creating directory: ../logs/240104_w_shaft/1705530238.382842/train/plugins/profile/2024_01_18_07_24_00\n",
      "Dumped tool data for xplane.pb to ../logs/240104_w_shaft/1705530238.382842/train/plugins/profile/2024_01_18_07_24_00/winddetection.xplane.pb\n",
      "Dumped tool data for overview_page.pb to ../logs/240104_w_shaft/1705530238.382842/train/plugins/profile/2024_01_18_07_24_00/winddetection.overview_page.pb\n",
      "Dumped tool data for input_pipeline.pb to ../logs/240104_w_shaft/1705530238.382842/train/plugins/profile/2024_01_18_07_24_00/winddetection.input_pipeline.pb\n",
      "Dumped tool data for tensorflow_stats.pb to ../logs/240104_w_shaft/1705530238.382842/train/plugins/profile/2024_01_18_07_24_00/winddetection.tensorflow_stats.pb\n",
      "Dumped tool data for kernel_stats.pb to ../logs/240104_w_shaft/1705530238.382842/train/plugins/profile/2024_01_18_07_24_00/winddetection.kernel_stats.pb\n",
      "\n",
      "WARNING:tensorflow:Callback method `on_train_batch_begin` is slow compared to the batch time (batch time: 0.0026s vs `on_train_batch_begin` time: 0.0753s). Check your callbacks.\n"
     ]
    },
    {
     "name": "stdout",
     "output_type": "stream",
     "text": [
      "WARNING:tensorflow:Callback method `on_train_batch_end` is slow compared to the batch time (batch time: 0.0026s vs `on_train_batch_end` time: 0.0633s). Check your callbacks.\n"
     ]
    },
    {
     "name": "stderr",
     "output_type": "stream",
     "text": [
      "WARNING:tensorflow:Callback method `on_train_batch_end` is slow compared to the batch time (batch time: 0.0026s vs `on_train_batch_end` time: 0.0633s). Check your callbacks.\n"
     ]
    },
    {
     "name": "stdout",
     "output_type": "stream",
     "text": [
      "Training end time: 2024-01-18 08:19:04\n",
      "Training took 0:55:05.149806 (h:m:s)\n",
      "../models/240104_w_shaft/1_CNN/flatten_data/data_split_by_0.2_period/cutoff400_m3000/not_normalized\n"
     ]
    },
    {
     "name": "stderr",
     "output_type": "stream",
     "text": [
      "WARNING:absl:Found untraced functions such as _jit_compiled_convolution_op, _jit_compiled_convolution_op, _jit_compiled_convolution_op while saving (showing 3 of 3). These functions will not be directly callable after loading.\n"
     ]
    },
    {
     "name": "stdout",
     "output_type": "stream",
     "text": [
      "INFO:tensorflow:Assets written to: ../models/240104_w_shaft/1_CNN/flatten_data/data_split_by_0.2_period/cutoff400_m3000/not_normalized/my_model_CH7/assets\n"
     ]
    },
    {
     "name": "stderr",
     "output_type": "stream",
     "text": [
      "INFO:tensorflow:Assets written to: ../models/240104_w_shaft/1_CNN/flatten_data/data_split_by_0.2_period/cutoff400_m3000/not_normalized/my_model_CH7/assets\n"
     ]
    },
    {
     "name": "stdout",
     "output_type": "stream",
     "text": [
      "\n",
      "\n",
      "\n",
      "\n"
     ]
    }
   ],
   "source": [
    "from tensorflow.keras import backend\n",
    "\n",
    "epochs = 0\n",
    "\n",
    "for should_use_flatten_data in tqdm(should_use_flatten_data_list):\n",
    "    for should_normalize in tqdm(should_normalize_list):\n",
    "        for which_channel in tqdm(which_channels_list):\n",
    "            for chosen_parameter_folder_name in tqdm(chosen_parameter_folder_names_list):\n",
    "                for m_and_cf in tqdm(m_and_cfs):\n",
    "                    cnn_data_trainer.update_settings_efficiently(\n",
    "                        should_use_flatten_data=should_use_flatten_data,\n",
    "                        should_normalize=should_normalize,\n",
    "                        which_channel=which_channel,\n",
    "                        chosen_parameter_folder_name=chosen_parameter_folder_name,\n",
    "                        m_and_cf=m_and_cf\n",
    "                    )\n",
    "                    cnn_data_trainer.load_train_test_data()\n",
    "                    cnn_data_trainer.get_model(optimizer='adam',\n",
    "                                                loss='sparse_categorical_crossentropy',\n",
    "                                                metrics=['accuracy'])\n",
    "                    \n",
    "                    if chosen_parameter_folder_name == \"data_split_by_1_period\":\n",
    "                        if len(which_channel) == 1:\n",
    "                            epochs = 7000\n",
    "                        elif len(which_channel) == 7 or len(which_channel) == 0:\n",
    "                            epochs = 3000\n",
    "                    elif chosen_parameter_folder_name == \"data_split_by_0.5_period\":\n",
    "                        if len(which_channel) == 1:\n",
    "                            epochs = 19000\n",
    "                        elif len(which_channel) == 7 or len(which_channel) == 0:\n",
    "                            epochs = 3000\n",
    "                    elif chosen_parameter_folder_name == \"data_split_by_0.2_period\":\n",
    "                        if len(which_channel) == 1:\n",
    "                            epochs = 14000\n",
    "                        elif len(which_channel) == 7 or len(which_channel) == 0:\n",
    "                            epochs = 17000\n",
    "                    print(epochs)\n",
    "                    if epochs < 1:\n",
    "                        raise Exception()\n",
    "                    cnn_data_trainer.train_model(epochs=epochs, verbose=0, validation_split=0.2, batch_size=128)\n",
    "                    cnn_data_trainer.save_model()\n",
    "\n",
    "                    epochs = 0\n",
    "\n",
    "                    print(\"\\n\\n\\n\")\n",
    "\n",
    "                    # セッションのクリア\n",
    "                    backend.clear_session()"
   ]
  },
  {
   "cell_type": "code",
   "execution_count": 10,
   "metadata": {},
   "outputs": [
    {
     "name": "stdout",
     "output_type": "stream",
     "text": [
      "/cutoff200_m3500\n",
      "/cutoff400_m3000\n",
      "All folders exist.\n"
     ]
    }
   ],
   "source": [
    "# should_use_flatten_data_list = [False]\n",
    "should_use_flatten_data_list = [True]\n",
    "should_normalize_list = [False]\n",
    "# should_normalize_list = [True]\n",
    "# should_normalize_list = [False, True]\n",
    "\n",
    "# which_channels_list = [\"\", \"1234567\", \"1\", \"2\", \"3\", \"4\", \"5\", \"6\", \"7\"]\n",
    "which_channels_list = [\"6\"]\n",
    "chosen_parameter_folder_names_list = [\n",
    "    # \"data_split_by_1_period\",\n",
    "    # \"data_split_by_0.5_period\",\n",
    "    \"data_split_by_0.2_period\",\n",
    "]\n",
    "# m_and_cfs = [{\"m\": 6500, \"frequency_c\": 100}, {\"m\": 3500, \"frequency_c\": 200}, {\"m\": 3000, \"frequency_c\": 400}]\n",
    "m_and_cfs = [{\"m\": 3500, \"frequency_c\": 200}, {\"m\": 3000, \"frequency_c\": 400}]\n",
    "# m_and_cfs = [{\"m\": 6500, \"frequency_c\": 100}, {\"m\": 3500, \"frequency_c\": 200}]\n",
    "# chosen_parameter_folder_names_list = [\n",
    "#     \"data_split_by_0.1_period\"\n",
    "# ]\n",
    "\n",
    "cnn_data_trainer.check_folders_existence(should_use_flatten_data_list, should_normalize_list, which_channels_list, chosen_parameter_folder_names_list, m_and_cfs)"
   ]
  },
  {
   "cell_type": "code",
   "execution_count": 11,
   "metadata": {},
   "outputs": [
    {
     "data": {
      "application/vnd.jupyter.widget-view+json": {
       "model_id": "ae2357a8ec0640059e88e0425dcab450",
       "version_major": 2,
       "version_minor": 0
      },
      "text/plain": [
       "  0%|          | 0/1 [00:00<?, ?it/s]"
      ]
     },
     "metadata": {},
     "output_type": "display_data"
    },
    {
     "data": {
      "application/vnd.jupyter.widget-view+json": {
       "model_id": "63c003bf4c2a40a382e16bcdcbd71432",
       "version_major": 2,
       "version_minor": 0
      },
      "text/plain": [
       "  0%|          | 0/1 [00:00<?, ?it/s]"
      ]
     },
     "metadata": {},
     "output_type": "display_data"
    },
    {
     "data": {
      "application/vnd.jupyter.widget-view+json": {
       "model_id": "b09b0e75f8f549158b3a9ffe14a4299d",
       "version_major": 2,
       "version_minor": 0
      },
      "text/plain": [
       "  0%|          | 0/1 [00:00<?, ?it/s]"
      ]
     },
     "metadata": {},
     "output_type": "display_data"
    },
    {
     "data": {
      "application/vnd.jupyter.widget-view+json": {
       "model_id": "2bbbef5a7ef04e55bc11fcf4f0b15f18",
       "version_major": 2,
       "version_minor": 0
      },
      "text/plain": [
       "  0%|          | 0/1 [00:00<?, ?it/s]"
      ]
     },
     "metadata": {},
     "output_type": "display_data"
    },
    {
     "data": {
      "application/vnd.jupyter.widget-view+json": {
       "model_id": "fa753b16a2c245448acd9697a6cedabe",
       "version_major": 2,
       "version_minor": 0
      },
      "text/plain": [
       "  0%|          | 0/2 [00:00<?, ?it/s]"
      ]
     },
     "metadata": {},
     "output_type": "display_data"
    },
    {
     "name": "stdout",
     "output_type": "stream",
     "text": [
      "/cutoff200_m3500\n",
      "6\n",
      "Should Flatten:  True\n",
      "Split parameter:  data_split_by_0.2_period\n",
      "Which Channel:  SG6\n",
      "Should Normalize: False\n",
      "Num of train data：21504 (0deg：2688 / 15deg：2688 / 30deg：2688 / 45deg：2688 / 60deg：2688 / 75deg：2688 / 90deg：2688 / No Wind：2688)\n",
      "Num of test data：5376 (0deg：672 / 15deg：672 / 30deg：672 / 45deg：672 / 60deg：672 / 75deg：672 / 90deg：672 / No Wind：672)\n",
      "Model: \"model\"\n",
      "_________________________________________________________________\n",
      " Layer (type)                Output Shape              Param #   \n",
      "=================================================================\n",
      " input_1 (InputLayer)        [(None, 166, 1)]          0         \n",
      "                                                                 \n",
      " conv1d (Conv1D)             (None, 103, 16)           1040      \n",
      "                                                                 \n",
      " re_lu (ReLU)                (None, 103, 16)           0         \n",
      "                                                                 \n",
      " batch_normalization (BatchN  (None, 103, 16)          64        \n",
      " ormalization)                                                   \n",
      "                                                                 \n",
      " dropout (Dropout)           (None, 103, 16)           0         \n",
      "                                                                 \n",
      " conv1d_1 (Conv1D)           (None, 72, 16)            8208      \n",
      "                                                                 \n",
      " re_lu_1 (ReLU)              (None, 72, 16)            0         \n",
      "                                                                 \n",
      " batch_normalization_1 (Batc  (None, 72, 16)           64        \n",
      " hNormalization)                                                 \n",
      "                                                                 \n",
      " dropout_1 (Dropout)         (None, 72, 16)            0         \n",
      "                                                                 \n",
      " conv1d_2 (Conv1D)           (None, 57, 16)            4112      \n",
      "                                                                 \n",
      " re_lu_2 (ReLU)              (None, 57, 16)            0         \n",
      "                                                                 \n",
      " batch_normalization_2 (Batc  (None, 57, 16)           64        \n",
      " hNormalization)                                                 \n",
      "                                                                 \n",
      " dropout_2 (Dropout)         (None, 57, 16)            0         \n",
      "                                                                 \n",
      " flatten (Flatten)           (None, 912)               0         \n",
      "                                                                 \n",
      " dense (Dense)               (None, 8)                 7304      \n",
      "                                                                 \n",
      " tf.nn.softmax (TFOpLambda)  (None, 8)                 0         \n",
      "                                                                 \n",
      "=================================================================\n",
      "Total params: 20,856\n",
      "Trainable params: 20,760\n",
      "Non-trainable params: 96\n",
      "_________________________________________________________________\n",
      "14000\n"
     ]
    },
    {
     "name": "stderr",
     "output_type": "stream",
     "text": [
      "2024-01-18 08:19:05.489779: I tensorflow/core/profiler/lib/profiler_session.cc:101] Profiler session initializing.\n",
      "2024-01-18 08:19:05.489796: I tensorflow/core/profiler/lib/profiler_session.cc:116] Profiler session started.\n"
     ]
    },
    {
     "name": "stdout",
     "output_type": "stream",
     "text": [
      "Training start time: 2024-01-18 08:19:06\n"
     ]
    },
    {
     "name": "stderr",
     "output_type": "stream",
     "text": [
      "2024-01-18 08:19:05.940644: I tensorflow/core/profiler/lib/profiler_session.cc:128] Profiler session tear down.\n",
      "2024-01-18 08:19:05.940777: I tensorflow/core/profiler/backends/gpu/cupti_tracer.cc:1798] CUPTI activity buffer flushed\n"
     ]
    },
    {
     "data": {
      "application/vnd.jupyter.widget-view+json": {
       "model_id": "120351b96875422ea2dec3541bbe6049",
       "version_major": 2,
       "version_minor": 0
      },
      "text/plain": [
       "Epoch Progress:   0%|          | 0/14000 [00:00<?, ?epoch/s]"
      ]
     },
     "metadata": {},
     "output_type": "display_data"
    },
    {
     "name": "stderr",
     "output_type": "stream",
     "text": [
      "2024-01-18 08:19:06.732328: I tensorflow/core/profiler/lib/profiler_session.cc:101] Profiler session initializing.\n",
      "2024-01-18 08:19:06.732346: I tensorflow/core/profiler/lib/profiler_session.cc:116] Profiler session started.\n"
     ]
    },
    {
     "name": "stdout",
     "output_type": "stream",
     "text": [
      "WARNING:tensorflow:Callback method `on_train_batch_begin` is slow compared to the batch time (batch time: 0.0024s vs `on_train_batch_begin` time: 0.0776s). Check your callbacks.\n"
     ]
    },
    {
     "name": "stderr",
     "output_type": "stream",
     "text": [
      "2024-01-18 08:19:07.358738: I tensorflow/core/profiler/lib/profiler_session.cc:67] Profiler session collecting data.\n",
      "2024-01-18 08:19:07.385555: I tensorflow/core/profiler/backends/gpu/cupti_tracer.cc:1798] CUPTI activity buffer flushed\n",
      "2024-01-18 08:19:07.443362: I tensorflow/core/profiler/backends/gpu/cupti_collector.cc:521]  GpuTracer has collected 258 callback api events and 258 activity events. \n",
      "2024-01-18 08:19:07.465291: I tensorflow/core/profiler/lib/profiler_session.cc:128] Profiler session tear down.\n",
      "2024-01-18 08:19:07.470646: I tensorflow/core/profiler/rpc/client/save_profile.cc:136] Creating directory: ../logs/240104_w_shaft/1705533545.48972/train/plugins/profile/2024_01_18_08_19_07\n",
      "\n",
      "2024-01-18 08:19:07.473130: I tensorflow/core/profiler/rpc/client/save_profile.cc:142] Dumped gzipped tool data for trace.json.gz to ../logs/240104_w_shaft/1705533545.48972/train/plugins/profile/2024_01_18_08_19_07/winddetection.trace.json.gz\n",
      "2024-01-18 08:19:07.492328: I tensorflow/core/profiler/rpc/client/save_profile.cc:136] Creating directory: ../logs/240104_w_shaft/1705533545.48972/train/plugins/profile/2024_01_18_08_19_07\n",
      "\n",
      "2024-01-18 08:19:07.498262: I tensorflow/core/profiler/rpc/client/save_profile.cc:142] Dumped gzipped tool data for memory_profile.json.gz to ../logs/240104_w_shaft/1705533545.48972/train/plugins/profile/2024_01_18_08_19_07/winddetection.memory_profile.json.gz\n",
      "2024-01-18 08:19:07.498981: I tensorflow/core/profiler/rpc/client/capture_profile.cc:251] Creating directory: ../logs/240104_w_shaft/1705533545.48972/train/plugins/profile/2024_01_18_08_19_07\n",
      "Dumped tool data for xplane.pb to ../logs/240104_w_shaft/1705533545.48972/train/plugins/profile/2024_01_18_08_19_07/winddetection.xplane.pb\n",
      "Dumped tool data for overview_page.pb to ../logs/240104_w_shaft/1705533545.48972/train/plugins/profile/2024_01_18_08_19_07/winddetection.overview_page.pb\n",
      "Dumped tool data for input_pipeline.pb to ../logs/240104_w_shaft/1705533545.48972/train/plugins/profile/2024_01_18_08_19_07/winddetection.input_pipeline.pb\n",
      "Dumped tool data for tensorflow_stats.pb to ../logs/240104_w_shaft/1705533545.48972/train/plugins/profile/2024_01_18_08_19_07/winddetection.tensorflow_stats.pb\n",
      "Dumped tool data for kernel_stats.pb to ../logs/240104_w_shaft/1705533545.48972/train/plugins/profile/2024_01_18_08_19_07/winddetection.kernel_stats.pb\n",
      "\n",
      "WARNING:tensorflow:Callback method `on_train_batch_begin` is slow compared to the batch time (batch time: 0.0024s vs `on_train_batch_begin` time: 0.0776s). Check your callbacks.\n"
     ]
    },
    {
     "name": "stdout",
     "output_type": "stream",
     "text": [
      "WARNING:tensorflow:Callback method `on_train_batch_end` is slow compared to the batch time (batch time: 0.0024s vs `on_train_batch_end` time: 0.0544s). Check your callbacks.\n"
     ]
    },
    {
     "name": "stderr",
     "output_type": "stream",
     "text": [
      "WARNING:tensorflow:Callback method `on_train_batch_end` is slow compared to the batch time (batch time: 0.0024s vs `on_train_batch_end` time: 0.0544s). Check your callbacks.\n"
     ]
    },
    {
     "name": "stdout",
     "output_type": "stream",
     "text": [
      "Training end time: 2024-01-18 09:13:58\n",
      "Training took 0:54:52.750960 (h:m:s)\n",
      "../models/240104_w_shaft/1_CNN/flatten_data/data_split_by_0.2_period/cutoff200_m3500/not_normalized\n"
     ]
    },
    {
     "name": "stderr",
     "output_type": "stream",
     "text": [
      "WARNING:absl:Found untraced functions such as _jit_compiled_convolution_op, _jit_compiled_convolution_op, _jit_compiled_convolution_op while saving (showing 3 of 3). These functions will not be directly callable after loading.\n"
     ]
    },
    {
     "name": "stdout",
     "output_type": "stream",
     "text": [
      "INFO:tensorflow:Assets written to: ../models/240104_w_shaft/1_CNN/flatten_data/data_split_by_0.2_period/cutoff200_m3500/not_normalized/my_model_CH6/assets\n"
     ]
    },
    {
     "name": "stderr",
     "output_type": "stream",
     "text": [
      "INFO:tensorflow:Assets written to: ../models/240104_w_shaft/1_CNN/flatten_data/data_split_by_0.2_period/cutoff200_m3500/not_normalized/my_model_CH6/assets\n"
     ]
    },
    {
     "name": "stdout",
     "output_type": "stream",
     "text": [
      "\n",
      "\n",
      "\n",
      "\n",
      "/cutoff400_m3000\n",
      "6\n",
      "Should Flatten:  True\n",
      "Split parameter:  data_split_by_0.2_period\n",
      "Which Channel:  SG6\n",
      "Should Normalize: False\n",
      "Num of train data：21734 (0deg：2717 / 15deg：2717 / 30deg：2717 / 45deg：2716 / 60deg：2717 / 75deg：2717 / 90deg：2716 / No Wind：2717)\n",
      "Num of test data：5434 (0deg：679 / 15deg：679 / 30deg：679 / 45deg：680 / 60deg：679 / 75deg：679 / 90deg：680 / No Wind：679)\n",
      "Model: \"model\"\n",
      "_________________________________________________________________\n",
      " Layer (type)                Output Shape              Param #   \n",
      "=================================================================\n",
      " input_1 (InputLayer)        [(None, 166, 1)]          0         \n",
      "                                                                 \n",
      " conv1d (Conv1D)             (None, 103, 16)           1040      \n",
      "                                                                 \n",
      " re_lu (ReLU)                (None, 103, 16)           0         \n",
      "                                                                 \n",
      " batch_normalization (BatchN  (None, 103, 16)          64        \n",
      " ormalization)                                                   \n",
      "                                                                 \n",
      " dropout (Dropout)           (None, 103, 16)           0         \n",
      "                                                                 \n",
      " conv1d_1 (Conv1D)           (None, 72, 16)            8208      \n",
      "                                                                 \n",
      " re_lu_1 (ReLU)              (None, 72, 16)            0         \n",
      "                                                                 \n",
      " batch_normalization_1 (Batc  (None, 72, 16)           64        \n",
      " hNormalization)                                                 \n",
      "                                                                 \n",
      " dropout_1 (Dropout)         (None, 72, 16)            0         \n",
      "                                                                 \n",
      " conv1d_2 (Conv1D)           (None, 57, 16)            4112      \n",
      "                                                                 \n",
      " re_lu_2 (ReLU)              (None, 57, 16)            0         \n",
      "                                                                 \n",
      " batch_normalization_2 (Batc  (None, 57, 16)           64        \n",
      " hNormalization)                                                 \n",
      "                                                                 \n",
      " dropout_2 (Dropout)         (None, 57, 16)            0         \n",
      "                                                                 \n",
      " flatten (Flatten)           (None, 912)               0         \n",
      "                                                                 \n",
      " dense (Dense)               (None, 8)                 7304      \n",
      "                                                                 \n",
      " tf.nn.softmax (TFOpLambda)  (None, 8)                 0         \n",
      "                                                                 \n",
      "=================================================================\n",
      "Total params: 20,856\n",
      "Trainable params: 20,760\n",
      "Non-trainable params: 96\n",
      "_________________________________________________________________\n",
      "14000\n"
     ]
    },
    {
     "name": "stderr",
     "output_type": "stream",
     "text": [
      "2024-01-18 09:14:00.104137: I tensorflow/core/profiler/lib/profiler_session.cc:101] Profiler session initializing.\n",
      "2024-01-18 09:14:00.104154: I tensorflow/core/profiler/lib/profiler_session.cc:116] Profiler session started.\n"
     ]
    },
    {
     "name": "stdout",
     "output_type": "stream",
     "text": [
      "Training start time: 2024-01-18 09:14:00\n"
     ]
    },
    {
     "name": "stderr",
     "output_type": "stream",
     "text": [
      "2024-01-18 09:14:00.496826: I tensorflow/core/profiler/lib/profiler_session.cc:128] Profiler session tear down.\n",
      "2024-01-18 09:14:00.496948: I tensorflow/core/profiler/backends/gpu/cupti_tracer.cc:1798] CUPTI activity buffer flushed\n"
     ]
    },
    {
     "data": {
      "application/vnd.jupyter.widget-view+json": {
       "model_id": "7f96e14748b54f969910c65a0c273603",
       "version_major": 2,
       "version_minor": 0
      },
      "text/plain": [
       "Epoch Progress:   0%|          | 0/14000 [00:00<?, ?epoch/s]"
      ]
     },
     "metadata": {},
     "output_type": "display_data"
    },
    {
     "name": "stderr",
     "output_type": "stream",
     "text": [
      "2024-01-18 09:14:01.298819: I tensorflow/core/profiler/lib/profiler_session.cc:101] Profiler session initializing.\n",
      "2024-01-18 09:14:01.298836: I tensorflow/core/profiler/lib/profiler_session.cc:116] Profiler session started.\n"
     ]
    },
    {
     "name": "stdout",
     "output_type": "stream",
     "text": [
      "WARNING:tensorflow:Callback method `on_train_batch_begin` is slow compared to the batch time (batch time: 0.0025s vs `on_train_batch_begin` time: 0.0289s). Check your callbacks.\n"
     ]
    },
    {
     "name": "stderr",
     "output_type": "stream",
     "text": [
      "2024-01-18 09:14:01.639447: I tensorflow/core/profiler/lib/profiler_session.cc:67] Profiler session collecting data.\n",
      "2024-01-18 09:14:01.665908: I tensorflow/core/profiler/backends/gpu/cupti_tracer.cc:1798] CUPTI activity buffer flushed\n",
      "2024-01-18 09:14:01.721314: I tensorflow/core/profiler/backends/gpu/cupti_collector.cc:521]  GpuTracer has collected 258 callback api events and 258 activity events. \n",
      "2024-01-18 09:14:01.744594: I tensorflow/core/profiler/lib/profiler_session.cc:128] Profiler session tear down.\n",
      "2024-01-18 09:14:01.749960: I tensorflow/core/profiler/rpc/client/save_profile.cc:136] Creating directory: ../logs/240104_w_shaft/1705536840.104081/train/plugins/profile/2024_01_18_09_14_01\n",
      "\n",
      "2024-01-18 09:14:01.752459: I tensorflow/core/profiler/rpc/client/save_profile.cc:142] Dumped gzipped tool data for trace.json.gz to ../logs/240104_w_shaft/1705536840.104081/train/plugins/profile/2024_01_18_09_14_01/winddetection.trace.json.gz\n",
      "2024-01-18 09:14:01.771554: I tensorflow/core/profiler/rpc/client/save_profile.cc:136] Creating directory: ../logs/240104_w_shaft/1705536840.104081/train/plugins/profile/2024_01_18_09_14_01\n",
      "\n",
      "2024-01-18 09:14:01.777620: I tensorflow/core/profiler/rpc/client/save_profile.cc:142] Dumped gzipped tool data for memory_profile.json.gz to ../logs/240104_w_shaft/1705536840.104081/train/plugins/profile/2024_01_18_09_14_01/winddetection.memory_profile.json.gz\n",
      "2024-01-18 09:14:01.778317: I tensorflow/core/profiler/rpc/client/capture_profile.cc:251] Creating directory: ../logs/240104_w_shaft/1705536840.104081/train/plugins/profile/2024_01_18_09_14_01\n",
      "Dumped tool data for xplane.pb to ../logs/240104_w_shaft/1705536840.104081/train/plugins/profile/2024_01_18_09_14_01/winddetection.xplane.pb\n",
      "Dumped tool data for overview_page.pb to ../logs/240104_w_shaft/1705536840.104081/train/plugins/profile/2024_01_18_09_14_01/winddetection.overview_page.pb\n",
      "Dumped tool data for input_pipeline.pb to ../logs/240104_w_shaft/1705536840.104081/train/plugins/profile/2024_01_18_09_14_01/winddetection.input_pipeline.pb\n",
      "Dumped tool data for tensorflow_stats.pb to ../logs/240104_w_shaft/1705536840.104081/train/plugins/profile/2024_01_18_09_14_01/winddetection.tensorflow_stats.pb\n",
      "Dumped tool data for kernel_stats.pb to ../logs/240104_w_shaft/1705536840.104081/train/plugins/profile/2024_01_18_09_14_01/winddetection.kernel_stats.pb\n",
      "\n",
      "WARNING:tensorflow:Callback method `on_train_batch_begin` is slow compared to the batch time (batch time: 0.0025s vs `on_train_batch_begin` time: 0.0289s). Check your callbacks.\n"
     ]
    },
    {
     "name": "stdout",
     "output_type": "stream",
     "text": [
      "WARNING:tensorflow:Callback method `on_train_batch_end` is slow compared to the batch time (batch time: 0.0025s vs `on_train_batch_end` time: 0.0551s). Check your callbacks.\n"
     ]
    },
    {
     "name": "stderr",
     "output_type": "stream",
     "text": [
      "WARNING:tensorflow:Callback method `on_train_batch_end` is slow compared to the batch time (batch time: 0.0025s vs `on_train_batch_end` time: 0.0551s). Check your callbacks.\n"
     ]
    },
    {
     "name": "stdout",
     "output_type": "stream",
     "text": [
      "Training end time: 2024-01-18 10:09:16\n",
      "Training took 0:55:15.945326 (h:m:s)\n",
      "../models/240104_w_shaft/1_CNN/flatten_data/data_split_by_0.2_period/cutoff400_m3000/not_normalized\n"
     ]
    },
    {
     "name": "stderr",
     "output_type": "stream",
     "text": [
      "WARNING:absl:Found untraced functions such as _jit_compiled_convolution_op, _jit_compiled_convolution_op, _jit_compiled_convolution_op while saving (showing 3 of 3). These functions will not be directly callable after loading.\n"
     ]
    },
    {
     "name": "stdout",
     "output_type": "stream",
     "text": [
      "INFO:tensorflow:Assets written to: ../models/240104_w_shaft/1_CNN/flatten_data/data_split_by_0.2_period/cutoff400_m3000/not_normalized/my_model_CH6/assets\n"
     ]
    },
    {
     "name": "stderr",
     "output_type": "stream",
     "text": [
      "INFO:tensorflow:Assets written to: ../models/240104_w_shaft/1_CNN/flatten_data/data_split_by_0.2_period/cutoff400_m3000/not_normalized/my_model_CH6/assets\n"
     ]
    },
    {
     "name": "stdout",
     "output_type": "stream",
     "text": [
      "\n",
      "\n",
      "\n",
      "\n"
     ]
    }
   ],
   "source": [
    "from tensorflow.keras import backend\n",
    "\n",
    "epochs = 0\n",
    "\n",
    "for should_use_flatten_data in tqdm(should_use_flatten_data_list):\n",
    "    for should_normalize in tqdm(should_normalize_list):\n",
    "        for which_channel in tqdm(which_channels_list):\n",
    "            for chosen_parameter_folder_name in tqdm(chosen_parameter_folder_names_list):\n",
    "                for m_and_cf in tqdm(m_and_cfs):\n",
    "                    cnn_data_trainer.update_settings_efficiently(\n",
    "                        should_use_flatten_data=should_use_flatten_data,\n",
    "                        should_normalize=should_normalize,\n",
    "                        which_channel=which_channel,\n",
    "                        chosen_parameter_folder_name=chosen_parameter_folder_name,\n",
    "                        m_and_cf=m_and_cf\n",
    "                    )\n",
    "                    cnn_data_trainer.load_train_test_data()\n",
    "                    cnn_data_trainer.get_model(optimizer='adam',\n",
    "                                                loss='sparse_categorical_crossentropy',\n",
    "                                                metrics=['accuracy'])\n",
    "                    \n",
    "                    if chosen_parameter_folder_name == \"data_split_by_1_period\":\n",
    "                        if len(which_channel) == 1:\n",
    "                            epochs = 7000\n",
    "                        elif len(which_channel) == 7 or len(which_channel) == 0:\n",
    "                            epochs = 3000\n",
    "                    elif chosen_parameter_folder_name == \"data_split_by_0.5_period\":\n",
    "                        if len(which_channel) == 1:\n",
    "                            epochs = 19000\n",
    "                        elif len(which_channel) == 7 or len(which_channel) == 0:\n",
    "                            epochs = 3000\n",
    "                    elif chosen_parameter_folder_name == \"data_split_by_0.2_period\":\n",
    "                        if len(which_channel) == 1:\n",
    "                            epochs = 14000\n",
    "                        elif len(which_channel) == 7 or len(which_channel) == 0:\n",
    "                            epochs = 17000\n",
    "                    print(epochs)\n",
    "                    if epochs < 1:\n",
    "                        raise Exception()\n",
    "                    cnn_data_trainer.train_model(epochs=epochs, verbose=0, validation_split=0.2, batch_size=128)\n",
    "                    cnn_data_trainer.save_model()\n",
    "\n",
    "                    epochs = 0\n",
    "\n",
    "                    print(\"\\n\\n\\n\")\n",
    "\n",
    "                    # セッションのクリア\n",
    "                    backend.clear_session()"
   ]
  },
  {
   "cell_type": "markdown",
   "metadata": {},
   "source": [
    "# 2, 3つの歪ゲージ\n",
    "1. 20,000回実行し、学習回数を調査"
   ]
  },
  {
   "cell_type": "code",
   "execution_count": 10,
   "metadata": {},
   "outputs": [],
   "source": [
    "# should_use_flatten_data_list = [False]\n",
    "# should_normalize_list = [False]\n",
    "# # should_normalize_list = [True]\n",
    "# # should_normalize_list = [False, True]\n",
    "\n",
    "# which_channels_list = [\"12\", \"123\"]\n",
    "# chosen_parameter_folder_names_list = [\n",
    "#     \"data_split_by_1_period\",\n",
    "#     \"data_split_by_0.5_period\",\n",
    "#     \"data_split_by_0.2_period\",\n",
    "# ]\n",
    "# # chosen_parameter_folder_names_list = [\n",
    "# #     \"data_split_by_0.1_period\"\n",
    "# # ]\n",
    "\n",
    "# cnn_data_trainer.check_folders_existence(should_use_flatten_data_list, should_normalize_list, which_channels_list, chosen_parameter_folder_names_list)"
   ]
  },
  {
   "cell_type": "code",
   "execution_count": 11,
   "metadata": {},
   "outputs": [],
   "source": [
    "# from tensorflow.keras import backend\n",
    "\n",
    "# for should_use_flatten_data in tqdm(should_use_flatten_data_list):\n",
    "#     for should_normalize in tqdm(should_normalize_list):\n",
    "#         for which_channel in tqdm(which_channels_list):\n",
    "#             for chosen_parameter_folder_name in tqdm(chosen_parameter_folder_names_list):\n",
    "#                 cnn_data_trainer.update_settings_efficiently(\n",
    "#                     should_use_flatten_data=should_use_flatten_data,\n",
    "#                     should_normalize=should_normalize,\n",
    "#                     which_channel=which_channel,\n",
    "#                     chosen_parameter_folder_name=chosen_parameter_folder_name\n",
    "#                 )\n",
    "\n",
    "#                 cnn_data_trainer.load_train_test_data()\n",
    "\n",
    "#                 cnn_data_trainer.get_model(optimizer='adam',\n",
    "#                                                loss='sparse_categorical_crossentropy',\n",
    "#                                                metrics=['accuracy'])\n",
    "#                 # cnn_data_trainer.train_model(epochs=1, verbose=0, validation_split=0.2, batch_size=100)\n",
    "#                 cnn_data_trainer.train_model(epochs=20000, verbose=0, validation_split=0.2, batch_size=100)\n",
    "#                 cnn_data_trainer.save_model(\n",
    "\n",
    "#                 )\n",
    "\n",
    "#                 print(\"\\n\\n\\n\")\n",
    "\n",
    "#                 # セッションのクリア\n",
    "\n",
    "\n",
    "\n",
    "#                 backend.clear_session()"
   ]
  },
  {
   "cell_type": "markdown",
   "metadata": {},
   "source": [
    "# 4つのSG"
   ]
  },
  {
   "cell_type": "markdown",
   "metadata": {},
   "source": [
    "根本で1つ、羽軸で3つ選ぶように"
   ]
  },
  {
   "cell_type": "code",
   "execution_count": 12,
   "metadata": {},
   "outputs": [
    {
     "name": "stdout",
     "output_type": "stream",
     "text": [
      "All folders exist.\n"
     ]
    }
   ],
   "source": [
    "# should_use_flatten_data_list = [False]\n",
    "# should_normalize_list = [False]\n",
    "# # should_normalize_list = [True]\n",
    "# # should_normalize_list = [False, True]\n",
    "\n",
    "# which_channels_list = [\n",
    "# #  '1467',\n",
    "# #  '1567',\n",
    "# #  '2345',\n",
    "# #  '2346',\n",
    "# #  '2347',\n",
    "#  '2356',\n",
    "#  '2357',\n",
    "#  '2367',\n",
    "#  '2456',\n",
    "#  '2457',\n",
    "#  '2467',\n",
    "#  '2567']\n",
    "\n",
    "# chosen_parameter_folder_names_list = [\n",
    "#     \"data_split_by_1_period\",\n",
    "#     \"data_split_by_0.5_period\",\n",
    "#     \"data_split_by_0.2_period\",\n",
    "# ]\n",
    "# # chosen_parameter_folder_names_list = [\n",
    "# #     \"data_split_by_0.1_period\"\n",
    "# # ]\n",
    "\n",
    "# cnn_data_trainer.check_folders_existence(should_use_flatten_data_list, should_normalize_list, which_channels_list, chosen_parameter_folder_names_list)"
   ]
  },
  {
   "cell_type": "code",
   "execution_count": 13,
   "metadata": {},
   "outputs": [
    {
     "data": {
      "application/vnd.jupyter.widget-view+json": {
       "model_id": "09b2b0ff90f54f8ca43393f0567c6031",
       "version_major": 2,
       "version_minor": 0
      },
      "text/plain": [
       "  0%|          | 0/1 [00:00<?, ?it/s]"
      ]
     },
     "metadata": {},
     "output_type": "display_data"
    },
    {
     "data": {
      "application/vnd.jupyter.widget-view+json": {
       "model_id": "f88914f314614767b562687b63336299",
       "version_major": 2,
       "version_minor": 0
      },
      "text/plain": [
       "  0%|          | 0/1 [00:00<?, ?it/s]"
      ]
     },
     "metadata": {},
     "output_type": "display_data"
    },
    {
     "data": {
      "application/vnd.jupyter.widget-view+json": {
       "model_id": "2037bab4745a4c0d9a03d658b2e3d0cc",
       "version_major": 2,
       "version_minor": 0
      },
      "text/plain": [
       "  0%|          | 0/7 [00:00<?, ?it/s]"
      ]
     },
     "metadata": {},
     "output_type": "display_data"
    },
    {
     "data": {
      "application/vnd.jupyter.widget-view+json": {
       "model_id": "7d6fc098cd50425e84ac3ab391bb9bd2",
       "version_major": 2,
       "version_minor": 0
      },
      "text/plain": [
       "  0%|          | 0/3 [00:00<?, ?it/s]"
      ]
     },
     "metadata": {},
     "output_type": "display_data"
    },
    {
     "name": "stdout",
     "output_type": "stream",
     "text": [
      "2356\n",
      "Should Flatten:  False\n",
      "Split parameter:  data_split_by_1_period\n",
      "Which Channel:  SG2 & SG3 & SG5 & SG6\n",
      "Should Normalize: False\n",
      "Num of train data：4608 (0deg：576 / 15deg：576 / 30deg：576 / 45deg：576 / 60deg：576 / 75deg：576 / 90deg：576 / No Wind：576)\n",
      "Num of test data：1152 (0deg：144 / 15deg：144 / 30deg：144 / 45deg：144 / 60deg：144 / 75deg：144 / 90deg：144 / No Wind：144)\n"
     ]
    },
    {
     "name": "stderr",
     "output_type": "stream",
     "text": [
      "2024-01-11 11:10:45.859915: I tensorflow/stream_executor/cuda/cuda_gpu_executor.cc:980] successful NUMA node read from SysFS had negative value (-1), but there must be at least one NUMA node, so returning NUMA node zero\n",
      "2024-01-11 11:10:45.879584: I tensorflow/stream_executor/cuda/cuda_gpu_executor.cc:980] successful NUMA node read from SysFS had negative value (-1), but there must be at least one NUMA node, so returning NUMA node zero\n",
      "2024-01-11 11:10:45.879687: I tensorflow/stream_executor/cuda/cuda_gpu_executor.cc:980] successful NUMA node read from SysFS had negative value (-1), but there must be at least one NUMA node, so returning NUMA node zero\n",
      "2024-01-11 11:10:45.879985: I tensorflow/core/platform/cpu_feature_guard.cc:193] This TensorFlow binary is optimized with oneAPI Deep Neural Network Library (oneDNN) to use the following CPU instructions in performance-critical operations:  AVX2 AVX_VNNI FMA\n",
      "To enable them in other operations, rebuild TensorFlow with the appropriate compiler flags.\n",
      "2024-01-11 11:10:45.880092: I tensorflow/stream_executor/cuda/cuda_gpu_executor.cc:980] successful NUMA node read from SysFS had negative value (-1), but there must be at least one NUMA node, so returning NUMA node zero\n",
      "2024-01-11 11:10:45.880170: I tensorflow/stream_executor/cuda/cuda_gpu_executor.cc:980] successful NUMA node read from SysFS had negative value (-1), but there must be at least one NUMA node, so returning NUMA node zero\n",
      "2024-01-11 11:10:45.880226: I tensorflow/stream_executor/cuda/cuda_gpu_executor.cc:980] successful NUMA node read from SysFS had negative value (-1), but there must be at least one NUMA node, so returning NUMA node zero\n",
      "2024-01-11 11:10:46.213882: I tensorflow/stream_executor/cuda/cuda_gpu_executor.cc:980] successful NUMA node read from SysFS had negative value (-1), but there must be at least one NUMA node, so returning NUMA node zero\n",
      "2024-01-11 11:10:46.214002: I tensorflow/stream_executor/cuda/cuda_gpu_executor.cc:980] successful NUMA node read from SysFS had negative value (-1), but there must be at least one NUMA node, so returning NUMA node zero\n",
      "2024-01-11 11:10:46.214068: I tensorflow/stream_executor/cuda/cuda_gpu_executor.cc:980] successful NUMA node read from SysFS had negative value (-1), but there must be at least one NUMA node, so returning NUMA node zero\n",
      "2024-01-11 11:10:46.214124: I tensorflow/core/common_runtime/gpu/gpu_device.cc:1616] Created device /job:localhost/replica:0/task:0/device:GPU:0 with 14243 MB memory:  -> device: 0, name: NVIDIA RTX A4000, pci bus id: 0000:01:00.0, compute capability: 8.6\n"
     ]
    },
    {
     "name": "stdout",
     "output_type": "stream",
     "text": [
      "Model: \"model\"\n",
      "_________________________________________________________________\n",
      " Layer (type)                Output Shape              Param #   \n",
      "=================================================================\n",
      " input_1 (InputLayer)        [(None, 833, 4)]          0         \n",
      "                                                                 \n",
      " conv1d (Conv1D)             (None, 578, 16)           16400     \n",
      "                                                                 \n",
      " re_lu (ReLU)                (None, 578, 16)           0         \n",
      "                                                                 \n",
      " batch_normalization (BatchN  (None, 578, 16)          64        \n",
      " ormalization)                                                   \n",
      "                                                                 \n",
      " dropout (Dropout)           (None, 578, 16)           0         \n",
      "                                                                 \n",
      " conv1d_1 (Conv1D)           (None, 451, 16)           32784     \n",
      "                                                                 \n",
      " re_lu_1 (ReLU)              (None, 451, 16)           0         \n",
      "                                                                 \n",
      " batch_normalization_1 (Batc  (None, 451, 16)          64        \n",
      " hNormalization)                                                 \n",
      "                                                                 \n",
      " dropout_1 (Dropout)         (None, 451, 16)           0         \n",
      "                                                                 \n",
      " conv1d_2 (Conv1D)           (None, 388, 16)           16400     \n",
      "                                                                 \n",
      " re_lu_2 (ReLU)              (None, 388, 16)           0         \n",
      "                                                                 \n",
      " batch_normalization_2 (Batc  (None, 388, 16)          64        \n",
      " hNormalization)                                                 \n",
      "                                                                 \n",
      " dropout_2 (Dropout)         (None, 388, 16)           0         \n",
      "                                                                 \n",
      " conv1d_3 (Conv1D)           (None, 357, 16)           8208      \n",
      "                                                                 \n",
      " re_lu_3 (ReLU)              (None, 357, 16)           0         \n",
      "                                                                 \n",
      " batch_normalization_3 (Batc  (None, 357, 16)          64        \n",
      " hNormalization)                                                 \n",
      "                                                                 \n",
      " dropout_3 (Dropout)         (None, 357, 16)           0         \n",
      "                                                                 \n",
      " conv1d_4 (Conv1D)           (None, 342, 16)           4112      \n",
      "                                                                 \n",
      " re_lu_4 (ReLU)              (None, 342, 16)           0         \n",
      "                                                                 \n",
      " batch_normalization_4 (Batc  (None, 342, 16)          64        \n",
      " hNormalization)                                                 \n",
      "                                                                 \n",
      " dropout_4 (Dropout)         (None, 342, 16)           0         \n",
      "                                                                 \n",
      " flatten (Flatten)           (None, 5472)              0         \n",
      "                                                                 \n",
      " dense (Dense)               (None, 8)                 43784     \n",
      "                                                                 \n",
      " tf.nn.softmax (TFOpLambda)  (None, 8)                 0         \n",
      "                                                                 \n",
      "=================================================================\n",
      "Total params: 122,008\n",
      "Trainable params: 121,848\n",
      "Non-trainable params: 160\n",
      "_________________________________________________________________\n",
      "2000\n",
      "Training start time: 2024-01-11 11:10:46\n"
     ]
    },
    {
     "name": "stderr",
     "output_type": "stream",
     "text": [
      "2024-01-11 11:10:46.429406: I tensorflow/core/profiler/lib/profiler_session.cc:101] Profiler session initializing.\n",
      "2024-01-11 11:10:46.429420: I tensorflow/core/profiler/lib/profiler_session.cc:116] Profiler session started.\n",
      "2024-01-11 11:10:46.429440: I tensorflow/core/profiler/backends/gpu/cupti_tracer.cc:1664] Profiler found 1 GPUs\n",
      "2024-01-11 11:10:46.429573: W tensorflow/stream_executor/platform/default/dso_loader.cc:64] Could not load dynamic library 'libcupti.so.11.2'; dlerror: libcupti.so.11.2: cannot open shared object file: No such file or directory; LD_LIBRARY_PATH: :/usr/local/cuda/extras/CUPTI/lib64:/usr/local/cuda/lib64\n",
      "2024-01-11 11:10:46.497272: I tensorflow/core/profiler/lib/profiler_session.cc:128] Profiler session tear down.\n",
      "2024-01-11 11:10:46.497358: I tensorflow/core/profiler/backends/gpu/cupti_tracer.cc:1798] CUPTI activity buffer flushed\n"
     ]
    },
    {
     "data": {
      "application/vnd.jupyter.widget-view+json": {
       "model_id": "35e069cd19f44395af26ec05d36334c3",
       "version_major": 2,
       "version_minor": 0
      },
      "text/plain": [
       "Epoch Progress:   0%|          | 0/2000 [00:00<?, ?epoch/s]"
      ]
     },
     "metadata": {},
     "output_type": "display_data"
    },
    {
     "name": "stderr",
     "output_type": "stream",
     "text": [
      "2024-01-11 11:10:47.905043: I tensorflow/stream_executor/cuda/cuda_dnn.cc:384] Loaded cuDNN version 8400\n",
      "2024-01-11 11:10:48.696088: I tensorflow/stream_executor/cuda/cuda_blas.cc:1614] TensorFloat-32 will be used for the matrix multiplication. This will only be logged once.\n",
      "2024-01-11 11:10:48.944880: I tensorflow/core/profiler/lib/profiler_session.cc:101] Profiler session initializing.\n",
      "2024-01-11 11:10:48.944894: I tensorflow/core/profiler/lib/profiler_session.cc:116] Profiler session started.\n"
     ]
    },
    {
     "name": "stdout",
     "output_type": "stream",
     "text": [
      "WARNING:tensorflow:Callback method `on_train_batch_begin` is slow compared to the batch time (batch time: 0.0045s vs `on_train_batch_begin` time: 0.0721s). Check your callbacks.\n",
      "WARNING:tensorflow:Callback method `on_train_batch_end` is slow compared to the batch time (batch time: 0.0045s vs `on_train_batch_end` time: 0.0113s). Check your callbacks.\n"
     ]
    },
    {
     "name": "stderr",
     "output_type": "stream",
     "text": [
      "2024-01-11 11:10:49.386746: I tensorflow/core/profiler/lib/profiler_session.cc:67] Profiler session collecting data.\n",
      "2024-01-11 11:10:49.386976: I tensorflow/core/profiler/backends/gpu/cupti_tracer.cc:1798] CUPTI activity buffer flushed\n",
      "2024-01-11 11:10:49.402434: I tensorflow/core/profiler/backends/gpu/cupti_collector.cc:521]  GpuTracer has collected 414 callback api events and 416 activity events. \n",
      "2024-01-11 11:10:49.405851: I tensorflow/core/profiler/lib/profiler_session.cc:128] Profiler session tear down.\n",
      "2024-01-11 11:10:49.409683: I tensorflow/core/profiler/rpc/client/save_profile.cc:136] Creating directory: ../logs/240104_w_shaft/1704939046.4284446/train/plugins/profile/2024_01_11_11_10_49\n",
      "\n",
      "2024-01-11 11:10:49.413796: I tensorflow/core/profiler/rpc/client/save_profile.cc:142] Dumped gzipped tool data for trace.json.gz to ../logs/240104_w_shaft/1704939046.4284446/train/plugins/profile/2024_01_11_11_10_49/winddetection.trace.json.gz\n",
      "2024-01-11 11:10:49.426149: I tensorflow/core/profiler/rpc/client/save_profile.cc:136] Creating directory: ../logs/240104_w_shaft/1704939046.4284446/train/plugins/profile/2024_01_11_11_10_49\n",
      "\n",
      "2024-01-11 11:10:49.427934: I tensorflow/core/profiler/rpc/client/save_profile.cc:142] Dumped gzipped tool data for memory_profile.json.gz to ../logs/240104_w_shaft/1704939046.4284446/train/plugins/profile/2024_01_11_11_10_49/winddetection.memory_profile.json.gz\n",
      "2024-01-11 11:10:49.428310: I tensorflow/core/profiler/rpc/client/capture_profile.cc:251] Creating directory: ../logs/240104_w_shaft/1704939046.4284446/train/plugins/profile/2024_01_11_11_10_49\n",
      "Dumped tool data for xplane.pb to ../logs/240104_w_shaft/1704939046.4284446/train/plugins/profile/2024_01_11_11_10_49/winddetection.xplane.pb\n",
      "Dumped tool data for overview_page.pb to ../logs/240104_w_shaft/1704939046.4284446/train/plugins/profile/2024_01_11_11_10_49/winddetection.overview_page.pb\n",
      "Dumped tool data for input_pipeline.pb to ../logs/240104_w_shaft/1704939046.4284446/train/plugins/profile/2024_01_11_11_10_49/winddetection.input_pipeline.pb\n",
      "Dumped tool data for tensorflow_stats.pb to ../logs/240104_w_shaft/1704939046.4284446/train/plugins/profile/2024_01_11_11_10_49/winddetection.tensorflow_stats.pb\n",
      "Dumped tool data for kernel_stats.pb to ../logs/240104_w_shaft/1704939046.4284446/train/plugins/profile/2024_01_11_11_10_49/winddetection.kernel_stats.pb\n",
      "\n"
     ]
    },
    {
     "name": "stdout",
     "output_type": "stream",
     "text": [
      "Training end time: 2024-01-11 11:19:27\n",
      "Training took 0:08:40.709219 (h:m:s)\n"
     ]
    },
    {
     "name": "stderr",
     "output_type": "stream",
     "text": [
      "WARNING:absl:Found untraced functions such as _jit_compiled_convolution_op, _jit_compiled_convolution_op, _jit_compiled_convolution_op, _jit_compiled_convolution_op, _jit_compiled_convolution_op while saving (showing 5 of 5). These functions will not be directly callable after loading.\n"
     ]
    },
    {
     "name": "stdout",
     "output_type": "stream",
     "text": [
      "INFO:tensorflow:Assets written to: ../models/240104_w_shaft/1_CNN/raw_data/data_split_by_1_period/not_normalized/my_model_CH2356/assets\n"
     ]
    },
    {
     "name": "stderr",
     "output_type": "stream",
     "text": [
      "INFO:tensorflow:Assets written to: ../models/240104_w_shaft/1_CNN/raw_data/data_split_by_1_period/not_normalized/my_model_CH2356/assets\n"
     ]
    },
    {
     "name": "stdout",
     "output_type": "stream",
     "text": [
      "\n",
      "\n",
      "\n",
      "\n",
      "2356\n",
      "Should Flatten:  False\n",
      "Split parameter:  data_split_by_0.5_period\n",
      "Which Channel:  SG2 & SG3 & SG5 & SG6\n",
      "Should Normalize: False\n",
      "Num of train data：9216 (0deg：1152 / 15deg：1152 / 30deg：1152 / 45deg：1152 / 60deg：1152 / 75deg：1152 / 90deg：1152 / No Wind：1152)\n",
      "Num of test data：2304 (0deg：288 / 15deg：288 / 30deg：288 / 45deg：288 / 60deg：288 / 75deg：288 / 90deg：288 / No Wind：288)\n",
      "Model: \"model\"\n",
      "_________________________________________________________________\n",
      " Layer (type)                Output Shape              Param #   \n",
      "=================================================================\n",
      " input_1 (InputLayer)        [(None, 416, 4)]          0         \n",
      "                                                                 \n",
      " conv1d (Conv1D)             (None, 289, 16)           8208      \n",
      "                                                                 \n",
      " re_lu (ReLU)                (None, 289, 16)           0         \n",
      "                                                                 \n",
      " batch_normalization (BatchN  (None, 289, 16)          64        \n",
      " ormalization)                                                   \n",
      "                                                                 \n",
      " dropout (Dropout)           (None, 289, 16)           0         \n",
      "                                                                 \n",
      " conv1d_1 (Conv1D)           (None, 226, 16)           16400     \n",
      "                                                                 \n",
      " re_lu_1 (ReLU)              (None, 226, 16)           0         \n",
      "                                                                 \n",
      " batch_normalization_1 (Batc  (None, 226, 16)          64        \n",
      " hNormalization)                                                 \n",
      "                                                                 \n",
      " dropout_1 (Dropout)         (None, 226, 16)           0         \n",
      "                                                                 \n",
      " conv1d_2 (Conv1D)           (None, 195, 16)           8208      \n",
      "                                                                 \n",
      " re_lu_2 (ReLU)              (None, 195, 16)           0         \n",
      "                                                                 \n",
      " batch_normalization_2 (Batc  (None, 195, 16)          64        \n",
      " hNormalization)                                                 \n",
      "                                                                 \n",
      " dropout_2 (Dropout)         (None, 195, 16)           0         \n",
      "                                                                 \n",
      " conv1d_3 (Conv1D)           (None, 180, 16)           4112      \n",
      "                                                                 \n",
      " re_lu_3 (ReLU)              (None, 180, 16)           0         \n",
      "                                                                 \n",
      " batch_normalization_3 (Batc  (None, 180, 16)          64        \n",
      " hNormalization)                                                 \n",
      "                                                                 \n",
      " dropout_3 (Dropout)         (None, 180, 16)           0         \n",
      "                                                                 \n",
      " flatten (Flatten)           (None, 2880)              0         \n",
      "                                                                 \n",
      " dense (Dense)               (None, 8)                 23048     \n",
      "                                                                 \n",
      " tf.nn.softmax (TFOpLambda)  (None, 8)                 0         \n",
      "                                                                 \n",
      "=================================================================\n",
      "Total params: 60,232\n",
      "Trainable params: 60,104\n",
      "Non-trainable params: 128\n",
      "_________________________________________________________________\n",
      "8000\n",
      "Training start time: 2024-01-11 11:19:28\n"
     ]
    },
    {
     "name": "stderr",
     "output_type": "stream",
     "text": [
      "2024-01-11 11:19:28.547976: I tensorflow/core/profiler/lib/profiler_session.cc:101] Profiler session initializing.\n",
      "2024-01-11 11:19:28.547990: I tensorflow/core/profiler/lib/profiler_session.cc:116] Profiler session started.\n",
      "2024-01-11 11:19:28.723109: I tensorflow/core/profiler/lib/profiler_session.cc:128] Profiler session tear down.\n",
      "2024-01-11 11:19:28.723228: I tensorflow/core/profiler/backends/gpu/cupti_tracer.cc:1798] CUPTI activity buffer flushed\n"
     ]
    },
    {
     "data": {
      "application/vnd.jupyter.widget-view+json": {
       "model_id": "2906231f1eee43f18d07e192d831b144",
       "version_major": 2,
       "version_minor": 0
      },
      "text/plain": [
       "Epoch Progress:   0%|          | 0/8000 [00:00<?, ?epoch/s]"
      ]
     },
     "metadata": {},
     "output_type": "display_data"
    },
    {
     "name": "stderr",
     "output_type": "stream",
     "text": [
      "2024-01-11 11:19:29.537321: I tensorflow/core/profiler/lib/profiler_session.cc:101] Profiler session initializing.\n",
      "2024-01-11 11:19:29.537335: I tensorflow/core/profiler/lib/profiler_session.cc:116] Profiler session started.\n"
     ]
    },
    {
     "name": "stdout",
     "output_type": "stream",
     "text": [
      "WARNING:tensorflow:Callback method `on_train_batch_begin` is slow compared to the batch time (batch time: 0.0031s vs `on_train_batch_begin` time: 0.0308s). Check your callbacks.\n"
     ]
    },
    {
     "name": "stderr",
     "output_type": "stream",
     "text": [
      "2024-01-11 11:19:29.796296: I tensorflow/core/profiler/lib/profiler_session.cc:67] Profiler session collecting data.\n",
      "2024-01-11 11:19:29.796992: I tensorflow/core/profiler/backends/gpu/cupti_tracer.cc:1798] CUPTI activity buffer flushed\n",
      "2024-01-11 11:19:29.813226: I tensorflow/core/profiler/backends/gpu/cupti_collector.cc:521]  GpuTracer has collected 341 callback api events and 341 activity events. \n",
      "2024-01-11 11:19:29.817186: I tensorflow/core/profiler/lib/profiler_session.cc:128] Profiler session tear down.\n",
      "2024-01-11 11:19:29.821148: I tensorflow/core/profiler/rpc/client/save_profile.cc:136] Creating directory: ../logs/240104_w_shaft/1704939568.547919/train/plugins/profile/2024_01_11_11_19_29\n",
      "\n",
      "2024-01-11 11:19:29.824436: I tensorflow/core/profiler/rpc/client/save_profile.cc:142] Dumped gzipped tool data for trace.json.gz to ../logs/240104_w_shaft/1704939568.547919/train/plugins/profile/2024_01_11_11_19_29/winddetection.trace.json.gz\n",
      "2024-01-11 11:19:29.835526: I tensorflow/core/profiler/rpc/client/save_profile.cc:136] Creating directory: ../logs/240104_w_shaft/1704939568.547919/train/plugins/profile/2024_01_11_11_19_29\n",
      "\n",
      "2024-01-11 11:19:29.837920: I tensorflow/core/profiler/rpc/client/save_profile.cc:142] Dumped gzipped tool data for memory_profile.json.gz to ../logs/240104_w_shaft/1704939568.547919/train/plugins/profile/2024_01_11_11_19_29/winddetection.memory_profile.json.gz\n",
      "2024-01-11 11:19:29.838427: I tensorflow/core/profiler/rpc/client/capture_profile.cc:251] Creating directory: ../logs/240104_w_shaft/1704939568.547919/train/plugins/profile/2024_01_11_11_19_29\n",
      "Dumped tool data for xplane.pb to ../logs/240104_w_shaft/1704939568.547919/train/plugins/profile/2024_01_11_11_19_29/winddetection.xplane.pb\n",
      "Dumped tool data for overview_page.pb to ../logs/240104_w_shaft/1704939568.547919/train/plugins/profile/2024_01_11_11_19_29/winddetection.overview_page.pb\n",
      "Dumped tool data for input_pipeline.pb to ../logs/240104_w_shaft/1704939568.547919/train/plugins/profile/2024_01_11_11_19_29/winddetection.input_pipeline.pb\n",
      "Dumped tool data for tensorflow_stats.pb to ../logs/240104_w_shaft/1704939568.547919/train/plugins/profile/2024_01_11_11_19_29/winddetection.tensorflow_stats.pb\n",
      "Dumped tool data for kernel_stats.pb to ../logs/240104_w_shaft/1704939568.547919/train/plugins/profile/2024_01_11_11_19_29/winddetection.kernel_stats.pb\n",
      "\n",
      "WARNING:tensorflow:Callback method `on_train_batch_begin` is slow compared to the batch time (batch time: 0.0031s vs `on_train_batch_begin` time: 0.0308s). Check your callbacks.\n"
     ]
    },
    {
     "name": "stdout",
     "output_type": "stream",
     "text": [
      "WARNING:tensorflow:Callback method `on_train_batch_end` is slow compared to the batch time (batch time: 0.0031s vs `on_train_batch_end` time: 0.0216s). Check your callbacks.\n"
     ]
    },
    {
     "name": "stderr",
     "output_type": "stream",
     "text": [
      "WARNING:tensorflow:Callback method `on_train_batch_end` is slow compared to the batch time (batch time: 0.0031s vs `on_train_batch_end` time: 0.0216s). Check your callbacks.\n"
     ]
    },
    {
     "name": "stdout",
     "output_type": "stream",
     "text": [
      "Training end time: 2024-01-11 11:47:11\n",
      "Training took 0:27:42.625448 (h:m:s)\n"
     ]
    },
    {
     "name": "stderr",
     "output_type": "stream",
     "text": [
      "WARNING:absl:Found untraced functions such as _jit_compiled_convolution_op, _jit_compiled_convolution_op, _jit_compiled_convolution_op, _jit_compiled_convolution_op while saving (showing 4 of 4). These functions will not be directly callable after loading.\n"
     ]
    },
    {
     "name": "stdout",
     "output_type": "stream",
     "text": [
      "INFO:tensorflow:Assets written to: ../models/240104_w_shaft/1_CNN/raw_data/data_split_by_0.5_period/not_normalized/my_model_CH2356/assets\n"
     ]
    },
    {
     "name": "stderr",
     "output_type": "stream",
     "text": [
      "INFO:tensorflow:Assets written to: ../models/240104_w_shaft/1_CNN/raw_data/data_split_by_0.5_period/not_normalized/my_model_CH2356/assets\n"
     ]
    },
    {
     "name": "stdout",
     "output_type": "stream",
     "text": [
      "\n",
      "\n",
      "\n",
      "\n",
      "2356\n",
      "Should Flatten:  False\n",
      "Split parameter:  data_split_by_0.2_period\n",
      "Which Channel:  SG2 & SG3 & SG5 & SG6\n",
      "Should Normalize: False\n",
      "Num of train data：23116 (0deg：2889 / 15deg：2890 / 30deg：2890 / 45deg：2889 / 60deg：2890 / 75deg：2889 / 90deg：2889 / No Wind：2890)\n",
      "Num of test data：5780 (0deg：723 / 15deg：722 / 30deg：722 / 45deg：723 / 60deg：722 / 75deg：723 / 90deg：723 / No Wind：722)\n",
      "Model: \"model\"\n",
      "_________________________________________________________________\n",
      " Layer (type)                Output Shape              Param #   \n",
      "=================================================================\n",
      " input_1 (InputLayer)        [(None, 166, 4)]          0         \n",
      "                                                                 \n",
      " conv1d (Conv1D)             (None, 103, 16)           4112      \n",
      "                                                                 \n",
      " re_lu (ReLU)                (None, 103, 16)           0         \n",
      "                                                                 \n",
      " batch_normalization (BatchN  (None, 103, 16)          64        \n",
      " ormalization)                                                   \n",
      "                                                                 \n",
      " dropout (Dropout)           (None, 103, 16)           0         \n",
      "                                                                 \n",
      " conv1d_1 (Conv1D)           (None, 72, 16)            8208      \n",
      "                                                                 \n",
      " re_lu_1 (ReLU)              (None, 72, 16)            0         \n",
      "                                                                 \n",
      " batch_normalization_1 (Batc  (None, 72, 16)           64        \n",
      " hNormalization)                                                 \n",
      "                                                                 \n",
      " dropout_1 (Dropout)         (None, 72, 16)            0         \n",
      "                                                                 \n",
      " conv1d_2 (Conv1D)           (None, 57, 16)            4112      \n",
      "                                                                 \n",
      " re_lu_2 (ReLU)              (None, 57, 16)            0         \n",
      "                                                                 \n",
      " batch_normalization_2 (Batc  (None, 57, 16)           64        \n",
      " hNormalization)                                                 \n",
      "                                                                 \n",
      " dropout_2 (Dropout)         (None, 57, 16)            0         \n",
      "                                                                 \n",
      " flatten (Flatten)           (None, 912)               0         \n",
      "                                                                 \n",
      " dense (Dense)               (None, 8)                 7304      \n",
      "                                                                 \n",
      " tf.nn.softmax (TFOpLambda)  (None, 8)                 0         \n",
      "                                                                 \n",
      "=================================================================\n",
      "Total params: 23,928\n",
      "Trainable params: 23,832\n",
      "Non-trainable params: 96\n",
      "_________________________________________________________________\n",
      "13000\n"
     ]
    },
    {
     "name": "stderr",
     "output_type": "stream",
     "text": [
      "2024-01-11 11:47:12.540950: I tensorflow/core/profiler/lib/profiler_session.cc:101] Profiler session initializing.\n",
      "2024-01-11 11:47:12.540964: I tensorflow/core/profiler/lib/profiler_session.cc:116] Profiler session started.\n"
     ]
    },
    {
     "name": "stdout",
     "output_type": "stream",
     "text": [
      "Training start time: 2024-01-11 11:47:12\n"
     ]
    },
    {
     "name": "stderr",
     "output_type": "stream",
     "text": [
      "2024-01-11 11:47:12.756202: I tensorflow/core/profiler/lib/profiler_session.cc:128] Profiler session tear down.\n",
      "2024-01-11 11:47:12.756321: I tensorflow/core/profiler/backends/gpu/cupti_tracer.cc:1798] CUPTI activity buffer flushed\n"
     ]
    },
    {
     "data": {
      "application/vnd.jupyter.widget-view+json": {
       "model_id": "cc32f58010244b4f83619fac5bb7be0a",
       "version_major": 2,
       "version_minor": 0
      },
      "text/plain": [
       "Epoch Progress:   0%|          | 0/13000 [00:00<?, ?epoch/s]"
      ]
     },
     "metadata": {},
     "output_type": "display_data"
    },
    {
     "name": "stderr",
     "output_type": "stream",
     "text": [
      "2024-01-11 11:47:13.402129: I tensorflow/core/profiler/lib/profiler_session.cc:101] Profiler session initializing.\n",
      "2024-01-11 11:47:13.402143: I tensorflow/core/profiler/lib/profiler_session.cc:116] Profiler session started.\n"
     ]
    },
    {
     "name": "stdout",
     "output_type": "stream",
     "text": [
      "WARNING:tensorflow:Callback method `on_train_batch_begin` is slow compared to the batch time (batch time: 0.0023s vs `on_train_batch_begin` time: 0.0395s). Check your callbacks.\n"
     ]
    },
    {
     "name": "stderr",
     "output_type": "stream",
     "text": [
      "2024-01-11 11:47:13.732310: I tensorflow/core/profiler/lib/profiler_session.cc:67] Profiler session collecting data.\n",
      "2024-01-11 11:47:13.737859: I tensorflow/core/profiler/backends/gpu/cupti_tracer.cc:1798] CUPTI activity buffer flushed\n",
      "2024-01-11 11:47:13.779627: I tensorflow/core/profiler/backends/gpu/cupti_collector.cc:521]  GpuTracer has collected 258 callback api events and 258 activity events. \n",
      "2024-01-11 11:47:13.783561: I tensorflow/core/profiler/lib/profiler_session.cc:128] Profiler session tear down.\n",
      "2024-01-11 11:47:13.788029: I tensorflow/core/profiler/rpc/client/save_profile.cc:136] Creating directory: ../logs/240104_w_shaft/1704941232.540889/train/plugins/profile/2024_01_11_11_47_13\n",
      "\n",
      "2024-01-11 11:47:13.790479: I tensorflow/core/profiler/rpc/client/save_profile.cc:142] Dumped gzipped tool data for trace.json.gz to ../logs/240104_w_shaft/1704941232.540889/train/plugins/profile/2024_01_11_11_47_13/winddetection.trace.json.gz\n",
      "2024-01-11 11:47:13.804927: I tensorflow/core/profiler/rpc/client/save_profile.cc:136] Creating directory: ../logs/240104_w_shaft/1704941232.540889/train/plugins/profile/2024_01_11_11_47_13\n",
      "\n",
      "2024-01-11 11:47:13.808373: I tensorflow/core/profiler/rpc/client/save_profile.cc:142] Dumped gzipped tool data for memory_profile.json.gz to ../logs/240104_w_shaft/1704941232.540889/train/plugins/profile/2024_01_11_11_47_13/winddetection.memory_profile.json.gz\n",
      "2024-01-11 11:47:13.809034: I tensorflow/core/profiler/rpc/client/capture_profile.cc:251] Creating directory: ../logs/240104_w_shaft/1704941232.540889/train/plugins/profile/2024_01_11_11_47_13\n",
      "Dumped tool data for xplane.pb to ../logs/240104_w_shaft/1704941232.540889/train/plugins/profile/2024_01_11_11_47_13/winddetection.xplane.pb\n",
      "Dumped tool data for overview_page.pb to ../logs/240104_w_shaft/1704941232.540889/train/plugins/profile/2024_01_11_11_47_13/winddetection.overview_page.pb\n",
      "Dumped tool data for input_pipeline.pb to ../logs/240104_w_shaft/1704941232.540889/train/plugins/profile/2024_01_11_11_47_13/winddetection.input_pipeline.pb\n",
      "Dumped tool data for tensorflow_stats.pb to ../logs/240104_w_shaft/1704941232.540889/train/plugins/profile/2024_01_11_11_47_13/winddetection.tensorflow_stats.pb\n",
      "Dumped tool data for kernel_stats.pb to ../logs/240104_w_shaft/1704941232.540889/train/plugins/profile/2024_01_11_11_47_13/winddetection.kernel_stats.pb\n",
      "\n",
      "WARNING:tensorflow:Callback method `on_train_batch_begin` is slow compared to the batch time (batch time: 0.0023s vs `on_train_batch_begin` time: 0.0395s). Check your callbacks.\n"
     ]
    },
    {
     "name": "stdout",
     "output_type": "stream",
     "text": [
      "WARNING:tensorflow:Callback method `on_train_batch_end` is slow compared to the batch time (batch time: 0.0023s vs `on_train_batch_end` time: 0.0306s). Check your callbacks.\n"
     ]
    },
    {
     "name": "stderr",
     "output_type": "stream",
     "text": [
      "WARNING:tensorflow:Callback method `on_train_batch_end` is slow compared to the batch time (batch time: 0.0023s vs `on_train_batch_end` time: 0.0306s). Check your callbacks.\n"
     ]
    },
    {
     "name": "stdout",
     "output_type": "stream",
     "text": [
      "Training end time: 2024-01-11 12:42:50\n",
      "Training took 0:55:38.101589 (h:m:s)\n"
     ]
    },
    {
     "name": "stderr",
     "output_type": "stream",
     "text": [
      "WARNING:absl:Found untraced functions such as _jit_compiled_convolution_op, _jit_compiled_convolution_op, _jit_compiled_convolution_op while saving (showing 3 of 3). These functions will not be directly callable after loading.\n"
     ]
    },
    {
     "name": "stdout",
     "output_type": "stream",
     "text": [
      "INFO:tensorflow:Assets written to: ../models/240104_w_shaft/1_CNN/raw_data/data_split_by_0.2_period/not_normalized/my_model_CH2356/assets\n"
     ]
    },
    {
     "name": "stderr",
     "output_type": "stream",
     "text": [
      "INFO:tensorflow:Assets written to: ../models/240104_w_shaft/1_CNN/raw_data/data_split_by_0.2_period/not_normalized/my_model_CH2356/assets\n"
     ]
    },
    {
     "name": "stdout",
     "output_type": "stream",
     "text": [
      "\n",
      "\n",
      "\n",
      "\n"
     ]
    },
    {
     "data": {
      "application/vnd.jupyter.widget-view+json": {
       "model_id": "b636fe562f3444bea99d67c1c7735361",
       "version_major": 2,
       "version_minor": 0
      },
      "text/plain": [
       "  0%|          | 0/3 [00:00<?, ?it/s]"
      ]
     },
     "metadata": {},
     "output_type": "display_data"
    },
    {
     "name": "stdout",
     "output_type": "stream",
     "text": [
      "2357\n",
      "Should Flatten:  False\n",
      "Split parameter:  data_split_by_1_period\n",
      "Which Channel:  SG2 & SG3 & SG5 & SG7\n",
      "Should Normalize: False\n",
      "Num of train data：4608 (0deg：576 / 15deg：576 / 30deg：576 / 45deg：576 / 60deg：576 / 75deg：576 / 90deg：576 / No Wind：576)\n",
      "Num of test data：1152 (0deg：144 / 15deg：144 / 30deg：144 / 45deg：144 / 60deg：144 / 75deg：144 / 90deg：144 / No Wind：144)\n",
      "Model: \"model\"\n",
      "_________________________________________________________________\n",
      " Layer (type)                Output Shape              Param #   \n",
      "=================================================================\n",
      " input_1 (InputLayer)        [(None, 833, 4)]          0         \n",
      "                                                                 \n",
      " conv1d (Conv1D)             (None, 578, 16)           16400     \n",
      "                                                                 \n",
      " re_lu (ReLU)                (None, 578, 16)           0         \n",
      "                                                                 \n",
      " batch_normalization (BatchN  (None, 578, 16)          64        \n",
      " ormalization)                                                   \n",
      "                                                                 \n",
      " dropout (Dropout)           (None, 578, 16)           0         \n",
      "                                                                 \n",
      " conv1d_1 (Conv1D)           (None, 451, 16)           32784     \n",
      "                                                                 \n",
      " re_lu_1 (ReLU)              (None, 451, 16)           0         \n",
      "                                                                 \n",
      " batch_normalization_1 (Batc  (None, 451, 16)          64        \n",
      " hNormalization)                                                 \n",
      "                                                                 \n",
      " dropout_1 (Dropout)         (None, 451, 16)           0         \n",
      "                                                                 \n",
      " conv1d_2 (Conv1D)           (None, 388, 16)           16400     \n",
      "                                                                 \n",
      " re_lu_2 (ReLU)              (None, 388, 16)           0         \n",
      "                                                                 \n",
      " batch_normalization_2 (Batc  (None, 388, 16)          64        \n",
      " hNormalization)                                                 \n",
      "                                                                 \n",
      " dropout_2 (Dropout)         (None, 388, 16)           0         \n",
      "                                                                 \n",
      " conv1d_3 (Conv1D)           (None, 357, 16)           8208      \n",
      "                                                                 \n",
      " re_lu_3 (ReLU)              (None, 357, 16)           0         \n",
      "                                                                 \n",
      " batch_normalization_3 (Batc  (None, 357, 16)          64        \n",
      " hNormalization)                                                 \n",
      "                                                                 \n",
      " dropout_3 (Dropout)         (None, 357, 16)           0         \n",
      "                                                                 \n",
      " conv1d_4 (Conv1D)           (None, 342, 16)           4112      \n",
      "                                                                 \n",
      " re_lu_4 (ReLU)              (None, 342, 16)           0         \n",
      "                                                                 \n",
      " batch_normalization_4 (Batc  (None, 342, 16)          64        \n",
      " hNormalization)                                                 \n",
      "                                                                 \n",
      " dropout_4 (Dropout)         (None, 342, 16)           0         \n",
      "                                                                 \n",
      " flatten (Flatten)           (None, 5472)              0         \n",
      "                                                                 \n",
      " dense (Dense)               (None, 8)                 43784     \n",
      "                                                                 \n",
      " tf.nn.softmax (TFOpLambda)  (None, 8)                 0         \n",
      "                                                                 \n",
      "=================================================================\n",
      "Total params: 122,008\n",
      "Trainable params: 121,848\n",
      "Non-trainable params: 160\n",
      "_________________________________________________________________\n",
      "2000\n"
     ]
    },
    {
     "name": "stderr",
     "output_type": "stream",
     "text": [
      "2024-01-11 12:42:52.186349: I tensorflow/core/profiler/lib/profiler_session.cc:101] Profiler session initializing.\n",
      "2024-01-11 12:42:52.186362: I tensorflow/core/profiler/lib/profiler_session.cc:116] Profiler session started.\n"
     ]
    },
    {
     "name": "stdout",
     "output_type": "stream",
     "text": [
      "Training start time: 2024-01-11 12:42:52\n"
     ]
    },
    {
     "name": "stderr",
     "output_type": "stream",
     "text": [
      "2024-01-11 12:42:52.591580: I tensorflow/core/profiler/lib/profiler_session.cc:128] Profiler session tear down.\n",
      "2024-01-11 12:42:52.591714: I tensorflow/core/profiler/backends/gpu/cupti_tracer.cc:1798] CUPTI activity buffer flushed\n"
     ]
    },
    {
     "data": {
      "application/vnd.jupyter.widget-view+json": {
       "model_id": "2067c63236894dd7a29a08ee3bd7689b",
       "version_major": 2,
       "version_minor": 0
      },
      "text/plain": [
       "Epoch Progress:   0%|          | 0/2000 [00:00<?, ?epoch/s]"
      ]
     },
     "metadata": {},
     "output_type": "display_data"
    },
    {
     "name": "stderr",
     "output_type": "stream",
     "text": [
      "2024-01-11 12:42:53.687856: I tensorflow/core/profiler/lib/profiler_session.cc:101] Profiler session initializing.\n",
      "2024-01-11 12:42:53.687872: I tensorflow/core/profiler/lib/profiler_session.cc:116] Profiler session started.\n"
     ]
    },
    {
     "name": "stdout",
     "output_type": "stream",
     "text": [
      "WARNING:tensorflow:Callback method `on_train_batch_begin` is slow compared to the batch time (batch time: 0.0052s vs `on_train_batch_begin` time: 0.0696s). Check your callbacks.\n"
     ]
    },
    {
     "name": "stderr",
     "output_type": "stream",
     "text": [
      "2024-01-11 12:42:54.283777: I tensorflow/core/profiler/lib/profiler_session.cc:67] Profiler session collecting data.\n",
      "2024-01-11 12:42:54.309207: I tensorflow/core/profiler/backends/gpu/cupti_tracer.cc:1798] CUPTI activity buffer flushed\n",
      "2024-01-11 12:42:54.356967: I tensorflow/core/profiler/backends/gpu/cupti_collector.cc:521]  GpuTracer has collected 414 callback api events and 415 activity events. \n",
      "2024-01-11 12:42:54.378575: I tensorflow/core/profiler/lib/profiler_session.cc:128] Profiler session tear down.\n",
      "2024-01-11 12:42:54.386086: I tensorflow/core/profiler/rpc/client/save_profile.cc:136] Creating directory: ../logs/240104_w_shaft/1704944572.1862924/train/plugins/profile/2024_01_11_12_42_54\n",
      "\n",
      "2024-01-11 12:42:54.389870: I tensorflow/core/profiler/rpc/client/save_profile.cc:142] Dumped gzipped tool data for trace.json.gz to ../logs/240104_w_shaft/1704944572.1862924/train/plugins/profile/2024_01_11_12_42_54/winddetection.trace.json.gz\n",
      "2024-01-11 12:42:54.422517: I tensorflow/core/profiler/rpc/client/save_profile.cc:136] Creating directory: ../logs/240104_w_shaft/1704944572.1862924/train/plugins/profile/2024_01_11_12_42_54\n",
      "\n",
      "2024-01-11 12:42:54.429863: I tensorflow/core/profiler/rpc/client/save_profile.cc:142] Dumped gzipped tool data for memory_profile.json.gz to ../logs/240104_w_shaft/1704944572.1862924/train/plugins/profile/2024_01_11_12_42_54/winddetection.memory_profile.json.gz\n",
      "2024-01-11 12:42:54.431102: I tensorflow/core/profiler/rpc/client/capture_profile.cc:251] Creating directory: ../logs/240104_w_shaft/1704944572.1862924/train/plugins/profile/2024_01_11_12_42_54\n",
      "Dumped tool data for xplane.pb to ../logs/240104_w_shaft/1704944572.1862924/train/plugins/profile/2024_01_11_12_42_54/winddetection.xplane.pb\n",
      "Dumped tool data for overview_page.pb to ../logs/240104_w_shaft/1704944572.1862924/train/plugins/profile/2024_01_11_12_42_54/winddetection.overview_page.pb\n",
      "Dumped tool data for input_pipeline.pb to ../logs/240104_w_shaft/1704944572.1862924/train/plugins/profile/2024_01_11_12_42_54/winddetection.input_pipeline.pb\n",
      "Dumped tool data for tensorflow_stats.pb to ../logs/240104_w_shaft/1704944572.1862924/train/plugins/profile/2024_01_11_12_42_54/winddetection.tensorflow_stats.pb\n",
      "Dumped tool data for kernel_stats.pb to ../logs/240104_w_shaft/1704944572.1862924/train/plugins/profile/2024_01_11_12_42_54/winddetection.kernel_stats.pb\n",
      "\n",
      "WARNING:tensorflow:Callback method `on_train_batch_begin` is slow compared to the batch time (batch time: 0.0052s vs `on_train_batch_begin` time: 0.0696s). Check your callbacks.\n"
     ]
    },
    {
     "name": "stdout",
     "output_type": "stream",
     "text": [
      "WARNING:tensorflow:Callback method `on_train_batch_end` is slow compared to the batch time (batch time: 0.0052s vs `on_train_batch_end` time: 0.0596s). Check your callbacks.\n"
     ]
    },
    {
     "name": "stderr",
     "output_type": "stream",
     "text": [
      "WARNING:tensorflow:Callback method `on_train_batch_end` is slow compared to the batch time (batch time: 0.0052s vs `on_train_batch_end` time: 0.0596s). Check your callbacks.\n"
     ]
    },
    {
     "name": "stdout",
     "output_type": "stream",
     "text": [
      "Training end time: 2024-01-11 12:51:40\n",
      "Training took 0:08:48.177003 (h:m:s)\n"
     ]
    },
    {
     "name": "stderr",
     "output_type": "stream",
     "text": [
      "WARNING:absl:Found untraced functions such as _jit_compiled_convolution_op, _jit_compiled_convolution_op, _jit_compiled_convolution_op, _jit_compiled_convolution_op, _jit_compiled_convolution_op while saving (showing 5 of 5). These functions will not be directly callable after loading.\n"
     ]
    },
    {
     "name": "stdout",
     "output_type": "stream",
     "text": [
      "INFO:tensorflow:Assets written to: ../models/240104_w_shaft/1_CNN/raw_data/data_split_by_1_period/not_normalized/my_model_CH2357/assets\n"
     ]
    },
    {
     "name": "stderr",
     "output_type": "stream",
     "text": [
      "INFO:tensorflow:Assets written to: ../models/240104_w_shaft/1_CNN/raw_data/data_split_by_1_period/not_normalized/my_model_CH2357/assets\n"
     ]
    },
    {
     "name": "stdout",
     "output_type": "stream",
     "text": [
      "\n",
      "\n",
      "\n",
      "\n",
      "2357\n",
      "Should Flatten:  False\n",
      "Split parameter:  data_split_by_0.5_period\n",
      "Which Channel:  SG2 & SG3 & SG5 & SG7\n",
      "Should Normalize: False\n",
      "Num of train data：9216 (0deg：1152 / 15deg：1152 / 30deg：1152 / 45deg：1152 / 60deg：1152 / 75deg：1152 / 90deg：1152 / No Wind：1152)\n",
      "Num of test data：2304 (0deg：288 / 15deg：288 / 30deg：288 / 45deg：288 / 60deg：288 / 75deg：288 / 90deg：288 / No Wind：288)\n",
      "Model: \"model\"\n",
      "_________________________________________________________________\n",
      " Layer (type)                Output Shape              Param #   \n",
      "=================================================================\n",
      " input_1 (InputLayer)        [(None, 416, 4)]          0         \n",
      "                                                                 \n",
      " conv1d (Conv1D)             (None, 289, 16)           8208      \n",
      "                                                                 \n",
      " re_lu (ReLU)                (None, 289, 16)           0         \n",
      "                                                                 \n",
      " batch_normalization (BatchN  (None, 289, 16)          64        \n",
      " ormalization)                                                   \n",
      "                                                                 \n",
      " dropout (Dropout)           (None, 289, 16)           0         \n",
      "                                                                 \n",
      " conv1d_1 (Conv1D)           (None, 226, 16)           16400     \n",
      "                                                                 \n",
      " re_lu_1 (ReLU)              (None, 226, 16)           0         \n",
      "                                                                 \n",
      " batch_normalization_1 (Batc  (None, 226, 16)          64        \n",
      " hNormalization)                                                 \n",
      "                                                                 \n",
      " dropout_1 (Dropout)         (None, 226, 16)           0         \n",
      "                                                                 \n",
      " conv1d_2 (Conv1D)           (None, 195, 16)           8208      \n",
      "                                                                 \n",
      " re_lu_2 (ReLU)              (None, 195, 16)           0         \n",
      "                                                                 \n",
      " batch_normalization_2 (Batc  (None, 195, 16)          64        \n",
      " hNormalization)                                                 \n",
      "                                                                 \n",
      " dropout_2 (Dropout)         (None, 195, 16)           0         \n",
      "                                                                 \n",
      " conv1d_3 (Conv1D)           (None, 180, 16)           4112      \n",
      "                                                                 \n",
      " re_lu_3 (ReLU)              (None, 180, 16)           0         \n",
      "                                                                 \n",
      " batch_normalization_3 (Batc  (None, 180, 16)          64        \n",
      " hNormalization)                                                 \n",
      "                                                                 \n",
      " dropout_3 (Dropout)         (None, 180, 16)           0         \n",
      "                                                                 \n",
      " flatten (Flatten)           (None, 2880)              0         \n",
      "                                                                 \n",
      " dense (Dense)               (None, 8)                 23048     \n",
      "                                                                 \n",
      " tf.nn.softmax (TFOpLambda)  (None, 8)                 0         \n",
      "                                                                 \n",
      "=================================================================\n",
      "Total params: 60,232\n",
      "Trainable params: 60,104\n",
      "Non-trainable params: 128\n",
      "_________________________________________________________________\n",
      "8000\n",
      "Training start time: 2024-01-11 12:51:42\n"
     ]
    },
    {
     "name": "stderr",
     "output_type": "stream",
     "text": [
      "2024-01-11 12:51:42.565670: I tensorflow/core/profiler/lib/profiler_session.cc:101] Profiler session initializing.\n",
      "2024-01-11 12:51:42.565685: I tensorflow/core/profiler/lib/profiler_session.cc:116] Profiler session started.\n",
      "2024-01-11 12:51:42.743901: I tensorflow/core/profiler/lib/profiler_session.cc:128] Profiler session tear down.\n",
      "2024-01-11 12:51:42.744025: I tensorflow/core/profiler/backends/gpu/cupti_tracer.cc:1798] CUPTI activity buffer flushed\n"
     ]
    },
    {
     "data": {
      "application/vnd.jupyter.widget-view+json": {
       "model_id": "90238148e4934c37b79d3c83f3082480",
       "version_major": 2,
       "version_minor": 0
      },
      "text/plain": [
       "Epoch Progress:   0%|          | 0/8000 [00:00<?, ?epoch/s]"
      ]
     },
     "metadata": {},
     "output_type": "display_data"
    },
    {
     "name": "stderr",
     "output_type": "stream",
     "text": [
      "2024-01-11 12:51:43.675043: I tensorflow/core/profiler/lib/profiler_session.cc:101] Profiler session initializing.\n",
      "2024-01-11 12:51:43.675061: I tensorflow/core/profiler/lib/profiler_session.cc:116] Profiler session started.\n"
     ]
    },
    {
     "name": "stdout",
     "output_type": "stream",
     "text": [
      "WARNING:tensorflow:Callback method `on_train_batch_begin` is slow compared to the batch time (batch time: 0.0036s vs `on_train_batch_begin` time: 0.0332s). Check your callbacks.\n"
     ]
    },
    {
     "name": "stderr",
     "output_type": "stream",
     "text": [
      "2024-01-11 12:51:44.041882: I tensorflow/core/profiler/lib/profiler_session.cc:67] Profiler session collecting data.\n",
      "2024-01-11 12:51:44.060898: I tensorflow/core/profiler/backends/gpu/cupti_tracer.cc:1798] CUPTI activity buffer flushed\n",
      "2024-01-11 12:51:44.113680: I tensorflow/core/profiler/backends/gpu/cupti_collector.cc:521]  GpuTracer has collected 341 callback api events and 341 activity events. \n",
      "2024-01-11 12:51:44.132855: I tensorflow/core/profiler/lib/profiler_session.cc:128] Profiler session tear down.\n",
      "2024-01-11 12:51:44.138979: I tensorflow/core/profiler/rpc/client/save_profile.cc:136] Creating directory: ../logs/240104_w_shaft/1704945102.5655992/train/plugins/profile/2024_01_11_12_51_44\n",
      "\n",
      "2024-01-11 12:51:44.142065: I tensorflow/core/profiler/rpc/client/save_profile.cc:142] Dumped gzipped tool data for trace.json.gz to ../logs/240104_w_shaft/1704945102.5655992/train/plugins/profile/2024_01_11_12_51_44/winddetection.trace.json.gz\n",
      "2024-01-11 12:51:44.164179: I tensorflow/core/profiler/rpc/client/save_profile.cc:136] Creating directory: ../logs/240104_w_shaft/1704945102.5655992/train/plugins/profile/2024_01_11_12_51_44\n",
      "\n",
      "2024-01-11 12:51:44.172112: I tensorflow/core/profiler/rpc/client/save_profile.cc:142] Dumped gzipped tool data for memory_profile.json.gz to ../logs/240104_w_shaft/1704945102.5655992/train/plugins/profile/2024_01_11_12_51_44/winddetection.memory_profile.json.gz\n",
      "2024-01-11 12:51:44.173166: I tensorflow/core/profiler/rpc/client/capture_profile.cc:251] Creating directory: ../logs/240104_w_shaft/1704945102.5655992/train/plugins/profile/2024_01_11_12_51_44\n",
      "Dumped tool data for xplane.pb to ../logs/240104_w_shaft/1704945102.5655992/train/plugins/profile/2024_01_11_12_51_44/winddetection.xplane.pb\n",
      "Dumped tool data for overview_page.pb to ../logs/240104_w_shaft/1704945102.5655992/train/plugins/profile/2024_01_11_12_51_44/winddetection.overview_page.pb\n",
      "Dumped tool data for input_pipeline.pb to ../logs/240104_w_shaft/1704945102.5655992/train/plugins/profile/2024_01_11_12_51_44/winddetection.input_pipeline.pb\n",
      "Dumped tool data for tensorflow_stats.pb to ../logs/240104_w_shaft/1704945102.5655992/train/plugins/profile/2024_01_11_12_51_44/winddetection.tensorflow_stats.pb\n",
      "Dumped tool data for kernel_stats.pb to ../logs/240104_w_shaft/1704945102.5655992/train/plugins/profile/2024_01_11_12_51_44/winddetection.kernel_stats.pb\n",
      "\n",
      "WARNING:tensorflow:Callback method `on_train_batch_begin` is slow compared to the batch time (batch time: 0.0036s vs `on_train_batch_begin` time: 0.0332s). Check your callbacks.\n"
     ]
    },
    {
     "name": "stdout",
     "output_type": "stream",
     "text": [
      "WARNING:tensorflow:Callback method `on_train_batch_end` is slow compared to the batch time (batch time: 0.0036s vs `on_train_batch_end` time: 0.0545s). Check your callbacks.\n"
     ]
    },
    {
     "name": "stderr",
     "output_type": "stream",
     "text": [
      "WARNING:tensorflow:Callback method `on_train_batch_end` is slow compared to the batch time (batch time: 0.0036s vs `on_train_batch_end` time: 0.0545s). Check your callbacks.\n"
     ]
    },
    {
     "name": "stdout",
     "output_type": "stream",
     "text": [
      "Training end time: 2024-01-11 13:19:38\n",
      "Training took 0:27:56.196796 (h:m:s)\n"
     ]
    },
    {
     "name": "stderr",
     "output_type": "stream",
     "text": [
      "WARNING:absl:Found untraced functions such as _jit_compiled_convolution_op, _jit_compiled_convolution_op, _jit_compiled_convolution_op, _jit_compiled_convolution_op while saving (showing 4 of 4). These functions will not be directly callable after loading.\n"
     ]
    },
    {
     "name": "stdout",
     "output_type": "stream",
     "text": [
      "INFO:tensorflow:Assets written to: ../models/240104_w_shaft/1_CNN/raw_data/data_split_by_0.5_period/not_normalized/my_model_CH2357/assets\n"
     ]
    },
    {
     "name": "stderr",
     "output_type": "stream",
     "text": [
      "INFO:tensorflow:Assets written to: ../models/240104_w_shaft/1_CNN/raw_data/data_split_by_0.5_period/not_normalized/my_model_CH2357/assets\n"
     ]
    },
    {
     "name": "stdout",
     "output_type": "stream",
     "text": [
      "\n",
      "\n",
      "\n",
      "\n",
      "2357\n",
      "Should Flatten:  False\n",
      "Split parameter:  data_split_by_0.2_period\n",
      "Which Channel:  SG2 & SG3 & SG5 & SG7\n",
      "Should Normalize: False\n",
      "Num of train data：23116 (0deg：2889 / 15deg：2890 / 30deg：2890 / 45deg：2889 / 60deg：2890 / 75deg：2889 / 90deg：2889 / No Wind：2890)\n",
      "Num of test data：5780 (0deg：723 / 15deg：722 / 30deg：722 / 45deg：723 / 60deg：722 / 75deg：723 / 90deg：723 / No Wind：722)\n",
      "Model: \"model\"\n",
      "_________________________________________________________________\n",
      " Layer (type)                Output Shape              Param #   \n",
      "=================================================================\n",
      " input_1 (InputLayer)        [(None, 166, 4)]          0         \n",
      "                                                                 \n",
      " conv1d (Conv1D)             (None, 103, 16)           4112      \n",
      "                                                                 \n",
      " re_lu (ReLU)                (None, 103, 16)           0         \n",
      "                                                                 \n",
      " batch_normalization (BatchN  (None, 103, 16)          64        \n",
      " ormalization)                                                   \n",
      "                                                                 \n",
      " dropout (Dropout)           (None, 103, 16)           0         \n",
      "                                                                 \n",
      " conv1d_1 (Conv1D)           (None, 72, 16)            8208      \n",
      "                                                                 \n",
      " re_lu_1 (ReLU)              (None, 72, 16)            0         \n",
      "                                                                 \n",
      " batch_normalization_1 (Batc  (None, 72, 16)           64        \n",
      " hNormalization)                                                 \n",
      "                                                                 \n",
      " dropout_1 (Dropout)         (None, 72, 16)            0         \n",
      "                                                                 \n",
      " conv1d_2 (Conv1D)           (None, 57, 16)            4112      \n",
      "                                                                 \n",
      " re_lu_2 (ReLU)              (None, 57, 16)            0         \n",
      "                                                                 \n",
      " batch_normalization_2 (Batc  (None, 57, 16)           64        \n",
      " hNormalization)                                                 \n",
      "                                                                 \n",
      " dropout_2 (Dropout)         (None, 57, 16)            0         \n",
      "                                                                 \n",
      " flatten (Flatten)           (None, 912)               0         \n",
      "                                                                 \n",
      " dense (Dense)               (None, 8)                 7304      \n",
      "                                                                 \n",
      " tf.nn.softmax (TFOpLambda)  (None, 8)                 0         \n",
      "                                                                 \n",
      "=================================================================\n",
      "Total params: 23,928\n",
      "Trainable params: 23,832\n",
      "Non-trainable params: 96\n",
      "_________________________________________________________________\n",
      "13000\n"
     ]
    },
    {
     "name": "stderr",
     "output_type": "stream",
     "text": [
      "2024-01-11 13:19:40.253307: I tensorflow/core/profiler/lib/profiler_session.cc:101] Profiler session initializing.\n",
      "2024-01-11 13:19:40.253320: I tensorflow/core/profiler/lib/profiler_session.cc:116] Profiler session started.\n"
     ]
    },
    {
     "name": "stdout",
     "output_type": "stream",
     "text": [
      "Training start time: 2024-01-11 13:19:40\n"
     ]
    },
    {
     "name": "stderr",
     "output_type": "stream",
     "text": [
      "2024-01-11 13:19:40.500994: I tensorflow/core/profiler/lib/profiler_session.cc:128] Profiler session tear down.\n",
      "2024-01-11 13:19:40.501123: I tensorflow/core/profiler/backends/gpu/cupti_tracer.cc:1798] CUPTI activity buffer flushed\n"
     ]
    },
    {
     "data": {
      "application/vnd.jupyter.widget-view+json": {
       "model_id": "c5f8216d1af1406f9217b2de66243a6b",
       "version_major": 2,
       "version_minor": 0
      },
      "text/plain": [
       "Epoch Progress:   0%|          | 0/13000 [00:00<?, ?epoch/s]"
      ]
     },
     "metadata": {},
     "output_type": "display_data"
    },
    {
     "name": "stderr",
     "output_type": "stream",
     "text": [
      "2024-01-11 13:19:41.285101: I tensorflow/core/profiler/lib/profiler_session.cc:101] Profiler session initializing.\n",
      "2024-01-11 13:19:41.285119: I tensorflow/core/profiler/lib/profiler_session.cc:116] Profiler session started.\n"
     ]
    },
    {
     "name": "stdout",
     "output_type": "stream",
     "text": [
      "WARNING:tensorflow:Callback method `on_train_batch_begin` is slow compared to the batch time (batch time: 0.0024s vs `on_train_batch_begin` time: 0.0430s). Check your callbacks.\n"
     ]
    },
    {
     "name": "stderr",
     "output_type": "stream",
     "text": [
      "2024-01-11 13:19:41.682892: I tensorflow/core/profiler/lib/profiler_session.cc:67] Profiler session collecting data.\n",
      "2024-01-11 13:19:41.697532: I tensorflow/core/profiler/backends/gpu/cupti_tracer.cc:1798] CUPTI activity buffer flushed\n",
      "2024-01-11 13:19:41.747518: I tensorflow/core/profiler/backends/gpu/cupti_collector.cc:521]  GpuTracer has collected 258 callback api events and 258 activity events. \n",
      "2024-01-11 13:19:41.767032: I tensorflow/core/profiler/lib/profiler_session.cc:128] Profiler session tear down.\n",
      "2024-01-11 13:19:41.772010: I tensorflow/core/profiler/rpc/client/save_profile.cc:136] Creating directory: ../logs/240104_w_shaft/1704946780.2532508/train/plugins/profile/2024_01_11_13_19_41\n",
      "\n",
      "2024-01-11 13:19:41.774745: I tensorflow/core/profiler/rpc/client/save_profile.cc:142] Dumped gzipped tool data for trace.json.gz to ../logs/240104_w_shaft/1704946780.2532508/train/plugins/profile/2024_01_11_13_19_41/winddetection.trace.json.gz\n",
      "2024-01-11 13:19:41.792401: I tensorflow/core/profiler/rpc/client/save_profile.cc:136] Creating directory: ../logs/240104_w_shaft/1704946780.2532508/train/plugins/profile/2024_01_11_13_19_41\n",
      "\n",
      "2024-01-11 13:19:41.797817: I tensorflow/core/profiler/rpc/client/save_profile.cc:142] Dumped gzipped tool data for memory_profile.json.gz to ../logs/240104_w_shaft/1704946780.2532508/train/plugins/profile/2024_01_11_13_19_41/winddetection.memory_profile.json.gz\n",
      "2024-01-11 13:19:41.798445: I tensorflow/core/profiler/rpc/client/capture_profile.cc:251] Creating directory: ../logs/240104_w_shaft/1704946780.2532508/train/plugins/profile/2024_01_11_13_19_41\n",
      "Dumped tool data for xplane.pb to ../logs/240104_w_shaft/1704946780.2532508/train/plugins/profile/2024_01_11_13_19_41/winddetection.xplane.pb\n",
      "Dumped tool data for overview_page.pb to ../logs/240104_w_shaft/1704946780.2532508/train/plugins/profile/2024_01_11_13_19_41/winddetection.overview_page.pb\n",
      "Dumped tool data for input_pipeline.pb to ../logs/240104_w_shaft/1704946780.2532508/train/plugins/profile/2024_01_11_13_19_41/winddetection.input_pipeline.pb\n",
      "Dumped tool data for tensorflow_stats.pb to ../logs/240104_w_shaft/1704946780.2532508/train/plugins/profile/2024_01_11_13_19_41/winddetection.tensorflow_stats.pb\n",
      "Dumped tool data for kernel_stats.pb to ../logs/240104_w_shaft/1704946780.2532508/train/plugins/profile/2024_01_11_13_19_41/winddetection.kernel_stats.pb\n",
      "\n",
      "WARNING:tensorflow:Callback method `on_train_batch_begin` is slow compared to the batch time (batch time: 0.0024s vs `on_train_batch_begin` time: 0.0430s). Check your callbacks.\n"
     ]
    },
    {
     "name": "stdout",
     "output_type": "stream",
     "text": [
      "WARNING:tensorflow:Callback method `on_train_batch_end` is slow compared to the batch time (batch time: 0.0024s vs `on_train_batch_end` time: 0.0467s). Check your callbacks.\n"
     ]
    },
    {
     "name": "stderr",
     "output_type": "stream",
     "text": [
      "WARNING:tensorflow:Callback method `on_train_batch_end` is slow compared to the batch time (batch time: 0.0024s vs `on_train_batch_end` time: 0.0467s). Check your callbacks.\n"
     ]
    },
    {
     "name": "stdout",
     "output_type": "stream",
     "text": [
      "Training end time: 2024-01-11 14:15:28\n",
      "Training took 0:55:47.701629 (h:m:s)\n"
     ]
    },
    {
     "name": "stderr",
     "output_type": "stream",
     "text": [
      "WARNING:absl:Found untraced functions such as _jit_compiled_convolution_op, _jit_compiled_convolution_op, _jit_compiled_convolution_op while saving (showing 3 of 3). These functions will not be directly callable after loading.\n"
     ]
    },
    {
     "name": "stdout",
     "output_type": "stream",
     "text": [
      "INFO:tensorflow:Assets written to: ../models/240104_w_shaft/1_CNN/raw_data/data_split_by_0.2_period/not_normalized/my_model_CH2357/assets\n"
     ]
    },
    {
     "name": "stderr",
     "output_type": "stream",
     "text": [
      "INFO:tensorflow:Assets written to: ../models/240104_w_shaft/1_CNN/raw_data/data_split_by_0.2_period/not_normalized/my_model_CH2357/assets\n"
     ]
    },
    {
     "name": "stdout",
     "output_type": "stream",
     "text": [
      "\n",
      "\n",
      "\n",
      "\n"
     ]
    },
    {
     "data": {
      "application/vnd.jupyter.widget-view+json": {
       "model_id": "dbe14fcb4abc428980d84824815b7cf2",
       "version_major": 2,
       "version_minor": 0
      },
      "text/plain": [
       "  0%|          | 0/3 [00:00<?, ?it/s]"
      ]
     },
     "metadata": {},
     "output_type": "display_data"
    },
    {
     "name": "stdout",
     "output_type": "stream",
     "text": [
      "2367\n",
      "Should Flatten:  False\n",
      "Split parameter:  data_split_by_1_period\n",
      "Which Channel:  SG2 & SG3 & SG6 & SG7\n",
      "Should Normalize: False\n",
      "Num of train data：4608 (0deg：576 / 15deg：576 / 30deg：576 / 45deg：576 / 60deg：576 / 75deg：576 / 90deg：576 / No Wind：576)\n",
      "Num of test data：1152 (0deg：144 / 15deg：144 / 30deg：144 / 45deg：144 / 60deg：144 / 75deg：144 / 90deg：144 / No Wind：144)\n",
      "Model: \"model\"\n",
      "_________________________________________________________________\n",
      " Layer (type)                Output Shape              Param #   \n",
      "=================================================================\n",
      " input_1 (InputLayer)        [(None, 833, 4)]          0         \n",
      "                                                                 \n",
      " conv1d (Conv1D)             (None, 578, 16)           16400     \n",
      "                                                                 \n",
      " re_lu (ReLU)                (None, 578, 16)           0         \n",
      "                                                                 \n",
      " batch_normalization (BatchN  (None, 578, 16)          64        \n",
      " ormalization)                                                   \n",
      "                                                                 \n",
      " dropout (Dropout)           (None, 578, 16)           0         \n",
      "                                                                 \n",
      " conv1d_1 (Conv1D)           (None, 451, 16)           32784     \n",
      "                                                                 \n",
      " re_lu_1 (ReLU)              (None, 451, 16)           0         \n",
      "                                                                 \n",
      " batch_normalization_1 (Batc  (None, 451, 16)          64        \n",
      " hNormalization)                                                 \n",
      "                                                                 \n",
      " dropout_1 (Dropout)         (None, 451, 16)           0         \n",
      "                                                                 \n",
      " conv1d_2 (Conv1D)           (None, 388, 16)           16400     \n",
      "                                                                 \n",
      " re_lu_2 (ReLU)              (None, 388, 16)           0         \n",
      "                                                                 \n",
      " batch_normalization_2 (Batc  (None, 388, 16)          64        \n",
      " hNormalization)                                                 \n",
      "                                                                 \n",
      " dropout_2 (Dropout)         (None, 388, 16)           0         \n",
      "                                                                 \n",
      " conv1d_3 (Conv1D)           (None, 357, 16)           8208      \n",
      "                                                                 \n",
      " re_lu_3 (ReLU)              (None, 357, 16)           0         \n",
      "                                                                 \n",
      " batch_normalization_3 (Batc  (None, 357, 16)          64        \n",
      " hNormalization)                                                 \n",
      "                                                                 \n",
      " dropout_3 (Dropout)         (None, 357, 16)           0         \n",
      "                                                                 \n",
      " conv1d_4 (Conv1D)           (None, 342, 16)           4112      \n",
      "                                                                 \n",
      " re_lu_4 (ReLU)              (None, 342, 16)           0         \n",
      "                                                                 \n",
      " batch_normalization_4 (Batc  (None, 342, 16)          64        \n",
      " hNormalization)                                                 \n",
      "                                                                 \n",
      " dropout_4 (Dropout)         (None, 342, 16)           0         \n",
      "                                                                 \n",
      " flatten (Flatten)           (None, 5472)              0         \n",
      "                                                                 \n",
      " dense (Dense)               (None, 8)                 43784     \n",
      "                                                                 \n",
      " tf.nn.softmax (TFOpLambda)  (None, 8)                 0         \n",
      "                                                                 \n",
      "=================================================================\n",
      "Total params: 122,008\n",
      "Trainable params: 121,848\n",
      "Non-trainable params: 160\n",
      "_________________________________________________________________\n",
      "2000\n"
     ]
    },
    {
     "name": "stderr",
     "output_type": "stream",
     "text": [
      "2024-01-11 14:15:29.716345: I tensorflow/core/profiler/lib/profiler_session.cc:101] Profiler session initializing.\n",
      "2024-01-11 14:15:29.716368: I tensorflow/core/profiler/lib/profiler_session.cc:116] Profiler session started.\n"
     ]
    },
    {
     "name": "stdout",
     "output_type": "stream",
     "text": [
      "Training start time: 2024-01-11 14:15:30\n"
     ]
    },
    {
     "name": "stderr",
     "output_type": "stream",
     "text": [
      "2024-01-11 14:15:30.106901: I tensorflow/core/profiler/lib/profiler_session.cc:128] Profiler session tear down.\n",
      "2024-01-11 14:15:30.107037: I tensorflow/core/profiler/backends/gpu/cupti_tracer.cc:1798] CUPTI activity buffer flushed\n"
     ]
    },
    {
     "data": {
      "application/vnd.jupyter.widget-view+json": {
       "model_id": "c7f02cadccb847248f5de3bf9f37c50d",
       "version_major": 2,
       "version_minor": 0
      },
      "text/plain": [
       "Epoch Progress:   0%|          | 0/2000 [00:00<?, ?epoch/s]"
      ]
     },
     "metadata": {},
     "output_type": "display_data"
    },
    {
     "name": "stderr",
     "output_type": "stream",
     "text": [
      "2024-01-11 14:15:31.240467: I tensorflow/core/profiler/lib/profiler_session.cc:101] Profiler session initializing.\n",
      "2024-01-11 14:15:31.240484: I tensorflow/core/profiler/lib/profiler_session.cc:116] Profiler session started.\n",
      "2024-01-11 14:15:31.824664: I tensorflow/core/profiler/lib/profiler_session.cc:67] Profiler session collecting data.\n",
      "2024-01-11 14:15:31.854616: I tensorflow/core/profiler/backends/gpu/cupti_tracer.cc:1798] CUPTI activity buffer flushed\n",
      "2024-01-11 14:15:31.933037: I tensorflow/core/profiler/backends/gpu/cupti_collector.cc:521]  GpuTracer has collected 414 callback api events and 415 activity events. \n",
      "2024-01-11 14:15:31.958025: I tensorflow/core/profiler/lib/profiler_session.cc:128] Profiler session tear down.\n",
      "2024-01-11 14:15:31.965904: I tensorflow/core/profiler/rpc/client/save_profile.cc:136] Creating directory: ../logs/240104_w_shaft/1704950129.716233/train/plugins/profile/2024_01_11_14_15_31\n",
      "\n",
      "2024-01-11 14:15:31.969826: I tensorflow/core/profiler/rpc/client/save_profile.cc:142] Dumped gzipped tool data for trace.json.gz to ../logs/240104_w_shaft/1704950129.716233/train/plugins/profile/2024_01_11_14_15_31/winddetection.trace.json.gz\n",
      "2024-01-11 14:15:32.003613: I tensorflow/core/profiler/rpc/client/save_profile.cc:136] Creating directory: ../logs/240104_w_shaft/1704950129.716233/train/plugins/profile/2024_01_11_14_15_31\n",
      "\n",
      "2024-01-11 14:15:32.011083: I tensorflow/core/profiler/rpc/client/save_profile.cc:142] Dumped gzipped tool data for memory_profile.json.gz to ../logs/240104_w_shaft/1704950129.716233/train/plugins/profile/2024_01_11_14_15_31/winddetection.memory_profile.json.gz\n",
      "2024-01-11 14:15:32.012302: I tensorflow/core/profiler/rpc/client/capture_profile.cc:251] Creating directory: ../logs/240104_w_shaft/1704950129.716233/train/plugins/profile/2024_01_11_14_15_31\n",
      "Dumped tool data for xplane.pb to ../logs/240104_w_shaft/1704950129.716233/train/plugins/profile/2024_01_11_14_15_31/winddetection.xplane.pb\n",
      "Dumped tool data for overview_page.pb to ../logs/240104_w_shaft/1704950129.716233/train/plugins/profile/2024_01_11_14_15_31/winddetection.overview_page.pb\n",
      "Dumped tool data for input_pipeline.pb to ../logs/240104_w_shaft/1704950129.716233/train/plugins/profile/2024_01_11_14_15_31/winddetection.input_pipeline.pb\n",
      "Dumped tool data for tensorflow_stats.pb to ../logs/240104_w_shaft/1704950129.716233/train/plugins/profile/2024_01_11_14_15_31/winddetection.tensorflow_stats.pb\n",
      "Dumped tool data for kernel_stats.pb to ../logs/240104_w_shaft/1704950129.716233/train/plugins/profile/2024_01_11_14_15_31/winddetection.kernel_stats.pb\n",
      "\n"
     ]
    },
    {
     "name": "stdout",
     "output_type": "stream",
     "text": [
      "WARNING:tensorflow:Callback method `on_train_batch_begin` is slow compared to the batch time (batch time: 0.0054s vs `on_train_batch_begin` time: 0.0637s). Check your callbacks.\n"
     ]
    },
    {
     "name": "stderr",
     "output_type": "stream",
     "text": [
      "WARNING:tensorflow:Callback method `on_train_batch_begin` is slow compared to the batch time (batch time: 0.0054s vs `on_train_batch_begin` time: 0.0637s). Check your callbacks.\n"
     ]
    },
    {
     "name": "stdout",
     "output_type": "stream",
     "text": [
      "WARNING:tensorflow:Callback method `on_train_batch_end` is slow compared to the batch time (batch time: 0.0054s vs `on_train_batch_end` time: 0.0704s). Check your callbacks.\n"
     ]
    },
    {
     "name": "stderr",
     "output_type": "stream",
     "text": [
      "WARNING:tensorflow:Callback method `on_train_batch_end` is slow compared to the batch time (batch time: 0.0054s vs `on_train_batch_end` time: 0.0704s). Check your callbacks.\n"
     ]
    },
    {
     "name": "stdout",
     "output_type": "stream",
     "text": [
      "Training end time: 2024-01-11 14:24:18\n",
      "Training took 0:08:48.364945 (h:m:s)\n"
     ]
    },
    {
     "name": "stderr",
     "output_type": "stream",
     "text": [
      "WARNING:absl:Found untraced functions such as _jit_compiled_convolution_op, _jit_compiled_convolution_op, _jit_compiled_convolution_op, _jit_compiled_convolution_op, _jit_compiled_convolution_op while saving (showing 5 of 5). These functions will not be directly callable after loading.\n"
     ]
    },
    {
     "name": "stdout",
     "output_type": "stream",
     "text": [
      "INFO:tensorflow:Assets written to: ../models/240104_w_shaft/1_CNN/raw_data/data_split_by_1_period/not_normalized/my_model_CH2367/assets\n"
     ]
    },
    {
     "name": "stderr",
     "output_type": "stream",
     "text": [
      "INFO:tensorflow:Assets written to: ../models/240104_w_shaft/1_CNN/raw_data/data_split_by_1_period/not_normalized/my_model_CH2367/assets\n"
     ]
    },
    {
     "name": "stdout",
     "output_type": "stream",
     "text": [
      "\n",
      "\n",
      "\n",
      "\n",
      "2367\n",
      "Should Flatten:  False\n",
      "Split parameter:  data_split_by_0.5_period\n",
      "Which Channel:  SG2 & SG3 & SG6 & SG7\n",
      "Should Normalize: False\n",
      "Num of train data：9216 (0deg：1152 / 15deg：1152 / 30deg：1152 / 45deg：1152 / 60deg：1152 / 75deg：1152 / 90deg：1152 / No Wind：1152)\n",
      "Num of test data：2304 (0deg：288 / 15deg：288 / 30deg：288 / 45deg：288 / 60deg：288 / 75deg：288 / 90deg：288 / No Wind：288)\n",
      "Model: \"model\"\n",
      "_________________________________________________________________\n",
      " Layer (type)                Output Shape              Param #   \n",
      "=================================================================\n",
      " input_1 (InputLayer)        [(None, 416, 4)]          0         \n",
      "                                                                 \n",
      " conv1d (Conv1D)             (None, 289, 16)           8208      \n",
      "                                                                 \n",
      " re_lu (ReLU)                (None, 289, 16)           0         \n",
      "                                                                 \n",
      " batch_normalization (BatchN  (None, 289, 16)          64        \n",
      " ormalization)                                                   \n",
      "                                                                 \n",
      " dropout (Dropout)           (None, 289, 16)           0         \n",
      "                                                                 \n",
      " conv1d_1 (Conv1D)           (None, 226, 16)           16400     \n",
      "                                                                 \n",
      " re_lu_1 (ReLU)              (None, 226, 16)           0         \n",
      "                                                                 \n",
      " batch_normalization_1 (Batc  (None, 226, 16)          64        \n",
      " hNormalization)                                                 \n",
      "                                                                 \n",
      " dropout_1 (Dropout)         (None, 226, 16)           0         \n",
      "                                                                 \n",
      " conv1d_2 (Conv1D)           (None, 195, 16)           8208      \n",
      "                                                                 \n",
      " re_lu_2 (ReLU)              (None, 195, 16)           0         \n",
      "                                                                 \n",
      " batch_normalization_2 (Batc  (None, 195, 16)          64        \n",
      " hNormalization)                                                 \n",
      "                                                                 \n",
      " dropout_2 (Dropout)         (None, 195, 16)           0         \n",
      "                                                                 \n",
      " conv1d_3 (Conv1D)           (None, 180, 16)           4112      \n",
      "                                                                 \n",
      " re_lu_3 (ReLU)              (None, 180, 16)           0         \n",
      "                                                                 \n",
      " batch_normalization_3 (Batc  (None, 180, 16)          64        \n",
      " hNormalization)                                                 \n",
      "                                                                 \n",
      " dropout_3 (Dropout)         (None, 180, 16)           0         \n",
      "                                                                 \n",
      " flatten (Flatten)           (None, 2880)              0         \n",
      "                                                                 \n",
      " dense (Dense)               (None, 8)                 23048     \n",
      "                                                                 \n",
      " tf.nn.softmax (TFOpLambda)  (None, 8)                 0         \n",
      "                                                                 \n",
      "=================================================================\n",
      "Total params: 60,232\n",
      "Trainable params: 60,104\n",
      "Non-trainable params: 128\n",
      "_________________________________________________________________\n",
      "8000\n"
     ]
    },
    {
     "name": "stderr",
     "output_type": "stream",
     "text": [
      "2024-01-11 14:24:20.295371: I tensorflow/core/profiler/lib/profiler_session.cc:101] Profiler session initializing.\n",
      "2024-01-11 14:24:20.295384: I tensorflow/core/profiler/lib/profiler_session.cc:116] Profiler session started.\n"
     ]
    },
    {
     "name": "stdout",
     "output_type": "stream",
     "text": [
      "Training start time: 2024-01-11 14:24:20\n"
     ]
    },
    {
     "name": "stderr",
     "output_type": "stream",
     "text": [
      "2024-01-11 14:24:20.694621: I tensorflow/core/profiler/lib/profiler_session.cc:128] Profiler session tear down.\n",
      "2024-01-11 14:24:20.694727: I tensorflow/core/profiler/backends/gpu/cupti_tracer.cc:1798] CUPTI activity buffer flushed\n"
     ]
    },
    {
     "data": {
      "application/vnd.jupyter.widget-view+json": {
       "model_id": "7df0c9c484c44e13aca32f93e6c20ff4",
       "version_major": 2,
       "version_minor": 0
      },
      "text/plain": [
       "Epoch Progress:   0%|          | 0/8000 [00:00<?, ?epoch/s]"
      ]
     },
     "metadata": {},
     "output_type": "display_data"
    },
    {
     "name": "stderr",
     "output_type": "stream",
     "text": [
      "2024-01-11 14:24:21.660252: I tensorflow/core/profiler/lib/profiler_session.cc:101] Profiler session initializing.\n",
      "2024-01-11 14:24:21.660267: I tensorflow/core/profiler/lib/profiler_session.cc:116] Profiler session started.\n"
     ]
    },
    {
     "name": "stdout",
     "output_type": "stream",
     "text": [
      "WARNING:tensorflow:Callback method `on_train_batch_begin` is slow compared to the batch time (batch time: 0.0036s vs `on_train_batch_begin` time: 0.0689s). Check your callbacks.\n"
     ]
    },
    {
     "name": "stderr",
     "output_type": "stream",
     "text": [
      "2024-01-11 14:24:22.262921: I tensorflow/core/profiler/lib/profiler_session.cc:67] Profiler session collecting data.\n",
      "2024-01-11 14:24:22.291830: I tensorflow/core/profiler/backends/gpu/cupti_tracer.cc:1798] CUPTI activity buffer flushed\n",
      "2024-01-11 14:24:22.368188: I tensorflow/core/profiler/backends/gpu/cupti_collector.cc:521]  GpuTracer has collected 341 callback api events and 341 activity events. \n",
      "2024-01-11 14:24:22.391285: I tensorflow/core/profiler/lib/profiler_session.cc:128] Profiler session tear down.\n",
      "2024-01-11 14:24:22.397797: I tensorflow/core/profiler/rpc/client/save_profile.cc:136] Creating directory: ../logs/240104_w_shaft/1704950660.2953124/train/plugins/profile/2024_01_11_14_24_22\n",
      "\n",
      "2024-01-11 14:24:22.400899: I tensorflow/core/profiler/rpc/client/save_profile.cc:142] Dumped gzipped tool data for trace.json.gz to ../logs/240104_w_shaft/1704950660.2953124/train/plugins/profile/2024_01_11_14_24_22/winddetection.trace.json.gz\n",
      "2024-01-11 14:24:22.425033: I tensorflow/core/profiler/rpc/client/save_profile.cc:136] Creating directory: ../logs/240104_w_shaft/1704950660.2953124/train/plugins/profile/2024_01_11_14_24_22\n",
      "\n",
      "2024-01-11 14:24:22.433865: I tensorflow/core/profiler/rpc/client/save_profile.cc:142] Dumped gzipped tool data for memory_profile.json.gz to ../logs/240104_w_shaft/1704950660.2953124/train/plugins/profile/2024_01_11_14_24_22/winddetection.memory_profile.json.gz\n",
      "2024-01-11 14:24:22.434765: I tensorflow/core/profiler/rpc/client/capture_profile.cc:251] Creating directory: ../logs/240104_w_shaft/1704950660.2953124/train/plugins/profile/2024_01_11_14_24_22\n",
      "Dumped tool data for xplane.pb to ../logs/240104_w_shaft/1704950660.2953124/train/plugins/profile/2024_01_11_14_24_22/winddetection.xplane.pb\n",
      "Dumped tool data for overview_page.pb to ../logs/240104_w_shaft/1704950660.2953124/train/plugins/profile/2024_01_11_14_24_22/winddetection.overview_page.pb\n",
      "Dumped tool data for input_pipeline.pb to ../logs/240104_w_shaft/1704950660.2953124/train/plugins/profile/2024_01_11_14_24_22/winddetection.input_pipeline.pb\n",
      "Dumped tool data for tensorflow_stats.pb to ../logs/240104_w_shaft/1704950660.2953124/train/plugins/profile/2024_01_11_14_24_22/winddetection.tensorflow_stats.pb\n",
      "Dumped tool data for kernel_stats.pb to ../logs/240104_w_shaft/1704950660.2953124/train/plugins/profile/2024_01_11_14_24_22/winddetection.kernel_stats.pb\n",
      "\n",
      "WARNING:tensorflow:Callback method `on_train_batch_begin` is slow compared to the batch time (batch time: 0.0036s vs `on_train_batch_begin` time: 0.0689s). Check your callbacks.\n"
     ]
    },
    {
     "name": "stdout",
     "output_type": "stream",
     "text": [
      "WARNING:tensorflow:Callback method `on_train_batch_end` is slow compared to the batch time (batch time: 0.0036s vs `on_train_batch_end` time: 0.0650s). Check your callbacks.\n"
     ]
    },
    {
     "name": "stderr",
     "output_type": "stream",
     "text": [
      "WARNING:tensorflow:Callback method `on_train_batch_end` is slow compared to the batch time (batch time: 0.0036s vs `on_train_batch_end` time: 0.0650s). Check your callbacks.\n"
     ]
    },
    {
     "name": "stdout",
     "output_type": "stream",
     "text": [
      "Training end time: 2024-01-11 14:52:21\n",
      "Training took 0:28:01.132343 (h:m:s)\n"
     ]
    },
    {
     "name": "stderr",
     "output_type": "stream",
     "text": [
      "WARNING:absl:Found untraced functions such as _jit_compiled_convolution_op, _jit_compiled_convolution_op, _jit_compiled_convolution_op, _jit_compiled_convolution_op while saving (showing 4 of 4). These functions will not be directly callable after loading.\n"
     ]
    },
    {
     "name": "stdout",
     "output_type": "stream",
     "text": [
      "INFO:tensorflow:Assets written to: ../models/240104_w_shaft/1_CNN/raw_data/data_split_by_0.5_period/not_normalized/my_model_CH2367/assets\n"
     ]
    },
    {
     "name": "stderr",
     "output_type": "stream",
     "text": [
      "INFO:tensorflow:Assets written to: ../models/240104_w_shaft/1_CNN/raw_data/data_split_by_0.5_period/not_normalized/my_model_CH2367/assets\n"
     ]
    },
    {
     "name": "stdout",
     "output_type": "stream",
     "text": [
      "\n",
      "\n",
      "\n",
      "\n",
      "2367\n",
      "Should Flatten:  False\n",
      "Split parameter:  data_split_by_0.2_period\n",
      "Which Channel:  SG2 & SG3 & SG6 & SG7\n",
      "Should Normalize: False\n",
      "Num of train data：23116 (0deg：2889 / 15deg：2890 / 30deg：2890 / 45deg：2889 / 60deg：2890 / 75deg：2889 / 90deg：2889 / No Wind：2890)\n",
      "Num of test data：5780 (0deg：723 / 15deg：722 / 30deg：722 / 45deg：723 / 60deg：722 / 75deg：723 / 90deg：723 / No Wind：722)\n",
      "Model: \"model\"\n",
      "_________________________________________________________________\n",
      " Layer (type)                Output Shape              Param #   \n",
      "=================================================================\n",
      " input_1 (InputLayer)        [(None, 166, 4)]          0         \n",
      "                                                                 \n",
      " conv1d (Conv1D)             (None, 103, 16)           4112      \n",
      "                                                                 \n",
      " re_lu (ReLU)                (None, 103, 16)           0         \n",
      "                                                                 \n",
      " batch_normalization (BatchN  (None, 103, 16)          64        \n",
      " ormalization)                                                   \n",
      "                                                                 \n",
      " dropout (Dropout)           (None, 103, 16)           0         \n",
      "                                                                 \n",
      " conv1d_1 (Conv1D)           (None, 72, 16)            8208      \n",
      "                                                                 \n",
      " re_lu_1 (ReLU)              (None, 72, 16)            0         \n",
      "                                                                 \n",
      " batch_normalization_1 (Batc  (None, 72, 16)           64        \n",
      " hNormalization)                                                 \n",
      "                                                                 \n",
      " dropout_1 (Dropout)         (None, 72, 16)            0         \n",
      "                                                                 \n",
      " conv1d_2 (Conv1D)           (None, 57, 16)            4112      \n",
      "                                                                 \n",
      " re_lu_2 (ReLU)              (None, 57, 16)            0         \n",
      "                                                                 \n",
      " batch_normalization_2 (Batc  (None, 57, 16)           64        \n",
      " hNormalization)                                                 \n",
      "                                                                 \n",
      " dropout_2 (Dropout)         (None, 57, 16)            0         \n",
      "                                                                 \n",
      " flatten (Flatten)           (None, 912)               0         \n",
      "                                                                 \n",
      " dense (Dense)               (None, 8)                 7304      \n",
      "                                                                 \n",
      " tf.nn.softmax (TFOpLambda)  (None, 8)                 0         \n",
      "                                                                 \n",
      "=================================================================\n",
      "Total params: 23,928\n",
      "Trainable params: 23,832\n",
      "Non-trainable params: 96\n",
      "_________________________________________________________________\n",
      "13000\n"
     ]
    },
    {
     "name": "stderr",
     "output_type": "stream",
     "text": [
      "2024-01-11 14:52:23.481184: I tensorflow/core/profiler/lib/profiler_session.cc:101] Profiler session initializing.\n",
      "2024-01-11 14:52:23.481198: I tensorflow/core/profiler/lib/profiler_session.cc:116] Profiler session started.\n"
     ]
    },
    {
     "name": "stdout",
     "output_type": "stream",
     "text": [
      "Training start time: 2024-01-11 14:52:23\n"
     ]
    },
    {
     "name": "stderr",
     "output_type": "stream",
     "text": [
      "2024-01-11 14:52:23.913821: I tensorflow/core/profiler/lib/profiler_session.cc:128] Profiler session tear down.\n",
      "2024-01-11 14:52:23.913953: I tensorflow/core/profiler/backends/gpu/cupti_tracer.cc:1798] CUPTI activity buffer flushed\n"
     ]
    },
    {
     "data": {
      "application/vnd.jupyter.widget-view+json": {
       "model_id": "de59fa8c22134bda80d7f6a6e415a677",
       "version_major": 2,
       "version_minor": 0
      },
      "text/plain": [
       "Epoch Progress:   0%|          | 0/13000 [00:00<?, ?epoch/s]"
      ]
     },
     "metadata": {},
     "output_type": "display_data"
    },
    {
     "name": "stderr",
     "output_type": "stream",
     "text": [
      "2024-01-11 14:52:24.723788: I tensorflow/core/profiler/lib/profiler_session.cc:101] Profiler session initializing.\n",
      "2024-01-11 14:52:24.723804: I tensorflow/core/profiler/lib/profiler_session.cc:116] Profiler session started.\n"
     ]
    },
    {
     "name": "stdout",
     "output_type": "stream",
     "text": [
      "WARNING:tensorflow:Callback method `on_train_batch_begin` is slow compared to the batch time (batch time: 0.0026s vs `on_train_batch_begin` time: 0.0756s). Check your callbacks.\n"
     ]
    },
    {
     "name": "stderr",
     "output_type": "stream",
     "text": [
      "2024-01-11 14:52:25.347876: I tensorflow/core/profiler/lib/profiler_session.cc:67] Profiler session collecting data.\n",
      "2024-01-11 14:52:25.372436: I tensorflow/core/profiler/backends/gpu/cupti_tracer.cc:1798] CUPTI activity buffer flushed\n",
      "2024-01-11 14:52:25.446011: I tensorflow/core/profiler/backends/gpu/cupti_collector.cc:521]  GpuTracer has collected 258 callback api events and 258 activity events. \n",
      "2024-01-11 14:52:25.472178: I tensorflow/core/profiler/lib/profiler_session.cc:128] Profiler session tear down.\n",
      "2024-01-11 14:52:25.477131: I tensorflow/core/profiler/rpc/client/save_profile.cc:136] Creating directory: ../logs/240104_w_shaft/1704952343.4811232/train/plugins/profile/2024_01_11_14_52_25\n",
      "\n",
      "2024-01-11 14:52:25.479681: I tensorflow/core/profiler/rpc/client/save_profile.cc:142] Dumped gzipped tool data for trace.json.gz to ../logs/240104_w_shaft/1704952343.4811232/train/plugins/profile/2024_01_11_14_52_25/winddetection.trace.json.gz\n",
      "2024-01-11 14:52:25.497718: I tensorflow/core/profiler/rpc/client/save_profile.cc:136] Creating directory: ../logs/240104_w_shaft/1704952343.4811232/train/plugins/profile/2024_01_11_14_52_25\n",
      "\n",
      "2024-01-11 14:52:25.503587: I tensorflow/core/profiler/rpc/client/save_profile.cc:142] Dumped gzipped tool data for memory_profile.json.gz to ../logs/240104_w_shaft/1704952343.4811232/train/plugins/profile/2024_01_11_14_52_25/winddetection.memory_profile.json.gz\n",
      "2024-01-11 14:52:25.504379: I tensorflow/core/profiler/rpc/client/capture_profile.cc:251] Creating directory: ../logs/240104_w_shaft/1704952343.4811232/train/plugins/profile/2024_01_11_14_52_25\n",
      "Dumped tool data for xplane.pb to ../logs/240104_w_shaft/1704952343.4811232/train/plugins/profile/2024_01_11_14_52_25/winddetection.xplane.pb\n",
      "Dumped tool data for overview_page.pb to ../logs/240104_w_shaft/1704952343.4811232/train/plugins/profile/2024_01_11_14_52_25/winddetection.overview_page.pb\n",
      "Dumped tool data for input_pipeline.pb to ../logs/240104_w_shaft/1704952343.4811232/train/plugins/profile/2024_01_11_14_52_25/winddetection.input_pipeline.pb\n",
      "Dumped tool data for tensorflow_stats.pb to ../logs/240104_w_shaft/1704952343.4811232/train/plugins/profile/2024_01_11_14_52_25/winddetection.tensorflow_stats.pb\n",
      "Dumped tool data for kernel_stats.pb to ../logs/240104_w_shaft/1704952343.4811232/train/plugins/profile/2024_01_11_14_52_25/winddetection.kernel_stats.pb\n",
      "\n",
      "WARNING:tensorflow:Callback method `on_train_batch_begin` is slow compared to the batch time (batch time: 0.0026s vs `on_train_batch_begin` time: 0.0756s). Check your callbacks.\n"
     ]
    },
    {
     "name": "stdout",
     "output_type": "stream",
     "text": [
      "WARNING:tensorflow:Callback method `on_train_batch_end` is slow compared to the batch time (batch time: 0.0026s vs `on_train_batch_end` time: 0.0587s). Check your callbacks.\n"
     ]
    },
    {
     "name": "stderr",
     "output_type": "stream",
     "text": [
      "WARNING:tensorflow:Callback method `on_train_batch_end` is slow compared to the batch time (batch time: 0.0026s vs `on_train_batch_end` time: 0.0587s). Check your callbacks.\n"
     ]
    },
    {
     "name": "stdout",
     "output_type": "stream",
     "text": [
      "Training end time: 2024-01-11 15:48:22\n",
      "Training took 0:55:58.170028 (h:m:s)\n"
     ]
    },
    {
     "name": "stderr",
     "output_type": "stream",
     "text": [
      "WARNING:absl:Found untraced functions such as _jit_compiled_convolution_op, _jit_compiled_convolution_op, _jit_compiled_convolution_op while saving (showing 3 of 3). These functions will not be directly callable after loading.\n"
     ]
    },
    {
     "name": "stdout",
     "output_type": "stream",
     "text": [
      "INFO:tensorflow:Assets written to: ../models/240104_w_shaft/1_CNN/raw_data/data_split_by_0.2_period/not_normalized/my_model_CH2367/assets\n"
     ]
    },
    {
     "name": "stderr",
     "output_type": "stream",
     "text": [
      "INFO:tensorflow:Assets written to: ../models/240104_w_shaft/1_CNN/raw_data/data_split_by_0.2_period/not_normalized/my_model_CH2367/assets\n"
     ]
    },
    {
     "name": "stdout",
     "output_type": "stream",
     "text": [
      "\n",
      "\n",
      "\n",
      "\n"
     ]
    },
    {
     "data": {
      "application/vnd.jupyter.widget-view+json": {
       "model_id": "799e852a205646c6aeab41c3af18f0b6",
       "version_major": 2,
       "version_minor": 0
      },
      "text/plain": [
       "  0%|          | 0/3 [00:00<?, ?it/s]"
      ]
     },
     "metadata": {},
     "output_type": "display_data"
    },
    {
     "name": "stdout",
     "output_type": "stream",
     "text": [
      "2456\n",
      "Should Flatten:  False\n",
      "Split parameter:  data_split_by_1_period\n",
      "Which Channel:  SG2 & SG4 & SG5 & SG6\n",
      "Should Normalize: False\n",
      "Num of train data：4608 (0deg：576 / 15deg：576 / 30deg：576 / 45deg：576 / 60deg：576 / 75deg：576 / 90deg：576 / No Wind：576)\n",
      "Num of test data：1152 (0deg：144 / 15deg：144 / 30deg：144 / 45deg：144 / 60deg：144 / 75deg：144 / 90deg：144 / No Wind：144)\n",
      "Model: \"model\"\n",
      "_________________________________________________________________\n",
      " Layer (type)                Output Shape              Param #   \n",
      "=================================================================\n",
      " input_1 (InputLayer)        [(None, 833, 4)]          0         \n",
      "                                                                 \n",
      " conv1d (Conv1D)             (None, 578, 16)           16400     \n",
      "                                                                 \n",
      " re_lu (ReLU)                (None, 578, 16)           0         \n",
      "                                                                 \n",
      " batch_normalization (BatchN  (None, 578, 16)          64        \n",
      " ormalization)                                                   \n",
      "                                                                 \n",
      " dropout (Dropout)           (None, 578, 16)           0         \n",
      "                                                                 \n",
      " conv1d_1 (Conv1D)           (None, 451, 16)           32784     \n",
      "                                                                 \n",
      " re_lu_1 (ReLU)              (None, 451, 16)           0         \n",
      "                                                                 \n",
      " batch_normalization_1 (Batc  (None, 451, 16)          64        \n",
      " hNormalization)                                                 \n",
      "                                                                 \n",
      " dropout_1 (Dropout)         (None, 451, 16)           0         \n",
      "                                                                 \n",
      " conv1d_2 (Conv1D)           (None, 388, 16)           16400     \n",
      "                                                                 \n",
      " re_lu_2 (ReLU)              (None, 388, 16)           0         \n",
      "                                                                 \n",
      " batch_normalization_2 (Batc  (None, 388, 16)          64        \n",
      " hNormalization)                                                 \n",
      "                                                                 \n",
      " dropout_2 (Dropout)         (None, 388, 16)           0         \n",
      "                                                                 \n",
      " conv1d_3 (Conv1D)           (None, 357, 16)           8208      \n",
      "                                                                 \n",
      " re_lu_3 (ReLU)              (None, 357, 16)           0         \n",
      "                                                                 \n",
      " batch_normalization_3 (Batc  (None, 357, 16)          64        \n",
      " hNormalization)                                                 \n",
      "                                                                 \n",
      " dropout_3 (Dropout)         (None, 357, 16)           0         \n",
      "                                                                 \n",
      " conv1d_4 (Conv1D)           (None, 342, 16)           4112      \n",
      "                                                                 \n",
      " re_lu_4 (ReLU)              (None, 342, 16)           0         \n",
      "                                                                 \n",
      " batch_normalization_4 (Batc  (None, 342, 16)          64        \n",
      " hNormalization)                                                 \n",
      "                                                                 \n",
      " dropout_4 (Dropout)         (None, 342, 16)           0         \n",
      "                                                                 \n",
      " flatten (Flatten)           (None, 5472)              0         \n",
      "                                                                 \n",
      " dense (Dense)               (None, 8)                 43784     \n",
      "                                                                 \n",
      " tf.nn.softmax (TFOpLambda)  (None, 8)                 0         \n",
      "                                                                 \n",
      "=================================================================\n",
      "Total params: 122,008\n",
      "Trainable params: 121,848\n",
      "Non-trainable params: 160\n",
      "_________________________________________________________________\n",
      "2000\n"
     ]
    },
    {
     "name": "stderr",
     "output_type": "stream",
     "text": [
      "2024-01-11 15:48:23.312606: I tensorflow/core/profiler/lib/profiler_session.cc:101] Profiler session initializing.\n",
      "2024-01-11 15:48:23.312620: I tensorflow/core/profiler/lib/profiler_session.cc:116] Profiler session started.\n"
     ]
    },
    {
     "name": "stdout",
     "output_type": "stream",
     "text": [
      "Training start time: 2024-01-11 15:48:23\n"
     ]
    },
    {
     "name": "stderr",
     "output_type": "stream",
     "text": [
      "2024-01-11 15:48:23.755785: I tensorflow/core/profiler/lib/profiler_session.cc:128] Profiler session tear down.\n",
      "2024-01-11 15:48:23.755921: I tensorflow/core/profiler/backends/gpu/cupti_tracer.cc:1798] CUPTI activity buffer flushed\n"
     ]
    },
    {
     "data": {
      "application/vnd.jupyter.widget-view+json": {
       "model_id": "ab078c53056b4dd983b507f6555b5af5",
       "version_major": 2,
       "version_minor": 0
      },
      "text/plain": [
       "Epoch Progress:   0%|          | 0/2000 [00:00<?, ?epoch/s]"
      ]
     },
     "metadata": {},
     "output_type": "display_data"
    },
    {
     "name": "stderr",
     "output_type": "stream",
     "text": [
      "2024-01-11 15:48:24.888466: I tensorflow/core/profiler/lib/profiler_session.cc:101] Profiler session initializing.\n",
      "2024-01-11 15:48:24.888481: I tensorflow/core/profiler/lib/profiler_session.cc:116] Profiler session started.\n",
      "2024-01-11 15:48:25.544220: I tensorflow/core/profiler/lib/profiler_session.cc:67] Profiler session collecting data.\n",
      "2024-01-11 15:48:25.573616: I tensorflow/core/profiler/backends/gpu/cupti_tracer.cc:1798] CUPTI activity buffer flushed\n",
      "2024-01-11 15:48:25.626151: I tensorflow/core/profiler/backends/gpu/cupti_collector.cc:521]  GpuTracer has collected 414 callback api events and 415 activity events. \n",
      "2024-01-11 15:48:25.649602: I tensorflow/core/profiler/lib/profiler_session.cc:128] Profiler session tear down.\n",
      "2024-01-11 15:48:25.657546: I tensorflow/core/profiler/rpc/client/save_profile.cc:136] Creating directory: ../logs/240104_w_shaft/1704955703.3125494/train/plugins/profile/2024_01_11_15_48_25\n",
      "\n",
      "2024-01-11 15:48:25.661280: I tensorflow/core/profiler/rpc/client/save_profile.cc:142] Dumped gzipped tool data for trace.json.gz to ../logs/240104_w_shaft/1704955703.3125494/train/plugins/profile/2024_01_11_15_48_25/winddetection.trace.json.gz\n",
      "2024-01-11 15:48:25.698581: I tensorflow/core/profiler/rpc/client/save_profile.cc:136] Creating directory: ../logs/240104_w_shaft/1704955703.3125494/train/plugins/profile/2024_01_11_15_48_25\n",
      "\n",
      "2024-01-11 15:48:25.707709: I tensorflow/core/profiler/rpc/client/save_profile.cc:142] Dumped gzipped tool data for memory_profile.json.gz to ../logs/240104_w_shaft/1704955703.3125494/train/plugins/profile/2024_01_11_15_48_25/winddetection.memory_profile.json.gz\n",
      "2024-01-11 15:48:25.709088: I tensorflow/core/profiler/rpc/client/capture_profile.cc:251] Creating directory: ../logs/240104_w_shaft/1704955703.3125494/train/plugins/profile/2024_01_11_15_48_25\n",
      "Dumped tool data for xplane.pb to ../logs/240104_w_shaft/1704955703.3125494/train/plugins/profile/2024_01_11_15_48_25/winddetection.xplane.pb\n",
      "Dumped tool data for overview_page.pb to ../logs/240104_w_shaft/1704955703.3125494/train/plugins/profile/2024_01_11_15_48_25/winddetection.overview_page.pb\n",
      "Dumped tool data for input_pipeline.pb to ../logs/240104_w_shaft/1704955703.3125494/train/plugins/profile/2024_01_11_15_48_25/winddetection.input_pipeline.pb\n",
      "Dumped tool data for tensorflow_stats.pb to ../logs/240104_w_shaft/1704955703.3125494/train/plugins/profile/2024_01_11_15_48_25/winddetection.tensorflow_stats.pb\n",
      "Dumped tool data for kernel_stats.pb to ../logs/240104_w_shaft/1704955703.3125494/train/plugins/profile/2024_01_11_15_48_25/winddetection.kernel_stats.pb\n",
      "\n"
     ]
    },
    {
     "name": "stdout",
     "output_type": "stream",
     "text": [
      "WARNING:tensorflow:Callback method `on_train_batch_begin` is slow compared to the batch time (batch time: 0.0054s vs `on_train_batch_begin` time: 0.0773s). Check your callbacks.\n"
     ]
    },
    {
     "name": "stderr",
     "output_type": "stream",
     "text": [
      "WARNING:tensorflow:Callback method `on_train_batch_begin` is slow compared to the batch time (batch time: 0.0054s vs `on_train_batch_begin` time: 0.0773s). Check your callbacks.\n"
     ]
    },
    {
     "name": "stdout",
     "output_type": "stream",
     "text": [
      "WARNING:tensorflow:Callback method `on_train_batch_end` is slow compared to the batch time (batch time: 0.0054s vs `on_train_batch_end` time: 0.0651s). Check your callbacks.\n"
     ]
    },
    {
     "name": "stderr",
     "output_type": "stream",
     "text": [
      "WARNING:tensorflow:Callback method `on_train_batch_end` is slow compared to the batch time (batch time: 0.0054s vs `on_train_batch_end` time: 0.0651s). Check your callbacks.\n"
     ]
    },
    {
     "name": "stdout",
     "output_type": "stream",
     "text": [
      "Training end time: 2024-01-11 15:57:11\n",
      "Training took 0:08:47.780932 (h:m:s)\n"
     ]
    },
    {
     "name": "stderr",
     "output_type": "stream",
     "text": [
      "WARNING:absl:Found untraced functions such as _jit_compiled_convolution_op, _jit_compiled_convolution_op, _jit_compiled_convolution_op, _jit_compiled_convolution_op, _jit_compiled_convolution_op while saving (showing 5 of 5). These functions will not be directly callable after loading.\n"
     ]
    },
    {
     "name": "stdout",
     "output_type": "stream",
     "text": [
      "INFO:tensorflow:Assets written to: ../models/240104_w_shaft/1_CNN/raw_data/data_split_by_1_period/not_normalized/my_model_CH2456/assets\n"
     ]
    },
    {
     "name": "stderr",
     "output_type": "stream",
     "text": [
      "INFO:tensorflow:Assets written to: ../models/240104_w_shaft/1_CNN/raw_data/data_split_by_1_period/not_normalized/my_model_CH2456/assets\n"
     ]
    },
    {
     "name": "stdout",
     "output_type": "stream",
     "text": [
      "\n",
      "\n",
      "\n",
      "\n",
      "2456\n",
      "Should Flatten:  False\n",
      "Split parameter:  data_split_by_0.5_period\n",
      "Which Channel:  SG2 & SG4 & SG5 & SG6\n",
      "Should Normalize: False\n",
      "Num of train data：9216 (0deg：1152 / 15deg：1152 / 30deg：1152 / 45deg：1152 / 60deg：1152 / 75deg：1152 / 90deg：1152 / No Wind：1152)\n",
      "Num of test data：2304 (0deg：288 / 15deg：288 / 30deg：288 / 45deg：288 / 60deg：288 / 75deg：288 / 90deg：288 / No Wind：288)\n",
      "Model: \"model\"\n",
      "_________________________________________________________________\n",
      " Layer (type)                Output Shape              Param #   \n",
      "=================================================================\n",
      " input_1 (InputLayer)        [(None, 416, 4)]          0         \n",
      "                                                                 \n",
      " conv1d (Conv1D)             (None, 289, 16)           8208      \n",
      "                                                                 \n",
      " re_lu (ReLU)                (None, 289, 16)           0         \n",
      "                                                                 \n",
      " batch_normalization (BatchN  (None, 289, 16)          64        \n",
      " ormalization)                                                   \n",
      "                                                                 \n",
      " dropout (Dropout)           (None, 289, 16)           0         \n",
      "                                                                 \n",
      " conv1d_1 (Conv1D)           (None, 226, 16)           16400     \n",
      "                                                                 \n",
      " re_lu_1 (ReLU)              (None, 226, 16)           0         \n",
      "                                                                 \n",
      " batch_normalization_1 (Batc  (None, 226, 16)          64        \n",
      " hNormalization)                                                 \n",
      "                                                                 \n",
      " dropout_1 (Dropout)         (None, 226, 16)           0         \n",
      "                                                                 \n",
      " conv1d_2 (Conv1D)           (None, 195, 16)           8208      \n",
      "                                                                 \n",
      " re_lu_2 (ReLU)              (None, 195, 16)           0         \n",
      "                                                                 \n",
      " batch_normalization_2 (Batc  (None, 195, 16)          64        \n",
      " hNormalization)                                                 \n",
      "                                                                 \n",
      " dropout_2 (Dropout)         (None, 195, 16)           0         \n",
      "                                                                 \n",
      " conv1d_3 (Conv1D)           (None, 180, 16)           4112      \n",
      "                                                                 \n",
      " re_lu_3 (ReLU)              (None, 180, 16)           0         \n",
      "                                                                 \n",
      " batch_normalization_3 (Batc  (None, 180, 16)          64        \n",
      " hNormalization)                                                 \n",
      "                                                                 \n",
      " dropout_3 (Dropout)         (None, 180, 16)           0         \n",
      "                                                                 \n",
      " flatten (Flatten)           (None, 2880)              0         \n",
      "                                                                 \n",
      " dense (Dense)               (None, 8)                 23048     \n",
      "                                                                 \n",
      " tf.nn.softmax (TFOpLambda)  (None, 8)                 0         \n",
      "                                                                 \n",
      "=================================================================\n",
      "Total params: 60,232\n",
      "Trainable params: 60,104\n",
      "Non-trainable params: 128\n",
      "_________________________________________________________________\n",
      "8000\n",
      "Training start time: 2024-01-11 15:57:13\n"
     ]
    },
    {
     "name": "stderr",
     "output_type": "stream",
     "text": [
      "2024-01-11 15:57:13.500687: I tensorflow/core/profiler/lib/profiler_session.cc:101] Profiler session initializing.\n",
      "2024-01-11 15:57:13.500703: I tensorflow/core/profiler/lib/profiler_session.cc:116] Profiler session started.\n",
      "2024-01-11 15:57:13.684921: I tensorflow/core/profiler/lib/profiler_session.cc:128] Profiler session tear down.\n",
      "2024-01-11 15:57:13.685045: I tensorflow/core/profiler/backends/gpu/cupti_tracer.cc:1798] CUPTI activity buffer flushed\n"
     ]
    },
    {
     "data": {
      "application/vnd.jupyter.widget-view+json": {
       "model_id": "999665f7b1e4438897cff5c6dc7c8030",
       "version_major": 2,
       "version_minor": 0
      },
      "text/plain": [
       "Epoch Progress:   0%|          | 0/8000 [00:00<?, ?epoch/s]"
      ]
     },
     "metadata": {},
     "output_type": "display_data"
    },
    {
     "name": "stderr",
     "output_type": "stream",
     "text": [
      "2024-01-11 15:57:14.652396: I tensorflow/core/profiler/lib/profiler_session.cc:101] Profiler session initializing.\n",
      "2024-01-11 15:57:14.652412: I tensorflow/core/profiler/lib/profiler_session.cc:116] Profiler session started.\n"
     ]
    },
    {
     "name": "stdout",
     "output_type": "stream",
     "text": [
      "WARNING:tensorflow:Callback method `on_train_batch_begin` is slow compared to the batch time (batch time: 0.0034s vs `on_train_batch_begin` time: 0.0340s). Check your callbacks.\n"
     ]
    },
    {
     "name": "stderr",
     "output_type": "stream",
     "text": [
      "2024-01-11 15:57:15.060358: I tensorflow/core/profiler/lib/profiler_session.cc:67] Profiler session collecting data.\n",
      "2024-01-11 15:57:15.088717: I tensorflow/core/profiler/backends/gpu/cupti_tracer.cc:1798] CUPTI activity buffer flushed\n",
      "2024-01-11 15:57:15.140088: I tensorflow/core/profiler/backends/gpu/cupti_collector.cc:521]  GpuTracer has collected 341 callback api events and 341 activity events. \n",
      "2024-01-11 15:57:15.162451: I tensorflow/core/profiler/lib/profiler_session.cc:128] Profiler session tear down.\n",
      "2024-01-11 15:57:15.169021: I tensorflow/core/profiler/rpc/client/save_profile.cc:136] Creating directory: ../logs/240104_w_shaft/1704956233.5006275/train/plugins/profile/2024_01_11_15_57_15\n",
      "\n",
      "2024-01-11 15:57:15.172184: I tensorflow/core/profiler/rpc/client/save_profile.cc:142] Dumped gzipped tool data for trace.json.gz to ../logs/240104_w_shaft/1704956233.5006275/train/plugins/profile/2024_01_11_15_57_15/winddetection.trace.json.gz\n",
      "2024-01-11 15:57:15.196793: I tensorflow/core/profiler/rpc/client/save_profile.cc:136] Creating directory: ../logs/240104_w_shaft/1704956233.5006275/train/plugins/profile/2024_01_11_15_57_15\n",
      "\n",
      "2024-01-11 15:57:15.205975: I tensorflow/core/profiler/rpc/client/save_profile.cc:142] Dumped gzipped tool data for memory_profile.json.gz to ../logs/240104_w_shaft/1704956233.5006275/train/plugins/profile/2024_01_11_15_57_15/winddetection.memory_profile.json.gz\n",
      "2024-01-11 15:57:15.207051: I tensorflow/core/profiler/rpc/client/capture_profile.cc:251] Creating directory: ../logs/240104_w_shaft/1704956233.5006275/train/plugins/profile/2024_01_11_15_57_15\n",
      "Dumped tool data for xplane.pb to ../logs/240104_w_shaft/1704956233.5006275/train/plugins/profile/2024_01_11_15_57_15/winddetection.xplane.pb\n",
      "Dumped tool data for overview_page.pb to ../logs/240104_w_shaft/1704956233.5006275/train/plugins/profile/2024_01_11_15_57_15/winddetection.overview_page.pb\n",
      "Dumped tool data for input_pipeline.pb to ../logs/240104_w_shaft/1704956233.5006275/train/plugins/profile/2024_01_11_15_57_15/winddetection.input_pipeline.pb\n",
      "Dumped tool data for tensorflow_stats.pb to ../logs/240104_w_shaft/1704956233.5006275/train/plugins/profile/2024_01_11_15_57_15/winddetection.tensorflow_stats.pb\n",
      "Dumped tool data for kernel_stats.pb to ../logs/240104_w_shaft/1704956233.5006275/train/plugins/profile/2024_01_11_15_57_15/winddetection.kernel_stats.pb\n",
      "\n",
      "WARNING:tensorflow:Callback method `on_train_batch_begin` is slow compared to the batch time (batch time: 0.0034s vs `on_train_batch_begin` time: 0.0340s). Check your callbacks.\n"
     ]
    },
    {
     "name": "stdout",
     "output_type": "stream",
     "text": [
      "WARNING:tensorflow:Callback method `on_train_batch_end` is slow compared to the batch time (batch time: 0.0034s vs `on_train_batch_end` time: 0.0636s). Check your callbacks.\n"
     ]
    },
    {
     "name": "stderr",
     "output_type": "stream",
     "text": [
      "WARNING:tensorflow:Callback method `on_train_batch_end` is slow compared to the batch time (batch time: 0.0034s vs `on_train_batch_end` time: 0.0636s). Check your callbacks.\n"
     ]
    },
    {
     "name": "stdout",
     "output_type": "stream",
     "text": [
      "Training end time: 2024-01-11 16:25:17\n",
      "Training took 0:28:03.754881 (h:m:s)\n"
     ]
    },
    {
     "name": "stderr",
     "output_type": "stream",
     "text": [
      "WARNING:absl:Found untraced functions such as _jit_compiled_convolution_op, _jit_compiled_convolution_op, _jit_compiled_convolution_op, _jit_compiled_convolution_op while saving (showing 4 of 4). These functions will not be directly callable after loading.\n"
     ]
    },
    {
     "name": "stdout",
     "output_type": "stream",
     "text": [
      "INFO:tensorflow:Assets written to: ../models/240104_w_shaft/1_CNN/raw_data/data_split_by_0.5_period/not_normalized/my_model_CH2456/assets\n"
     ]
    },
    {
     "name": "stderr",
     "output_type": "stream",
     "text": [
      "INFO:tensorflow:Assets written to: ../models/240104_w_shaft/1_CNN/raw_data/data_split_by_0.5_period/not_normalized/my_model_CH2456/assets\n"
     ]
    },
    {
     "name": "stdout",
     "output_type": "stream",
     "text": [
      "\n",
      "\n",
      "\n",
      "\n",
      "2456\n",
      "Should Flatten:  False\n",
      "Split parameter:  data_split_by_0.2_period\n",
      "Which Channel:  SG2 & SG4 & SG5 & SG6\n",
      "Should Normalize: False\n",
      "Num of train data：23116 (0deg：2889 / 15deg：2890 / 30deg：2890 / 45deg：2889 / 60deg：2890 / 75deg：2889 / 90deg：2889 / No Wind：2890)\n",
      "Num of test data：5780 (0deg：723 / 15deg：722 / 30deg：722 / 45deg：723 / 60deg：722 / 75deg：723 / 90deg：723 / No Wind：722)\n",
      "Model: \"model\"\n",
      "_________________________________________________________________\n",
      " Layer (type)                Output Shape              Param #   \n",
      "=================================================================\n",
      " input_1 (InputLayer)        [(None, 166, 4)]          0         \n",
      "                                                                 \n",
      " conv1d (Conv1D)             (None, 103, 16)           4112      \n",
      "                                                                 \n",
      " re_lu (ReLU)                (None, 103, 16)           0         \n",
      "                                                                 \n",
      " batch_normalization (BatchN  (None, 103, 16)          64        \n",
      " ormalization)                                                   \n",
      "                                                                 \n",
      " dropout (Dropout)           (None, 103, 16)           0         \n",
      "                                                                 \n",
      " conv1d_1 (Conv1D)           (None, 72, 16)            8208      \n",
      "                                                                 \n",
      " re_lu_1 (ReLU)              (None, 72, 16)            0         \n",
      "                                                                 \n",
      " batch_normalization_1 (Batc  (None, 72, 16)           64        \n",
      " hNormalization)                                                 \n",
      "                                                                 \n",
      " dropout_1 (Dropout)         (None, 72, 16)            0         \n",
      "                                                                 \n",
      " conv1d_2 (Conv1D)           (None, 57, 16)            4112      \n",
      "                                                                 \n",
      " re_lu_2 (ReLU)              (None, 57, 16)            0         \n",
      "                                                                 \n",
      " batch_normalization_2 (Batc  (None, 57, 16)           64        \n",
      " hNormalization)                                                 \n",
      "                                                                 \n",
      " dropout_2 (Dropout)         (None, 57, 16)            0         \n",
      "                                                                 \n",
      " flatten (Flatten)           (None, 912)               0         \n",
      "                                                                 \n",
      " dense (Dense)               (None, 8)                 7304      \n",
      "                                                                 \n",
      " tf.nn.softmax (TFOpLambda)  (None, 8)                 0         \n",
      "                                                                 \n",
      "=================================================================\n",
      "Total params: 23,928\n",
      "Trainable params: 23,832\n",
      "Non-trainable params: 96\n",
      "_________________________________________________________________\n",
      "13000\n"
     ]
    },
    {
     "name": "stderr",
     "output_type": "stream",
     "text": [
      "2024-01-11 16:25:19.082330: I tensorflow/core/profiler/lib/profiler_session.cc:101] Profiler session initializing.\n",
      "2024-01-11 16:25:19.082345: I tensorflow/core/profiler/lib/profiler_session.cc:116] Profiler session started.\n"
     ]
    },
    {
     "name": "stdout",
     "output_type": "stream",
     "text": [
      "Training start time: 2024-01-11 16:25:19\n"
     ]
    },
    {
     "name": "stderr",
     "output_type": "stream",
     "text": [
      "2024-01-11 16:25:19.298259: I tensorflow/core/profiler/lib/profiler_session.cc:128] Profiler session tear down.\n",
      "2024-01-11 16:25:19.298387: I tensorflow/core/profiler/backends/gpu/cupti_tracer.cc:1798] CUPTI activity buffer flushed\n"
     ]
    },
    {
     "data": {
      "application/vnd.jupyter.widget-view+json": {
       "model_id": "055e5c83dcea45ef89b1a97e8b63c837",
       "version_major": 2,
       "version_minor": 0
      },
      "text/plain": [
       "Epoch Progress:   0%|          | 0/13000 [00:00<?, ?epoch/s]"
      ]
     },
     "metadata": {},
     "output_type": "display_data"
    },
    {
     "name": "stderr",
     "output_type": "stream",
     "text": [
      "2024-01-11 16:25:20.109648: I tensorflow/core/profiler/lib/profiler_session.cc:101] Profiler session initializing.\n",
      "2024-01-11 16:25:20.109664: I tensorflow/core/profiler/lib/profiler_session.cc:116] Profiler session started.\n"
     ]
    },
    {
     "name": "stdout",
     "output_type": "stream",
     "text": [
      "WARNING:tensorflow:Callback method `on_train_batch_begin` is slow compared to the batch time (batch time: 0.0025s vs `on_train_batch_begin` time: 0.0389s). Check your callbacks.\n"
     ]
    },
    {
     "name": "stderr",
     "output_type": "stream",
     "text": [
      "2024-01-11 16:25:20.515188: I tensorflow/core/profiler/lib/profiler_session.cc:67] Profiler session collecting data.\n",
      "2024-01-11 16:25:20.541701: I tensorflow/core/profiler/backends/gpu/cupti_tracer.cc:1798] CUPTI activity buffer flushed\n",
      "2024-01-11 16:25:20.602422: I tensorflow/core/profiler/backends/gpu/cupti_collector.cc:521]  GpuTracer has collected 258 callback api events and 258 activity events. \n",
      "2024-01-11 16:25:20.630812: I tensorflow/core/profiler/lib/profiler_session.cc:128] Profiler session tear down.\n",
      "2024-01-11 16:25:20.636171: I tensorflow/core/profiler/rpc/client/save_profile.cc:136] Creating directory: ../logs/240104_w_shaft/1704957919.0822713/train/plugins/profile/2024_01_11_16_25_20\n",
      "\n",
      "2024-01-11 16:25:20.638700: I tensorflow/core/profiler/rpc/client/save_profile.cc:142] Dumped gzipped tool data for trace.json.gz to ../logs/240104_w_shaft/1704957919.0822713/train/plugins/profile/2024_01_11_16_25_20/winddetection.trace.json.gz\n",
      "2024-01-11 16:25:20.657601: I tensorflow/core/profiler/rpc/client/save_profile.cc:136] Creating directory: ../logs/240104_w_shaft/1704957919.0822713/train/plugins/profile/2024_01_11_16_25_20\n",
      "\n",
      "2024-01-11 16:25:20.663331: I tensorflow/core/profiler/rpc/client/save_profile.cc:142] Dumped gzipped tool data for memory_profile.json.gz to ../logs/240104_w_shaft/1704957919.0822713/train/plugins/profile/2024_01_11_16_25_20/winddetection.memory_profile.json.gz\n",
      "2024-01-11 16:25:20.664152: I tensorflow/core/profiler/rpc/client/capture_profile.cc:251] Creating directory: ../logs/240104_w_shaft/1704957919.0822713/train/plugins/profile/2024_01_11_16_25_20\n",
      "Dumped tool data for xplane.pb to ../logs/240104_w_shaft/1704957919.0822713/train/plugins/profile/2024_01_11_16_25_20/winddetection.xplane.pb\n",
      "Dumped tool data for overview_page.pb to ../logs/240104_w_shaft/1704957919.0822713/train/plugins/profile/2024_01_11_16_25_20/winddetection.overview_page.pb\n",
      "Dumped tool data for input_pipeline.pb to ../logs/240104_w_shaft/1704957919.0822713/train/plugins/profile/2024_01_11_16_25_20/winddetection.input_pipeline.pb\n",
      "Dumped tool data for tensorflow_stats.pb to ../logs/240104_w_shaft/1704957919.0822713/train/plugins/profile/2024_01_11_16_25_20/winddetection.tensorflow_stats.pb\n",
      "Dumped tool data for kernel_stats.pb to ../logs/240104_w_shaft/1704957919.0822713/train/plugins/profile/2024_01_11_16_25_20/winddetection.kernel_stats.pb\n",
      "\n",
      "WARNING:tensorflow:Callback method `on_train_batch_begin` is slow compared to the batch time (batch time: 0.0025s vs `on_train_batch_begin` time: 0.0389s). Check your callbacks.\n"
     ]
    },
    {
     "name": "stdout",
     "output_type": "stream",
     "text": [
      "WARNING:tensorflow:Callback method `on_train_batch_end` is slow compared to the batch time (batch time: 0.0025s vs `on_train_batch_end` time: 0.0588s). Check your callbacks.\n"
     ]
    },
    {
     "name": "stderr",
     "output_type": "stream",
     "text": [
      "WARNING:tensorflow:Callback method `on_train_batch_end` is slow compared to the batch time (batch time: 0.0025s vs `on_train_batch_end` time: 0.0588s). Check your callbacks.\n"
     ]
    },
    {
     "name": "stdout",
     "output_type": "stream",
     "text": [
      "Training end time: 2024-01-11 17:21:31\n",
      "Training took 0:56:12.507998 (h:m:s)\n"
     ]
    },
    {
     "name": "stderr",
     "output_type": "stream",
     "text": [
      "WARNING:absl:Found untraced functions such as _jit_compiled_convolution_op, _jit_compiled_convolution_op, _jit_compiled_convolution_op while saving (showing 3 of 3). These functions will not be directly callable after loading.\n"
     ]
    },
    {
     "name": "stdout",
     "output_type": "stream",
     "text": [
      "INFO:tensorflow:Assets written to: ../models/240104_w_shaft/1_CNN/raw_data/data_split_by_0.2_period/not_normalized/my_model_CH2456/assets\n"
     ]
    },
    {
     "name": "stderr",
     "output_type": "stream",
     "text": [
      "INFO:tensorflow:Assets written to: ../models/240104_w_shaft/1_CNN/raw_data/data_split_by_0.2_period/not_normalized/my_model_CH2456/assets\n"
     ]
    },
    {
     "name": "stdout",
     "output_type": "stream",
     "text": [
      "\n",
      "\n",
      "\n",
      "\n"
     ]
    },
    {
     "data": {
      "application/vnd.jupyter.widget-view+json": {
       "model_id": "4fd2a598f0764c8e91a6eec29df54ea3",
       "version_major": 2,
       "version_minor": 0
      },
      "text/plain": [
       "  0%|          | 0/3 [00:00<?, ?it/s]"
      ]
     },
     "metadata": {},
     "output_type": "display_data"
    },
    {
     "name": "stdout",
     "output_type": "stream",
     "text": [
      "2457\n",
      "Should Flatten:  False\n",
      "Split parameter:  data_split_by_1_period\n",
      "Which Channel:  SG2 & SG4 & SG5 & SG7\n",
      "Should Normalize: False\n",
      "Num of train data：4608 (0deg：576 / 15deg：576 / 30deg：576 / 45deg：576 / 60deg：576 / 75deg：576 / 90deg：576 / No Wind：576)\n",
      "Num of test data：1152 (0deg：144 / 15deg：144 / 30deg：144 / 45deg：144 / 60deg：144 / 75deg：144 / 90deg：144 / No Wind：144)\n",
      "Model: \"model\"\n",
      "_________________________________________________________________\n",
      " Layer (type)                Output Shape              Param #   \n",
      "=================================================================\n",
      " input_1 (InputLayer)        [(None, 833, 4)]          0         \n",
      "                                                                 \n",
      " conv1d (Conv1D)             (None, 578, 16)           16400     \n",
      "                                                                 \n",
      " re_lu (ReLU)                (None, 578, 16)           0         \n",
      "                                                                 \n",
      " batch_normalization (BatchN  (None, 578, 16)          64        \n",
      " ormalization)                                                   \n",
      "                                                                 \n",
      " dropout (Dropout)           (None, 578, 16)           0         \n",
      "                                                                 \n",
      " conv1d_1 (Conv1D)           (None, 451, 16)           32784     \n",
      "                                                                 \n",
      " re_lu_1 (ReLU)              (None, 451, 16)           0         \n",
      "                                                                 \n",
      " batch_normalization_1 (Batc  (None, 451, 16)          64        \n",
      " hNormalization)                                                 \n",
      "                                                                 \n",
      " dropout_1 (Dropout)         (None, 451, 16)           0         \n",
      "                                                                 \n",
      " conv1d_2 (Conv1D)           (None, 388, 16)           16400     \n",
      "                                                                 \n",
      " re_lu_2 (ReLU)              (None, 388, 16)           0         \n",
      "                                                                 \n",
      " batch_normalization_2 (Batc  (None, 388, 16)          64        \n",
      " hNormalization)                                                 \n",
      "                                                                 \n",
      " dropout_2 (Dropout)         (None, 388, 16)           0         \n",
      "                                                                 \n",
      " conv1d_3 (Conv1D)           (None, 357, 16)           8208      \n",
      "                                                                 \n",
      " re_lu_3 (ReLU)              (None, 357, 16)           0         \n",
      "                                                                 \n",
      " batch_normalization_3 (Batc  (None, 357, 16)          64        \n",
      " hNormalization)                                                 \n",
      "                                                                 \n",
      " dropout_3 (Dropout)         (None, 357, 16)           0         \n",
      "                                                                 \n",
      " conv1d_4 (Conv1D)           (None, 342, 16)           4112      \n",
      "                                                                 \n",
      " re_lu_4 (ReLU)              (None, 342, 16)           0         \n",
      "                                                                 \n",
      " batch_normalization_4 (Batc  (None, 342, 16)          64        \n",
      " hNormalization)                                                 \n",
      "                                                                 \n",
      " dropout_4 (Dropout)         (None, 342, 16)           0         \n",
      "                                                                 \n",
      " flatten (Flatten)           (None, 5472)              0         \n",
      "                                                                 \n",
      " dense (Dense)               (None, 8)                 43784     \n",
      "                                                                 \n",
      " tf.nn.softmax (TFOpLambda)  (None, 8)                 0         \n",
      "                                                                 \n",
      "=================================================================\n",
      "Total params: 122,008\n",
      "Trainable params: 121,848\n",
      "Non-trainable params: 160\n",
      "_________________________________________________________________\n",
      "2000\n"
     ]
    },
    {
     "name": "stderr",
     "output_type": "stream",
     "text": [
      "2024-01-11 17:21:33.016388: I tensorflow/core/profiler/lib/profiler_session.cc:101] Profiler session initializing.\n",
      "2024-01-11 17:21:33.016402: I tensorflow/core/profiler/lib/profiler_session.cc:116] Profiler session started.\n"
     ]
    },
    {
     "name": "stdout",
     "output_type": "stream",
     "text": [
      "Training start time: 2024-01-11 17:21:33\n"
     ]
    },
    {
     "name": "stderr",
     "output_type": "stream",
     "text": [
      "2024-01-11 17:21:33.449231: I tensorflow/core/profiler/lib/profiler_session.cc:128] Profiler session tear down.\n",
      "2024-01-11 17:21:33.449361: I tensorflow/core/profiler/backends/gpu/cupti_tracer.cc:1798] CUPTI activity buffer flushed\n"
     ]
    },
    {
     "data": {
      "application/vnd.jupyter.widget-view+json": {
       "model_id": "ef187c6a5fd64a97af0909bef6b87ce2",
       "version_major": 2,
       "version_minor": 0
      },
      "text/plain": [
       "Epoch Progress:   0%|          | 0/2000 [00:00<?, ?epoch/s]"
      ]
     },
     "metadata": {},
     "output_type": "display_data"
    },
    {
     "name": "stderr",
     "output_type": "stream",
     "text": [
      "2024-01-11 17:21:34.590075: I tensorflow/core/profiler/lib/profiler_session.cc:101] Profiler session initializing.\n",
      "2024-01-11 17:21:34.590091: I tensorflow/core/profiler/lib/profiler_session.cc:116] Profiler session started.\n",
      "2024-01-11 17:21:35.237447: I tensorflow/core/profiler/lib/profiler_session.cc:67] Profiler session collecting data.\n",
      "2024-01-11 17:21:35.269468: I tensorflow/core/profiler/backends/gpu/cupti_tracer.cc:1798] CUPTI activity buffer flushed\n",
      "2024-01-11 17:21:35.324188: I tensorflow/core/profiler/backends/gpu/cupti_collector.cc:521]  GpuTracer has collected 414 callback api events and 415 activity events. \n",
      "2024-01-11 17:21:35.348725: I tensorflow/core/profiler/lib/profiler_session.cc:128] Profiler session tear down.\n",
      "2024-01-11 17:21:35.356813: I tensorflow/core/profiler/rpc/client/save_profile.cc:136] Creating directory: ../logs/240104_w_shaft/1704961293.0163302/train/plugins/profile/2024_01_11_17_21_35\n",
      "\n",
      "2024-01-11 17:21:35.360462: I tensorflow/core/profiler/rpc/client/save_profile.cc:142] Dumped gzipped tool data for trace.json.gz to ../logs/240104_w_shaft/1704961293.0163302/train/plugins/profile/2024_01_11_17_21_35/winddetection.trace.json.gz\n",
      "2024-01-11 17:21:35.395829: I tensorflow/core/profiler/rpc/client/save_profile.cc:136] Creating directory: ../logs/240104_w_shaft/1704961293.0163302/train/plugins/profile/2024_01_11_17_21_35\n",
      "\n",
      "2024-01-11 17:21:35.403684: I tensorflow/core/profiler/rpc/client/save_profile.cc:142] Dumped gzipped tool data for memory_profile.json.gz to ../logs/240104_w_shaft/1704961293.0163302/train/plugins/profile/2024_01_11_17_21_35/winddetection.memory_profile.json.gz\n",
      "2024-01-11 17:21:35.404771: I tensorflow/core/profiler/rpc/client/capture_profile.cc:251] Creating directory: ../logs/240104_w_shaft/1704961293.0163302/train/plugins/profile/2024_01_11_17_21_35\n",
      "Dumped tool data for xplane.pb to ../logs/240104_w_shaft/1704961293.0163302/train/plugins/profile/2024_01_11_17_21_35/winddetection.xplane.pb\n",
      "Dumped tool data for overview_page.pb to ../logs/240104_w_shaft/1704961293.0163302/train/plugins/profile/2024_01_11_17_21_35/winddetection.overview_page.pb\n",
      "Dumped tool data for input_pipeline.pb to ../logs/240104_w_shaft/1704961293.0163302/train/plugins/profile/2024_01_11_17_21_35/winddetection.input_pipeline.pb\n",
      "Dumped tool data for tensorflow_stats.pb to ../logs/240104_w_shaft/1704961293.0163302/train/plugins/profile/2024_01_11_17_21_35/winddetection.tensorflow_stats.pb\n",
      "Dumped tool data for kernel_stats.pb to ../logs/240104_w_shaft/1704961293.0163302/train/plugins/profile/2024_01_11_17_21_35/winddetection.kernel_stats.pb\n",
      "\n"
     ]
    },
    {
     "name": "stdout",
     "output_type": "stream",
     "text": [
      "WARNING:tensorflow:Callback method `on_train_batch_begin` is slow compared to the batch time (batch time: 0.0053s vs `on_train_batch_begin` time: 0.0756s). Check your callbacks.\n"
     ]
    },
    {
     "name": "stderr",
     "output_type": "stream",
     "text": [
      "WARNING:tensorflow:Callback method `on_train_batch_begin` is slow compared to the batch time (batch time: 0.0053s vs `on_train_batch_begin` time: 0.0756s). Check your callbacks.\n"
     ]
    },
    {
     "name": "stdout",
     "output_type": "stream",
     "text": [
      "WARNING:tensorflow:Callback method `on_train_batch_end` is slow compared to the batch time (batch time: 0.0053s vs `on_train_batch_end` time: 0.0659s). Check your callbacks.\n"
     ]
    },
    {
     "name": "stderr",
     "output_type": "stream",
     "text": [
      "WARNING:tensorflow:Callback method `on_train_batch_end` is slow compared to the batch time (batch time: 0.0053s vs `on_train_batch_end` time: 0.0659s). Check your callbacks.\n"
     ]
    },
    {
     "name": "stdout",
     "output_type": "stream",
     "text": [
      "Training end time: 2024-01-11 17:30:21\n",
      "Training took 0:08:48.337756 (h:m:s)\n"
     ]
    },
    {
     "name": "stderr",
     "output_type": "stream",
     "text": [
      "WARNING:absl:Found untraced functions such as _jit_compiled_convolution_op, _jit_compiled_convolution_op, _jit_compiled_convolution_op, _jit_compiled_convolution_op, _jit_compiled_convolution_op while saving (showing 5 of 5). These functions will not be directly callable after loading.\n"
     ]
    },
    {
     "name": "stdout",
     "output_type": "stream",
     "text": [
      "INFO:tensorflow:Assets written to: ../models/240104_w_shaft/1_CNN/raw_data/data_split_by_1_period/not_normalized/my_model_CH2457/assets\n"
     ]
    },
    {
     "name": "stderr",
     "output_type": "stream",
     "text": [
      "INFO:tensorflow:Assets written to: ../models/240104_w_shaft/1_CNN/raw_data/data_split_by_1_period/not_normalized/my_model_CH2457/assets\n"
     ]
    },
    {
     "name": "stdout",
     "output_type": "stream",
     "text": [
      "\n",
      "\n",
      "\n",
      "\n",
      "2457\n",
      "Should Flatten:  False\n",
      "Split parameter:  data_split_by_0.5_period\n",
      "Which Channel:  SG2 & SG4 & SG5 & SG7\n",
      "Should Normalize: False\n",
      "Num of train data：9216 (0deg：1152 / 15deg：1152 / 30deg：1152 / 45deg：1152 / 60deg：1152 / 75deg：1152 / 90deg：1152 / No Wind：1152)\n",
      "Num of test data：2304 (0deg：288 / 15deg：288 / 30deg：288 / 45deg：288 / 60deg：288 / 75deg：288 / 90deg：288 / No Wind：288)\n",
      "Model: \"model\"\n",
      "_________________________________________________________________\n",
      " Layer (type)                Output Shape              Param #   \n",
      "=================================================================\n",
      " input_1 (InputLayer)        [(None, 416, 4)]          0         \n",
      "                                                                 \n",
      " conv1d (Conv1D)             (None, 289, 16)           8208      \n",
      "                                                                 \n",
      " re_lu (ReLU)                (None, 289, 16)           0         \n",
      "                                                                 \n",
      " batch_normalization (BatchN  (None, 289, 16)          64        \n",
      " ormalization)                                                   \n",
      "                                                                 \n",
      " dropout (Dropout)           (None, 289, 16)           0         \n",
      "                                                                 \n",
      " conv1d_1 (Conv1D)           (None, 226, 16)           16400     \n",
      "                                                                 \n",
      " re_lu_1 (ReLU)              (None, 226, 16)           0         \n",
      "                                                                 \n",
      " batch_normalization_1 (Batc  (None, 226, 16)          64        \n",
      " hNormalization)                                                 \n",
      "                                                                 \n",
      " dropout_1 (Dropout)         (None, 226, 16)           0         \n",
      "                                                                 \n",
      " conv1d_2 (Conv1D)           (None, 195, 16)           8208      \n",
      "                                                                 \n",
      " re_lu_2 (ReLU)              (None, 195, 16)           0         \n",
      "                                                                 \n",
      " batch_normalization_2 (Batc  (None, 195, 16)          64        \n",
      " hNormalization)                                                 \n",
      "                                                                 \n",
      " dropout_2 (Dropout)         (None, 195, 16)           0         \n",
      "                                                                 \n",
      " conv1d_3 (Conv1D)           (None, 180, 16)           4112      \n",
      "                                                                 \n",
      " re_lu_3 (ReLU)              (None, 180, 16)           0         \n",
      "                                                                 \n",
      " batch_normalization_3 (Batc  (None, 180, 16)          64        \n",
      " hNormalization)                                                 \n",
      "                                                                 \n",
      " dropout_3 (Dropout)         (None, 180, 16)           0         \n",
      "                                                                 \n",
      " flatten (Flatten)           (None, 2880)              0         \n",
      "                                                                 \n",
      " dense (Dense)               (None, 8)                 23048     \n",
      "                                                                 \n",
      " tf.nn.softmax (TFOpLambda)  (None, 8)                 0         \n",
      "                                                                 \n",
      "=================================================================\n",
      "Total params: 60,232\n",
      "Trainable params: 60,104\n",
      "Non-trainable params: 128\n",
      "_________________________________________________________________\n",
      "8000\n"
     ]
    },
    {
     "name": "stderr",
     "output_type": "stream",
     "text": [
      "2024-01-11 17:30:23.765433: I tensorflow/core/profiler/lib/profiler_session.cc:101] Profiler session initializing.\n",
      "2024-01-11 17:30:23.765447: I tensorflow/core/profiler/lib/profiler_session.cc:116] Profiler session started.\n"
     ]
    },
    {
     "name": "stdout",
     "output_type": "stream",
     "text": [
      "Training start time: 2024-01-11 17:30:23\n"
     ]
    },
    {
     "name": "stderr",
     "output_type": "stream",
     "text": [
      "2024-01-11 17:30:23.953668: I tensorflow/core/profiler/lib/profiler_session.cc:128] Profiler session tear down.\n",
      "2024-01-11 17:30:23.953797: I tensorflow/core/profiler/backends/gpu/cupti_tracer.cc:1798] CUPTI activity buffer flushed\n"
     ]
    },
    {
     "data": {
      "application/vnd.jupyter.widget-view+json": {
       "model_id": "777118139d2647838be07c4e70a0588f",
       "version_major": 2,
       "version_minor": 0
      },
      "text/plain": [
       "Epoch Progress:   0%|          | 0/8000 [00:00<?, ?epoch/s]"
      ]
     },
     "metadata": {},
     "output_type": "display_data"
    },
    {
     "name": "stderr",
     "output_type": "stream",
     "text": [
      "2024-01-11 17:30:24.924731: I tensorflow/core/profiler/lib/profiler_session.cc:101] Profiler session initializing.\n",
      "2024-01-11 17:30:24.924748: I tensorflow/core/profiler/lib/profiler_session.cc:116] Profiler session started.\n"
     ]
    },
    {
     "name": "stdout",
     "output_type": "stream",
     "text": [
      "WARNING:tensorflow:Callback method `on_train_batch_begin` is slow compared to the batch time (batch time: 0.0034s vs `on_train_batch_begin` time: 0.0339s). Check your callbacks.\n"
     ]
    },
    {
     "name": "stderr",
     "output_type": "stream",
     "text": [
      "2024-01-11 17:30:25.332157: I tensorflow/core/profiler/lib/profiler_session.cc:67] Profiler session collecting data.\n",
      "2024-01-11 17:30:25.363884: I tensorflow/core/profiler/backends/gpu/cupti_tracer.cc:1798] CUPTI activity buffer flushed\n",
      "2024-01-11 17:30:25.417968: I tensorflow/core/profiler/backends/gpu/cupti_collector.cc:521]  GpuTracer has collected 341 callback api events and 341 activity events. \n",
      "2024-01-11 17:30:25.441807: I tensorflow/core/profiler/lib/profiler_session.cc:128] Profiler session tear down.\n",
      "2024-01-11 17:30:25.448517: I tensorflow/core/profiler/rpc/client/save_profile.cc:136] Creating directory: ../logs/240104_w_shaft/1704961823.765376/train/plugins/profile/2024_01_11_17_30_25\n",
      "\n",
      "2024-01-11 17:30:25.451723: I tensorflow/core/profiler/rpc/client/save_profile.cc:142] Dumped gzipped tool data for trace.json.gz to ../logs/240104_w_shaft/1704961823.765376/train/plugins/profile/2024_01_11_17_30_25/winddetection.trace.json.gz\n",
      "2024-01-11 17:30:25.476726: I tensorflow/core/profiler/rpc/client/save_profile.cc:136] Creating directory: ../logs/240104_w_shaft/1704961823.765376/train/plugins/profile/2024_01_11_17_30_25\n",
      "\n",
      "2024-01-11 17:30:25.486208: I tensorflow/core/profiler/rpc/client/save_profile.cc:142] Dumped gzipped tool data for memory_profile.json.gz to ../logs/240104_w_shaft/1704961823.765376/train/plugins/profile/2024_01_11_17_30_25/winddetection.memory_profile.json.gz\n",
      "2024-01-11 17:30:25.487240: I tensorflow/core/profiler/rpc/client/capture_profile.cc:251] Creating directory: ../logs/240104_w_shaft/1704961823.765376/train/plugins/profile/2024_01_11_17_30_25\n",
      "Dumped tool data for xplane.pb to ../logs/240104_w_shaft/1704961823.765376/train/plugins/profile/2024_01_11_17_30_25/winddetection.xplane.pb\n",
      "Dumped tool data for overview_page.pb to ../logs/240104_w_shaft/1704961823.765376/train/plugins/profile/2024_01_11_17_30_25/winddetection.overview_page.pb\n",
      "Dumped tool data for input_pipeline.pb to ../logs/240104_w_shaft/1704961823.765376/train/plugins/profile/2024_01_11_17_30_25/winddetection.input_pipeline.pb\n",
      "Dumped tool data for tensorflow_stats.pb to ../logs/240104_w_shaft/1704961823.765376/train/plugins/profile/2024_01_11_17_30_25/winddetection.tensorflow_stats.pb\n",
      "Dumped tool data for kernel_stats.pb to ../logs/240104_w_shaft/1704961823.765376/train/plugins/profile/2024_01_11_17_30_25/winddetection.kernel_stats.pb\n",
      "\n",
      "WARNING:tensorflow:Callback method `on_train_batch_begin` is slow compared to the batch time (batch time: 0.0034s vs `on_train_batch_begin` time: 0.0339s). Check your callbacks.\n"
     ]
    },
    {
     "name": "stdout",
     "output_type": "stream",
     "text": [
      "WARNING:tensorflow:Callback method `on_train_batch_end` is slow compared to the batch time (batch time: 0.0034s vs `on_train_batch_end` time: 0.0651s). Check your callbacks.\n"
     ]
    },
    {
     "name": "stderr",
     "output_type": "stream",
     "text": [
      "WARNING:tensorflow:Callback method `on_train_batch_end` is slow compared to the batch time (batch time: 0.0034s vs `on_train_batch_end` time: 0.0651s). Check your callbacks.\n"
     ]
    },
    {
     "name": "stdout",
     "output_type": "stream",
     "text": [
      "Training end time: 2024-01-11 17:58:35\n",
      "Training took 0:28:11.357952 (h:m:s)\n"
     ]
    },
    {
     "name": "stderr",
     "output_type": "stream",
     "text": [
      "WARNING:absl:Found untraced functions such as _jit_compiled_convolution_op, _jit_compiled_convolution_op, _jit_compiled_convolution_op, _jit_compiled_convolution_op while saving (showing 4 of 4). These functions will not be directly callable after loading.\n"
     ]
    },
    {
     "name": "stdout",
     "output_type": "stream",
     "text": [
      "INFO:tensorflow:Assets written to: ../models/240104_w_shaft/1_CNN/raw_data/data_split_by_0.5_period/not_normalized/my_model_CH2457/assets\n"
     ]
    },
    {
     "name": "stderr",
     "output_type": "stream",
     "text": [
      "INFO:tensorflow:Assets written to: ../models/240104_w_shaft/1_CNN/raw_data/data_split_by_0.5_period/not_normalized/my_model_CH2457/assets\n"
     ]
    },
    {
     "name": "stdout",
     "output_type": "stream",
     "text": [
      "\n",
      "\n",
      "\n",
      "\n",
      "2457\n",
      "Should Flatten:  False\n",
      "Split parameter:  data_split_by_0.2_period\n",
      "Which Channel:  SG2 & SG4 & SG5 & SG7\n",
      "Should Normalize: False\n",
      "Num of train data：23116 (0deg：2889 / 15deg：2890 / 30deg：2890 / 45deg：2889 / 60deg：2890 / 75deg：2889 / 90deg：2889 / No Wind：2890)\n",
      "Num of test data：5780 (0deg：723 / 15deg：722 / 30deg：722 / 45deg：723 / 60deg：722 / 75deg：723 / 90deg：723 / No Wind：722)\n",
      "Model: \"model\"\n",
      "_________________________________________________________________\n",
      " Layer (type)                Output Shape              Param #   \n",
      "=================================================================\n",
      " input_1 (InputLayer)        [(None, 166, 4)]          0         \n",
      "                                                                 \n",
      " conv1d (Conv1D)             (None, 103, 16)           4112      \n",
      "                                                                 \n",
      " re_lu (ReLU)                (None, 103, 16)           0         \n",
      "                                                                 \n",
      " batch_normalization (BatchN  (None, 103, 16)          64        \n",
      " ormalization)                                                   \n",
      "                                                                 \n",
      " dropout (Dropout)           (None, 103, 16)           0         \n",
      "                                                                 \n",
      " conv1d_1 (Conv1D)           (None, 72, 16)            8208      \n",
      "                                                                 \n",
      " re_lu_1 (ReLU)              (None, 72, 16)            0         \n",
      "                                                                 \n",
      " batch_normalization_1 (Batc  (None, 72, 16)           64        \n",
      " hNormalization)                                                 \n",
      "                                                                 \n",
      " dropout_1 (Dropout)         (None, 72, 16)            0         \n",
      "                                                                 \n",
      " conv1d_2 (Conv1D)           (None, 57, 16)            4112      \n",
      "                                                                 \n",
      " re_lu_2 (ReLU)              (None, 57, 16)            0         \n",
      "                                                                 \n",
      " batch_normalization_2 (Batc  (None, 57, 16)           64        \n",
      " hNormalization)                                                 \n",
      "                                                                 \n",
      " dropout_2 (Dropout)         (None, 57, 16)            0         \n",
      "                                                                 \n",
      " flatten (Flatten)           (None, 912)               0         \n",
      "                                                                 \n",
      " dense (Dense)               (None, 8)                 7304      \n",
      "                                                                 \n",
      " tf.nn.softmax (TFOpLambda)  (None, 8)                 0         \n",
      "                                                                 \n",
      "=================================================================\n",
      "Total params: 23,928\n",
      "Trainable params: 23,832\n",
      "Non-trainable params: 96\n",
      "_________________________________________________________________\n",
      "13000\n"
     ]
    },
    {
     "name": "stderr",
     "output_type": "stream",
     "text": [
      "2024-01-11 17:58:36.961751: I tensorflow/core/profiler/lib/profiler_session.cc:101] Profiler session initializing.\n",
      "2024-01-11 17:58:36.961766: I tensorflow/core/profiler/lib/profiler_session.cc:116] Profiler session started.\n"
     ]
    },
    {
     "name": "stdout",
     "output_type": "stream",
     "text": [
      "Training start time: 2024-01-11 17:58:37\n"
     ]
    },
    {
     "name": "stderr",
     "output_type": "stream",
     "text": [
      "2024-01-11 17:58:37.179214: I tensorflow/core/profiler/lib/profiler_session.cc:128] Profiler session tear down.\n",
      "2024-01-11 17:58:37.179377: I tensorflow/core/profiler/backends/gpu/cupti_tracer.cc:1798] CUPTI activity buffer flushed\n"
     ]
    },
    {
     "data": {
      "application/vnd.jupyter.widget-view+json": {
       "model_id": "aa3d2e2e6cb04e1fb5852507156ad0cc",
       "version_major": 2,
       "version_minor": 0
      },
      "text/plain": [
       "Epoch Progress:   0%|          | 0/13000 [00:00<?, ?epoch/s]"
      ]
     },
     "metadata": {},
     "output_type": "display_data"
    },
    {
     "name": "stderr",
     "output_type": "stream",
     "text": [
      "2024-01-11 17:58:37.993599: I tensorflow/core/profiler/lib/profiler_session.cc:101] Profiler session initializing.\n",
      "2024-01-11 17:58:37.993614: I tensorflow/core/profiler/lib/profiler_session.cc:116] Profiler session started.\n"
     ]
    },
    {
     "name": "stdout",
     "output_type": "stream",
     "text": [
      "WARNING:tensorflow:Callback method `on_train_batch_begin` is slow compared to the batch time (batch time: 0.0026s vs `on_train_batch_begin` time: 0.0392s). Check your callbacks.\n"
     ]
    },
    {
     "name": "stderr",
     "output_type": "stream",
     "text": [
      "2024-01-11 17:58:38.406089: I tensorflow/core/profiler/lib/profiler_session.cc:67] Profiler session collecting data.\n",
      "2024-01-11 17:58:38.433573: I tensorflow/core/profiler/backends/gpu/cupti_tracer.cc:1798] CUPTI activity buffer flushed\n",
      "2024-01-11 17:58:38.491010: I tensorflow/core/profiler/backends/gpu/cupti_collector.cc:521]  GpuTracer has collected 258 callback api events and 258 activity events. \n",
      "2024-01-11 17:58:38.517298: I tensorflow/core/profiler/lib/profiler_session.cc:128] Profiler session tear down.\n",
      "2024-01-11 17:58:38.522649: I tensorflow/core/profiler/rpc/client/save_profile.cc:136] Creating directory: ../logs/240104_w_shaft/1704963516.9616945/train/plugins/profile/2024_01_11_17_58_38\n",
      "\n",
      "2024-01-11 17:58:38.525328: I tensorflow/core/profiler/rpc/client/save_profile.cc:142] Dumped gzipped tool data for trace.json.gz to ../logs/240104_w_shaft/1704963516.9616945/train/plugins/profile/2024_01_11_17_58_38/winddetection.trace.json.gz\n",
      "2024-01-11 17:58:38.544186: I tensorflow/core/profiler/rpc/client/save_profile.cc:136] Creating directory: ../logs/240104_w_shaft/1704963516.9616945/train/plugins/profile/2024_01_11_17_58_38\n",
      "\n",
      "2024-01-11 17:58:38.550185: I tensorflow/core/profiler/rpc/client/save_profile.cc:142] Dumped gzipped tool data for memory_profile.json.gz to ../logs/240104_w_shaft/1704963516.9616945/train/plugins/profile/2024_01_11_17_58_38/winddetection.memory_profile.json.gz\n",
      "2024-01-11 17:58:38.551044: I tensorflow/core/profiler/rpc/client/capture_profile.cc:251] Creating directory: ../logs/240104_w_shaft/1704963516.9616945/train/plugins/profile/2024_01_11_17_58_38\n",
      "Dumped tool data for xplane.pb to ../logs/240104_w_shaft/1704963516.9616945/train/plugins/profile/2024_01_11_17_58_38/winddetection.xplane.pb\n",
      "Dumped tool data for overview_page.pb to ../logs/240104_w_shaft/1704963516.9616945/train/plugins/profile/2024_01_11_17_58_38/winddetection.overview_page.pb\n",
      "Dumped tool data for input_pipeline.pb to ../logs/240104_w_shaft/1704963516.9616945/train/plugins/profile/2024_01_11_17_58_38/winddetection.input_pipeline.pb\n",
      "Dumped tool data for tensorflow_stats.pb to ../logs/240104_w_shaft/1704963516.9616945/train/plugins/profile/2024_01_11_17_58_38/winddetection.tensorflow_stats.pb\n",
      "Dumped tool data for kernel_stats.pb to ../logs/240104_w_shaft/1704963516.9616945/train/plugins/profile/2024_01_11_17_58_38/winddetection.kernel_stats.pb\n",
      "\n",
      "WARNING:tensorflow:Callback method `on_train_batch_begin` is slow compared to the batch time (batch time: 0.0026s vs `on_train_batch_begin` time: 0.0392s). Check your callbacks.\n"
     ]
    },
    {
     "name": "stdout",
     "output_type": "stream",
     "text": [
      "WARNING:tensorflow:Callback method `on_train_batch_end` is slow compared to the batch time (batch time: 0.0026s vs `on_train_batch_end` time: 0.0578s). Check your callbacks.\n"
     ]
    },
    {
     "name": "stderr",
     "output_type": "stream",
     "text": [
      "WARNING:tensorflow:Callback method `on_train_batch_end` is slow compared to the batch time (batch time: 0.0026s vs `on_train_batch_end` time: 0.0578s). Check your callbacks.\n"
     ]
    },
    {
     "name": "stdout",
     "output_type": "stream",
     "text": [
      "Training end time: 2024-01-11 18:54:40\n",
      "Training took 0:56:03.308567 (h:m:s)\n"
     ]
    },
    {
     "name": "stderr",
     "output_type": "stream",
     "text": [
      "WARNING:absl:Found untraced functions such as _jit_compiled_convolution_op, _jit_compiled_convolution_op, _jit_compiled_convolution_op while saving (showing 3 of 3). These functions will not be directly callable after loading.\n"
     ]
    },
    {
     "name": "stdout",
     "output_type": "stream",
     "text": [
      "INFO:tensorflow:Assets written to: ../models/240104_w_shaft/1_CNN/raw_data/data_split_by_0.2_period/not_normalized/my_model_CH2457/assets\n"
     ]
    },
    {
     "name": "stderr",
     "output_type": "stream",
     "text": [
      "INFO:tensorflow:Assets written to: ../models/240104_w_shaft/1_CNN/raw_data/data_split_by_0.2_period/not_normalized/my_model_CH2457/assets\n"
     ]
    },
    {
     "name": "stdout",
     "output_type": "stream",
     "text": [
      "\n",
      "\n",
      "\n",
      "\n"
     ]
    },
    {
     "data": {
      "application/vnd.jupyter.widget-view+json": {
       "model_id": "f71059f9a9d24e039f64d351c2a18578",
       "version_major": 2,
       "version_minor": 0
      },
      "text/plain": [
       "  0%|          | 0/3 [00:00<?, ?it/s]"
      ]
     },
     "metadata": {},
     "output_type": "display_data"
    },
    {
     "name": "stdout",
     "output_type": "stream",
     "text": [
      "2467\n",
      "Should Flatten:  False\n",
      "Split parameter:  data_split_by_1_period\n",
      "Which Channel:  SG2 & SG4 & SG6 & SG7\n",
      "Should Normalize: False\n",
      "Num of train data：4608 (0deg：576 / 15deg：576 / 30deg：576 / 45deg：576 / 60deg：576 / 75deg：576 / 90deg：576 / No Wind：576)\n",
      "Num of test data：1152 (0deg：144 / 15deg：144 / 30deg：144 / 45deg：144 / 60deg：144 / 75deg：144 / 90deg：144 / No Wind：144)\n",
      "Model: \"model\"\n",
      "_________________________________________________________________\n",
      " Layer (type)                Output Shape              Param #   \n",
      "=================================================================\n",
      " input_1 (InputLayer)        [(None, 833, 4)]          0         \n",
      "                                                                 \n",
      " conv1d (Conv1D)             (None, 578, 16)           16400     \n",
      "                                                                 \n",
      " re_lu (ReLU)                (None, 578, 16)           0         \n",
      "                                                                 \n",
      " batch_normalization (BatchN  (None, 578, 16)          64        \n",
      " ormalization)                                                   \n",
      "                                                                 \n",
      " dropout (Dropout)           (None, 578, 16)           0         \n",
      "                                                                 \n",
      " conv1d_1 (Conv1D)           (None, 451, 16)           32784     \n",
      "                                                                 \n",
      " re_lu_1 (ReLU)              (None, 451, 16)           0         \n",
      "                                                                 \n",
      " batch_normalization_1 (Batc  (None, 451, 16)          64        \n",
      " hNormalization)                                                 \n",
      "                                                                 \n",
      " dropout_1 (Dropout)         (None, 451, 16)           0         \n",
      "                                                                 \n",
      " conv1d_2 (Conv1D)           (None, 388, 16)           16400     \n",
      "                                                                 \n",
      " re_lu_2 (ReLU)              (None, 388, 16)           0         \n",
      "                                                                 \n",
      " batch_normalization_2 (Batc  (None, 388, 16)          64        \n",
      " hNormalization)                                                 \n",
      "                                                                 \n",
      " dropout_2 (Dropout)         (None, 388, 16)           0         \n",
      "                                                                 \n",
      " conv1d_3 (Conv1D)           (None, 357, 16)           8208      \n",
      "                                                                 \n",
      " re_lu_3 (ReLU)              (None, 357, 16)           0         \n",
      "                                                                 \n",
      " batch_normalization_3 (Batc  (None, 357, 16)          64        \n",
      " hNormalization)                                                 \n",
      "                                                                 \n",
      " dropout_3 (Dropout)         (None, 357, 16)           0         \n",
      "                                                                 \n",
      " conv1d_4 (Conv1D)           (None, 342, 16)           4112      \n",
      "                                                                 \n",
      " re_lu_4 (ReLU)              (None, 342, 16)           0         \n",
      "                                                                 \n",
      " batch_normalization_4 (Batc  (None, 342, 16)          64        \n",
      " hNormalization)                                                 \n",
      "                                                                 \n",
      " dropout_4 (Dropout)         (None, 342, 16)           0         \n",
      "                                                                 \n",
      " flatten (Flatten)           (None, 5472)              0         \n",
      "                                                                 \n",
      " dense (Dense)               (None, 8)                 43784     \n",
      "                                                                 \n",
      " tf.nn.softmax (TFOpLambda)  (None, 8)                 0         \n",
      "                                                                 \n",
      "=================================================================\n",
      "Total params: 122,008\n",
      "Trainable params: 121,848\n",
      "Non-trainable params: 160\n",
      "_________________________________________________________________\n",
      "2000\n"
     ]
    },
    {
     "name": "stderr",
     "output_type": "stream",
     "text": [
      "2024-01-11 18:54:41.718379: I tensorflow/core/profiler/lib/profiler_session.cc:101] Profiler session initializing.\n",
      "2024-01-11 18:54:41.718394: I tensorflow/core/profiler/lib/profiler_session.cc:116] Profiler session started.\n"
     ]
    },
    {
     "name": "stdout",
     "output_type": "stream",
     "text": [
      "Training start time: 2024-01-11 18:54:42\n"
     ]
    },
    {
     "name": "stderr",
     "output_type": "stream",
     "text": [
      "2024-01-11 18:54:42.153476: I tensorflow/core/profiler/lib/profiler_session.cc:128] Profiler session tear down.\n",
      "2024-01-11 18:54:42.153610: I tensorflow/core/profiler/backends/gpu/cupti_tracer.cc:1798] CUPTI activity buffer flushed\n"
     ]
    },
    {
     "data": {
      "application/vnd.jupyter.widget-view+json": {
       "model_id": "06f2444094924955a696a5c07168640e",
       "version_major": 2,
       "version_minor": 0
      },
      "text/plain": [
       "Epoch Progress:   0%|          | 0/2000 [00:00<?, ?epoch/s]"
      ]
     },
     "metadata": {},
     "output_type": "display_data"
    },
    {
     "name": "stderr",
     "output_type": "stream",
     "text": [
      "2024-01-11 18:54:43.646296: I tensorflow/core/profiler/lib/profiler_session.cc:101] Profiler session initializing.\n",
      "2024-01-11 18:54:43.646313: I tensorflow/core/profiler/lib/profiler_session.cc:116] Profiler session started.\n",
      "2024-01-11 18:54:44.042374: I tensorflow/core/profiler/lib/profiler_session.cc:67] Profiler session collecting data.\n",
      "2024-01-11 18:54:44.073891: I tensorflow/core/profiler/backends/gpu/cupti_tracer.cc:1798] CUPTI activity buffer flushed\n",
      "2024-01-11 18:54:44.131813: I tensorflow/core/profiler/backends/gpu/cupti_collector.cc:521]  GpuTracer has collected 414 callback api events and 415 activity events. \n",
      "2024-01-11 18:54:44.157037: I tensorflow/core/profiler/lib/profiler_session.cc:128] Profiler session tear down.\n",
      "2024-01-11 18:54:44.165641: I tensorflow/core/profiler/rpc/client/save_profile.cc:136] Creating directory: ../logs/240104_w_shaft/1704966881.7183197/train/plugins/profile/2024_01_11_18_54_44\n",
      "\n",
      "2024-01-11 18:54:44.169447: I tensorflow/core/profiler/rpc/client/save_profile.cc:142] Dumped gzipped tool data for trace.json.gz to ../logs/240104_w_shaft/1704966881.7183197/train/plugins/profile/2024_01_11_18_54_44/winddetection.trace.json.gz\n",
      "2024-01-11 18:54:44.205875: I tensorflow/core/profiler/rpc/client/save_profile.cc:136] Creating directory: ../logs/240104_w_shaft/1704966881.7183197/train/plugins/profile/2024_01_11_18_54_44\n",
      "\n",
      "2024-01-11 18:54:44.213984: I tensorflow/core/profiler/rpc/client/save_profile.cc:142] Dumped gzipped tool data for memory_profile.json.gz to ../logs/240104_w_shaft/1704966881.7183197/train/plugins/profile/2024_01_11_18_54_44/winddetection.memory_profile.json.gz\n",
      "2024-01-11 18:54:44.215431: I tensorflow/core/profiler/rpc/client/capture_profile.cc:251] Creating directory: ../logs/240104_w_shaft/1704966881.7183197/train/plugins/profile/2024_01_11_18_54_44\n",
      "Dumped tool data for xplane.pb to ../logs/240104_w_shaft/1704966881.7183197/train/plugins/profile/2024_01_11_18_54_44/winddetection.xplane.pb\n",
      "Dumped tool data for overview_page.pb to ../logs/240104_w_shaft/1704966881.7183197/train/plugins/profile/2024_01_11_18_54_44/winddetection.overview_page.pb\n",
      "Dumped tool data for input_pipeline.pb to ../logs/240104_w_shaft/1704966881.7183197/train/plugins/profile/2024_01_11_18_54_44/winddetection.input_pipeline.pb\n",
      "Dumped tool data for tensorflow_stats.pb to ../logs/240104_w_shaft/1704966881.7183197/train/plugins/profile/2024_01_11_18_54_44/winddetection.tensorflow_stats.pb\n",
      "Dumped tool data for kernel_stats.pb to ../logs/240104_w_shaft/1704966881.7183197/train/plugins/profile/2024_01_11_18_54_44/winddetection.kernel_stats.pb\n",
      "\n"
     ]
    },
    {
     "name": "stdout",
     "output_type": "stream",
     "text": [
      "WARNING:tensorflow:Callback method `on_train_batch_begin` is slow compared to the batch time (batch time: 0.0055s vs `on_train_batch_begin` time: 0.0306s). Check your callbacks.\n"
     ]
    },
    {
     "name": "stderr",
     "output_type": "stream",
     "text": [
      "WARNING:tensorflow:Callback method `on_train_batch_begin` is slow compared to the batch time (batch time: 0.0055s vs `on_train_batch_begin` time: 0.0306s). Check your callbacks.\n"
     ]
    },
    {
     "name": "stdout",
     "output_type": "stream",
     "text": [
      "WARNING:tensorflow:Callback method `on_train_batch_end` is slow compared to the batch time (batch time: 0.0055s vs `on_train_batch_end` time: 0.0705s). Check your callbacks.\n"
     ]
    },
    {
     "name": "stderr",
     "output_type": "stream",
     "text": [
      "WARNING:tensorflow:Callback method `on_train_batch_end` is slow compared to the batch time (batch time: 0.0055s vs `on_train_batch_end` time: 0.0705s). Check your callbacks.\n"
     ]
    },
    {
     "name": "stdout",
     "output_type": "stream",
     "text": [
      "Training end time: 2024-01-11 19:03:30\n",
      "Training took 0:08:47.998471 (h:m:s)\n"
     ]
    },
    {
     "name": "stderr",
     "output_type": "stream",
     "text": [
      "WARNING:absl:Found untraced functions such as _jit_compiled_convolution_op, _jit_compiled_convolution_op, _jit_compiled_convolution_op, _jit_compiled_convolution_op, _jit_compiled_convolution_op while saving (showing 5 of 5). These functions will not be directly callable after loading.\n"
     ]
    },
    {
     "name": "stdout",
     "output_type": "stream",
     "text": [
      "INFO:tensorflow:Assets written to: ../models/240104_w_shaft/1_CNN/raw_data/data_split_by_1_period/not_normalized/my_model_CH2467/assets\n"
     ]
    },
    {
     "name": "stderr",
     "output_type": "stream",
     "text": [
      "INFO:tensorflow:Assets written to: ../models/240104_w_shaft/1_CNN/raw_data/data_split_by_1_period/not_normalized/my_model_CH2467/assets\n"
     ]
    },
    {
     "name": "stdout",
     "output_type": "stream",
     "text": [
      "\n",
      "\n",
      "\n",
      "\n",
      "2467\n",
      "Should Flatten:  False\n",
      "Split parameter:  data_split_by_0.5_period\n",
      "Which Channel:  SG2 & SG4 & SG6 & SG7\n",
      "Should Normalize: False\n",
      "Num of train data：9216 (0deg：1152 / 15deg：1152 / 30deg：1152 / 45deg：1152 / 60deg：1152 / 75deg：1152 / 90deg：1152 / No Wind：1152)\n",
      "Num of test data：2304 (0deg：288 / 15deg：288 / 30deg：288 / 45deg：288 / 60deg：288 / 75deg：288 / 90deg：288 / No Wind：288)\n",
      "Model: \"model\"\n",
      "_________________________________________________________________\n",
      " Layer (type)                Output Shape              Param #   \n",
      "=================================================================\n",
      " input_1 (InputLayer)        [(None, 416, 4)]          0         \n",
      "                                                                 \n",
      " conv1d (Conv1D)             (None, 289, 16)           8208      \n",
      "                                                                 \n",
      " re_lu (ReLU)                (None, 289, 16)           0         \n",
      "                                                                 \n",
      " batch_normalization (BatchN  (None, 289, 16)          64        \n",
      " ormalization)                                                   \n",
      "                                                                 \n",
      " dropout (Dropout)           (None, 289, 16)           0         \n",
      "                                                                 \n",
      " conv1d_1 (Conv1D)           (None, 226, 16)           16400     \n",
      "                                                                 \n",
      " re_lu_1 (ReLU)              (None, 226, 16)           0         \n",
      "                                                                 \n",
      " batch_normalization_1 (Batc  (None, 226, 16)          64        \n",
      " hNormalization)                                                 \n",
      "                                                                 \n",
      " dropout_1 (Dropout)         (None, 226, 16)           0         \n",
      "                                                                 \n",
      " conv1d_2 (Conv1D)           (None, 195, 16)           8208      \n",
      "                                                                 \n",
      " re_lu_2 (ReLU)              (None, 195, 16)           0         \n",
      "                                                                 \n",
      " batch_normalization_2 (Batc  (None, 195, 16)          64        \n",
      " hNormalization)                                                 \n",
      "                                                                 \n",
      " dropout_2 (Dropout)         (None, 195, 16)           0         \n",
      "                                                                 \n",
      " conv1d_3 (Conv1D)           (None, 180, 16)           4112      \n",
      "                                                                 \n",
      " re_lu_3 (ReLU)              (None, 180, 16)           0         \n",
      "                                                                 \n",
      " batch_normalization_3 (Batc  (None, 180, 16)          64        \n",
      " hNormalization)                                                 \n",
      "                                                                 \n",
      " dropout_3 (Dropout)         (None, 180, 16)           0         \n",
      "                                                                 \n",
      " flatten (Flatten)           (None, 2880)              0         \n",
      "                                                                 \n",
      " dense (Dense)               (None, 8)                 23048     \n",
      "                                                                 \n",
      " tf.nn.softmax (TFOpLambda)  (None, 8)                 0         \n",
      "                                                                 \n",
      "=================================================================\n",
      "Total params: 60,232\n",
      "Trainable params: 60,104\n",
      "Non-trainable params: 128\n",
      "_________________________________________________________________\n",
      "8000\n"
     ]
    },
    {
     "name": "stderr",
     "output_type": "stream",
     "text": [
      "2024-01-11 19:03:31.782832: I tensorflow/core/profiler/lib/profiler_session.cc:101] Profiler session initializing.\n",
      "2024-01-11 19:03:31.782847: I tensorflow/core/profiler/lib/profiler_session.cc:116] Profiler session started.\n"
     ]
    },
    {
     "name": "stdout",
     "output_type": "stream",
     "text": [
      "Training start time: 2024-01-11 19:03:32\n"
     ]
    },
    {
     "name": "stderr",
     "output_type": "stream",
     "text": [
      "2024-01-11 19:03:31.964072: I tensorflow/core/profiler/lib/profiler_session.cc:128] Profiler session tear down.\n",
      "2024-01-11 19:03:31.964208: I tensorflow/core/profiler/backends/gpu/cupti_tracer.cc:1798] CUPTI activity buffer flushed\n"
     ]
    },
    {
     "data": {
      "application/vnd.jupyter.widget-view+json": {
       "model_id": "b177ad39c69341ce90b4daca7b038d4b",
       "version_major": 2,
       "version_minor": 0
      },
      "text/plain": [
       "Epoch Progress:   0%|          | 0/8000 [00:00<?, ?epoch/s]"
      ]
     },
     "metadata": {},
     "output_type": "display_data"
    },
    {
     "name": "stderr",
     "output_type": "stream",
     "text": [
      "2024-01-11 19:03:32.931838: I tensorflow/core/profiler/lib/profiler_session.cc:101] Profiler session initializing.\n",
      "2024-01-11 19:03:32.931856: I tensorflow/core/profiler/lib/profiler_session.cc:116] Profiler session started.\n"
     ]
    },
    {
     "name": "stdout",
     "output_type": "stream",
     "text": [
      "WARNING:tensorflow:Callback method `on_train_batch_begin` is slow compared to the batch time (batch time: 0.0033s vs `on_train_batch_begin` time: 0.0308s). Check your callbacks.\n"
     ]
    },
    {
     "name": "stderr",
     "output_type": "stream",
     "text": [
      "2024-01-11 19:03:33.319915: I tensorflow/core/profiler/lib/profiler_session.cc:67] Profiler session collecting data.\n",
      "2024-01-11 19:03:33.351343: I tensorflow/core/profiler/backends/gpu/cupti_tracer.cc:1798] CUPTI activity buffer flushed\n",
      "2024-01-11 19:03:33.406728: I tensorflow/core/profiler/backends/gpu/cupti_collector.cc:521]  GpuTracer has collected 341 callback api events and 341 activity events. \n",
      "2024-01-11 19:03:33.433361: I tensorflow/core/profiler/lib/profiler_session.cc:128] Profiler session tear down.\n",
      "2024-01-11 19:03:33.440444: I tensorflow/core/profiler/rpc/client/save_profile.cc:136] Creating directory: ../logs/240104_w_shaft/1704967411.7827759/train/plugins/profile/2024_01_11_19_03_33\n",
      "\n",
      "2024-01-11 19:03:33.443701: I tensorflow/core/profiler/rpc/client/save_profile.cc:142] Dumped gzipped tool data for trace.json.gz to ../logs/240104_w_shaft/1704967411.7827759/train/plugins/profile/2024_01_11_19_03_33/winddetection.trace.json.gz\n",
      "2024-01-11 19:03:33.468659: I tensorflow/core/profiler/rpc/client/save_profile.cc:136] Creating directory: ../logs/240104_w_shaft/1704967411.7827759/train/plugins/profile/2024_01_11_19_03_33\n",
      "\n",
      "2024-01-11 19:03:33.477464: I tensorflow/core/profiler/rpc/client/save_profile.cc:142] Dumped gzipped tool data for memory_profile.json.gz to ../logs/240104_w_shaft/1704967411.7827759/train/plugins/profile/2024_01_11_19_03_33/winddetection.memory_profile.json.gz\n",
      "2024-01-11 19:03:33.478446: I tensorflow/core/profiler/rpc/client/capture_profile.cc:251] Creating directory: ../logs/240104_w_shaft/1704967411.7827759/train/plugins/profile/2024_01_11_19_03_33\n",
      "Dumped tool data for xplane.pb to ../logs/240104_w_shaft/1704967411.7827759/train/plugins/profile/2024_01_11_19_03_33/winddetection.xplane.pb\n",
      "Dumped tool data for overview_page.pb to ../logs/240104_w_shaft/1704967411.7827759/train/plugins/profile/2024_01_11_19_03_33/winddetection.overview_page.pb\n",
      "Dumped tool data for input_pipeline.pb to ../logs/240104_w_shaft/1704967411.7827759/train/plugins/profile/2024_01_11_19_03_33/winddetection.input_pipeline.pb\n",
      "Dumped tool data for tensorflow_stats.pb to ../logs/240104_w_shaft/1704967411.7827759/train/plugins/profile/2024_01_11_19_03_33/winddetection.tensorflow_stats.pb\n",
      "Dumped tool data for kernel_stats.pb to ../logs/240104_w_shaft/1704967411.7827759/train/plugins/profile/2024_01_11_19_03_33/winddetection.kernel_stats.pb\n",
      "\n",
      "WARNING:tensorflow:Callback method `on_train_batch_begin` is slow compared to the batch time (batch time: 0.0033s vs `on_train_batch_begin` time: 0.0308s). Check your callbacks.\n"
     ]
    },
    {
     "name": "stdout",
     "output_type": "stream",
     "text": [
      "WARNING:tensorflow:Callback method `on_train_batch_end` is slow compared to the batch time (batch time: 0.0033s vs `on_train_batch_end` time: 0.0657s). Check your callbacks.\n"
     ]
    },
    {
     "name": "stderr",
     "output_type": "stream",
     "text": [
      "WARNING:tensorflow:Callback method `on_train_batch_end` is slow compared to the batch time (batch time: 0.0033s vs `on_train_batch_end` time: 0.0657s). Check your callbacks.\n"
     ]
    },
    {
     "name": "stdout",
     "output_type": "stream",
     "text": [
      "Training end time: 2024-01-11 19:31:32\n",
      "Training took 0:28:00.207577 (h:m:s)\n"
     ]
    },
    {
     "name": "stderr",
     "output_type": "stream",
     "text": [
      "WARNING:absl:Found untraced functions such as _jit_compiled_convolution_op, _jit_compiled_convolution_op, _jit_compiled_convolution_op, _jit_compiled_convolution_op while saving (showing 4 of 4). These functions will not be directly callable after loading.\n"
     ]
    },
    {
     "name": "stdout",
     "output_type": "stream",
     "text": [
      "INFO:tensorflow:Assets written to: ../models/240104_w_shaft/1_CNN/raw_data/data_split_by_0.5_period/not_normalized/my_model_CH2467/assets\n"
     ]
    },
    {
     "name": "stderr",
     "output_type": "stream",
     "text": [
      "INFO:tensorflow:Assets written to: ../models/240104_w_shaft/1_CNN/raw_data/data_split_by_0.5_period/not_normalized/my_model_CH2467/assets\n"
     ]
    },
    {
     "name": "stdout",
     "output_type": "stream",
     "text": [
      "\n",
      "\n",
      "\n",
      "\n",
      "2467\n",
      "Should Flatten:  False\n",
      "Split parameter:  data_split_by_0.2_period\n",
      "Which Channel:  SG2 & SG4 & SG6 & SG7\n",
      "Should Normalize: False\n",
      "Num of train data：23116 (0deg：2889 / 15deg：2890 / 30deg：2890 / 45deg：2889 / 60deg：2890 / 75deg：2889 / 90deg：2889 / No Wind：2890)\n",
      "Num of test data：5780 (0deg：723 / 15deg：722 / 30deg：722 / 45deg：723 / 60deg：722 / 75deg：723 / 90deg：723 / No Wind：722)\n",
      "Model: \"model\"\n",
      "_________________________________________________________________\n",
      " Layer (type)                Output Shape              Param #   \n",
      "=================================================================\n",
      " input_1 (InputLayer)        [(None, 166, 4)]          0         \n",
      "                                                                 \n",
      " conv1d (Conv1D)             (None, 103, 16)           4112      \n",
      "                                                                 \n",
      " re_lu (ReLU)                (None, 103, 16)           0         \n",
      "                                                                 \n",
      " batch_normalization (BatchN  (None, 103, 16)          64        \n",
      " ormalization)                                                   \n",
      "                                                                 \n",
      " dropout (Dropout)           (None, 103, 16)           0         \n",
      "                                                                 \n",
      " conv1d_1 (Conv1D)           (None, 72, 16)            8208      \n",
      "                                                                 \n",
      " re_lu_1 (ReLU)              (None, 72, 16)            0         \n",
      "                                                                 \n",
      " batch_normalization_1 (Batc  (None, 72, 16)           64        \n",
      " hNormalization)                                                 \n",
      "                                                                 \n",
      " dropout_1 (Dropout)         (None, 72, 16)            0         \n",
      "                                                                 \n",
      " conv1d_2 (Conv1D)           (None, 57, 16)            4112      \n",
      "                                                                 \n",
      " re_lu_2 (ReLU)              (None, 57, 16)            0         \n",
      "                                                                 \n",
      " batch_normalization_2 (Batc  (None, 57, 16)           64        \n",
      " hNormalization)                                                 \n",
      "                                                                 \n",
      " dropout_2 (Dropout)         (None, 57, 16)            0         \n",
      "                                                                 \n",
      " flatten (Flatten)           (None, 912)               0         \n",
      "                                                                 \n",
      " dense (Dense)               (None, 8)                 7304      \n",
      "                                                                 \n",
      " tf.nn.softmax (TFOpLambda)  (None, 8)                 0         \n",
      "                                                                 \n",
      "=================================================================\n",
      "Total params: 23,928\n",
      "Trainable params: 23,832\n",
      "Non-trainable params: 96\n",
      "_________________________________________________________________\n",
      "13000\n"
     ]
    },
    {
     "name": "stderr",
     "output_type": "stream",
     "text": [
      "2024-01-11 19:31:33.556425: I tensorflow/core/profiler/lib/profiler_session.cc:101] Profiler session initializing.\n",
      "2024-01-11 19:31:33.556440: I tensorflow/core/profiler/lib/profiler_session.cc:116] Profiler session started.\n"
     ]
    },
    {
     "name": "stdout",
     "output_type": "stream",
     "text": [
      "Training start time: 2024-01-11 19:31:33\n"
     ]
    },
    {
     "name": "stderr",
     "output_type": "stream",
     "text": [
      "2024-01-11 19:31:33.770851: I tensorflow/core/profiler/lib/profiler_session.cc:128] Profiler session tear down.\n",
      "2024-01-11 19:31:33.770983: I tensorflow/core/profiler/backends/gpu/cupti_tracer.cc:1798] CUPTI activity buffer flushed\n"
     ]
    },
    {
     "data": {
      "application/vnd.jupyter.widget-view+json": {
       "model_id": "a0afe6c296494a99918ec90fcace6ce6",
       "version_major": 2,
       "version_minor": 0
      },
      "text/plain": [
       "Epoch Progress:   0%|          | 0/13000 [00:00<?, ?epoch/s]"
      ]
     },
     "metadata": {},
     "output_type": "display_data"
    },
    {
     "name": "stderr",
     "output_type": "stream",
     "text": [
      "2024-01-11 19:31:34.575070: I tensorflow/core/profiler/lib/profiler_session.cc:101] Profiler session initializing.\n",
      "2024-01-11 19:31:34.575087: I tensorflow/core/profiler/lib/profiler_session.cc:116] Profiler session started.\n"
     ]
    },
    {
     "name": "stdout",
     "output_type": "stream",
     "text": [
      "WARNING:tensorflow:Callback method `on_train_batch_begin` is slow compared to the batch time (batch time: 0.0024s vs `on_train_batch_begin` time: 0.0316s). Check your callbacks.\n"
     ]
    },
    {
     "name": "stderr",
     "output_type": "stream",
     "text": [
      "2024-01-11 19:31:34.946460: I tensorflow/core/profiler/lib/profiler_session.cc:67] Profiler session collecting data.\n",
      "2024-01-11 19:31:34.974625: I tensorflow/core/profiler/backends/gpu/cupti_tracer.cc:1798] CUPTI activity buffer flushed\n",
      "2024-01-11 19:31:35.028937: I tensorflow/core/profiler/backends/gpu/cupti_collector.cc:521]  GpuTracer has collected 258 callback api events and 258 activity events. \n",
      "2024-01-11 19:31:35.053711: I tensorflow/core/profiler/lib/profiler_session.cc:128] Profiler session tear down.\n",
      "2024-01-11 19:31:35.059122: I tensorflow/core/profiler/rpc/client/save_profile.cc:136] Creating directory: ../logs/240104_w_shaft/1704969093.5563679/train/plugins/profile/2024_01_11_19_31_35\n",
      "\n",
      "2024-01-11 19:31:35.061821: I tensorflow/core/profiler/rpc/client/save_profile.cc:142] Dumped gzipped tool data for trace.json.gz to ../logs/240104_w_shaft/1704969093.5563679/train/plugins/profile/2024_01_11_19_31_35/winddetection.trace.json.gz\n",
      "2024-01-11 19:31:35.080939: I tensorflow/core/profiler/rpc/client/save_profile.cc:136] Creating directory: ../logs/240104_w_shaft/1704969093.5563679/train/plugins/profile/2024_01_11_19_31_35\n",
      "\n",
      "2024-01-11 19:31:35.086920: I tensorflow/core/profiler/rpc/client/save_profile.cc:142] Dumped gzipped tool data for memory_profile.json.gz to ../logs/240104_w_shaft/1704969093.5563679/train/plugins/profile/2024_01_11_19_31_35/winddetection.memory_profile.json.gz\n",
      "2024-01-11 19:31:35.087681: I tensorflow/core/profiler/rpc/client/capture_profile.cc:251] Creating directory: ../logs/240104_w_shaft/1704969093.5563679/train/plugins/profile/2024_01_11_19_31_35\n",
      "Dumped tool data for xplane.pb to ../logs/240104_w_shaft/1704969093.5563679/train/plugins/profile/2024_01_11_19_31_35/winddetection.xplane.pb\n",
      "Dumped tool data for overview_page.pb to ../logs/240104_w_shaft/1704969093.5563679/train/plugins/profile/2024_01_11_19_31_35/winddetection.overview_page.pb\n",
      "Dumped tool data for input_pipeline.pb to ../logs/240104_w_shaft/1704969093.5563679/train/plugins/profile/2024_01_11_19_31_35/winddetection.input_pipeline.pb\n",
      "Dumped tool data for tensorflow_stats.pb to ../logs/240104_w_shaft/1704969093.5563679/train/plugins/profile/2024_01_11_19_31_35/winddetection.tensorflow_stats.pb\n",
      "Dumped tool data for kernel_stats.pb to ../logs/240104_w_shaft/1704969093.5563679/train/plugins/profile/2024_01_11_19_31_35/winddetection.kernel_stats.pb\n",
      "\n",
      "WARNING:tensorflow:Callback method `on_train_batch_begin` is slow compared to the batch time (batch time: 0.0024s vs `on_train_batch_begin` time: 0.0316s). Check your callbacks.\n"
     ]
    },
    {
     "name": "stdout",
     "output_type": "stream",
     "text": [
      "WARNING:tensorflow:Callback method `on_train_batch_end` is slow compared to the batch time (batch time: 0.0024s vs `on_train_batch_end` time: 0.0581s). Check your callbacks.\n"
     ]
    },
    {
     "name": "stderr",
     "output_type": "stream",
     "text": [
      "WARNING:tensorflow:Callback method `on_train_batch_end` is slow compared to the batch time (batch time: 0.0024s vs `on_train_batch_end` time: 0.0581s). Check your callbacks.\n"
     ]
    },
    {
     "name": "stdout",
     "output_type": "stream",
     "text": [
      "Training end time: 2024-01-11 20:27:38\n",
      "Training took 0:56:04.654655 (h:m:s)\n"
     ]
    },
    {
     "name": "stderr",
     "output_type": "stream",
     "text": [
      "WARNING:absl:Found untraced functions such as _jit_compiled_convolution_op, _jit_compiled_convolution_op, _jit_compiled_convolution_op while saving (showing 3 of 3). These functions will not be directly callable after loading.\n"
     ]
    },
    {
     "name": "stdout",
     "output_type": "stream",
     "text": [
      "INFO:tensorflow:Assets written to: ../models/240104_w_shaft/1_CNN/raw_data/data_split_by_0.2_period/not_normalized/my_model_CH2467/assets\n"
     ]
    },
    {
     "name": "stderr",
     "output_type": "stream",
     "text": [
      "INFO:tensorflow:Assets written to: ../models/240104_w_shaft/1_CNN/raw_data/data_split_by_0.2_period/not_normalized/my_model_CH2467/assets\n"
     ]
    },
    {
     "name": "stdout",
     "output_type": "stream",
     "text": [
      "\n",
      "\n",
      "\n",
      "\n"
     ]
    },
    {
     "data": {
      "application/vnd.jupyter.widget-view+json": {
       "model_id": "1b41fac3e0514a27b07841950b6770b4",
       "version_major": 2,
       "version_minor": 0
      },
      "text/plain": [
       "  0%|          | 0/3 [00:00<?, ?it/s]"
      ]
     },
     "metadata": {},
     "output_type": "display_data"
    },
    {
     "name": "stdout",
     "output_type": "stream",
     "text": [
      "2567\n",
      "Should Flatten:  False\n",
      "Split parameter:  data_split_by_1_period\n",
      "Which Channel:  SG2 & SG5 & SG6 & SG7\n",
      "Should Normalize: False\n",
      "Num of train data：4608 (0deg：576 / 15deg：576 / 30deg：576 / 45deg：576 / 60deg：576 / 75deg：576 / 90deg：576 / No Wind：576)\n",
      "Num of test data：1152 (0deg：144 / 15deg：144 / 30deg：144 / 45deg：144 / 60deg：144 / 75deg：144 / 90deg：144 / No Wind：144)\n",
      "Model: \"model\"\n",
      "_________________________________________________________________\n",
      " Layer (type)                Output Shape              Param #   \n",
      "=================================================================\n",
      " input_1 (InputLayer)        [(None, 833, 4)]          0         \n",
      "                                                                 \n",
      " conv1d (Conv1D)             (None, 578, 16)           16400     \n",
      "                                                                 \n",
      " re_lu (ReLU)                (None, 578, 16)           0         \n",
      "                                                                 \n",
      " batch_normalization (BatchN  (None, 578, 16)          64        \n",
      " ormalization)                                                   \n",
      "                                                                 \n",
      " dropout (Dropout)           (None, 578, 16)           0         \n",
      "                                                                 \n",
      " conv1d_1 (Conv1D)           (None, 451, 16)           32784     \n",
      "                                                                 \n",
      " re_lu_1 (ReLU)              (None, 451, 16)           0         \n",
      "                                                                 \n",
      " batch_normalization_1 (Batc  (None, 451, 16)          64        \n",
      " hNormalization)                                                 \n",
      "                                                                 \n",
      " dropout_1 (Dropout)         (None, 451, 16)           0         \n",
      "                                                                 \n",
      " conv1d_2 (Conv1D)           (None, 388, 16)           16400     \n",
      "                                                                 \n",
      " re_lu_2 (ReLU)              (None, 388, 16)           0         \n",
      "                                                                 \n",
      " batch_normalization_2 (Batc  (None, 388, 16)          64        \n",
      " hNormalization)                                                 \n",
      "                                                                 \n",
      " dropout_2 (Dropout)         (None, 388, 16)           0         \n",
      "                                                                 \n",
      " conv1d_3 (Conv1D)           (None, 357, 16)           8208      \n",
      "                                                                 \n",
      " re_lu_3 (ReLU)              (None, 357, 16)           0         \n",
      "                                                                 \n",
      " batch_normalization_3 (Batc  (None, 357, 16)          64        \n",
      " hNormalization)                                                 \n",
      "                                                                 \n",
      " dropout_3 (Dropout)         (None, 357, 16)           0         \n",
      "                                                                 \n",
      " conv1d_4 (Conv1D)           (None, 342, 16)           4112      \n",
      "                                                                 \n",
      " re_lu_4 (ReLU)              (None, 342, 16)           0         \n",
      "                                                                 \n",
      " batch_normalization_4 (Batc  (None, 342, 16)          64        \n",
      " hNormalization)                                                 \n",
      "                                                                 \n",
      " dropout_4 (Dropout)         (None, 342, 16)           0         \n",
      "                                                                 \n",
      " flatten (Flatten)           (None, 5472)              0         \n",
      "                                                                 \n",
      " dense (Dense)               (None, 8)                 43784     \n",
      "                                                                 \n",
      " tf.nn.softmax (TFOpLambda)  (None, 8)                 0         \n",
      "                                                                 \n",
      "=================================================================\n",
      "Total params: 122,008\n",
      "Trainable params: 121,848\n",
      "Non-trainable params: 160\n",
      "_________________________________________________________________\n",
      "2000\n"
     ]
    },
    {
     "name": "stderr",
     "output_type": "stream",
     "text": [
      "2024-01-11 20:27:39.853780: I tensorflow/core/profiler/lib/profiler_session.cc:101] Profiler session initializing.\n",
      "2024-01-11 20:27:39.853794: I tensorflow/core/profiler/lib/profiler_session.cc:116] Profiler session started.\n"
     ]
    },
    {
     "name": "stdout",
     "output_type": "stream",
     "text": [
      "Training start time: 2024-01-11 20:27:40\n"
     ]
    },
    {
     "name": "stderr",
     "output_type": "stream",
     "text": [
      "2024-01-11 20:27:40.243659: I tensorflow/core/profiler/lib/profiler_session.cc:128] Profiler session tear down.\n",
      "2024-01-11 20:27:40.243794: I tensorflow/core/profiler/backends/gpu/cupti_tracer.cc:1798] CUPTI activity buffer flushed\n"
     ]
    },
    {
     "data": {
      "application/vnd.jupyter.widget-view+json": {
       "model_id": "95851735e8e349e6aa6ff727b0cc4948",
       "version_major": 2,
       "version_minor": 0
      },
      "text/plain": [
       "Epoch Progress:   0%|          | 0/2000 [00:00<?, ?epoch/s]"
      ]
     },
     "metadata": {},
     "output_type": "display_data"
    },
    {
     "name": "stderr",
     "output_type": "stream",
     "text": [
      "2024-01-11 20:27:41.414453: I tensorflow/core/profiler/lib/profiler_session.cc:101] Profiler session initializing.\n",
      "2024-01-11 20:27:41.414471: I tensorflow/core/profiler/lib/profiler_session.cc:116] Profiler session started.\n",
      "2024-01-11 20:27:41.828364: I tensorflow/core/profiler/lib/profiler_session.cc:67] Profiler session collecting data.\n",
      "2024-01-11 20:27:41.862726: I tensorflow/core/profiler/backends/gpu/cupti_tracer.cc:1798] CUPTI activity buffer flushed\n",
      "2024-01-11 20:27:41.922298: I tensorflow/core/profiler/backends/gpu/cupti_collector.cc:521]  GpuTracer has collected 414 callback api events and 415 activity events. \n",
      "2024-01-11 20:27:41.951142: I tensorflow/core/profiler/lib/profiler_session.cc:128] Profiler session tear down.\n",
      "2024-01-11 20:27:41.959672: I tensorflow/core/profiler/rpc/client/save_profile.cc:136] Creating directory: ../logs/240104_w_shaft/1704972459.8537254/train/plugins/profile/2024_01_11_20_27_41\n",
      "\n",
      "2024-01-11 20:27:41.963537: I tensorflow/core/profiler/rpc/client/save_profile.cc:142] Dumped gzipped tool data for trace.json.gz to ../logs/240104_w_shaft/1704972459.8537254/train/plugins/profile/2024_01_11_20_27_41/winddetection.trace.json.gz\n",
      "2024-01-11 20:27:42.000030: I tensorflow/core/profiler/rpc/client/save_profile.cc:136] Creating directory: ../logs/240104_w_shaft/1704972459.8537254/train/plugins/profile/2024_01_11_20_27_41\n",
      "\n",
      "2024-01-11 20:27:42.008302: I tensorflow/core/profiler/rpc/client/save_profile.cc:142] Dumped gzipped tool data for memory_profile.json.gz to ../logs/240104_w_shaft/1704972459.8537254/train/plugins/profile/2024_01_11_20_27_41/winddetection.memory_profile.json.gz\n",
      "2024-01-11 20:27:42.009699: I tensorflow/core/profiler/rpc/client/capture_profile.cc:251] Creating directory: ../logs/240104_w_shaft/1704972459.8537254/train/plugins/profile/2024_01_11_20_27_41\n",
      "Dumped tool data for xplane.pb to ../logs/240104_w_shaft/1704972459.8537254/train/plugins/profile/2024_01_11_20_27_41/winddetection.xplane.pb\n",
      "Dumped tool data for overview_page.pb to ../logs/240104_w_shaft/1704972459.8537254/train/plugins/profile/2024_01_11_20_27_41/winddetection.overview_page.pb\n",
      "Dumped tool data for input_pipeline.pb to ../logs/240104_w_shaft/1704972459.8537254/train/plugins/profile/2024_01_11_20_27_41/winddetection.input_pipeline.pb\n",
      "Dumped tool data for tensorflow_stats.pb to ../logs/240104_w_shaft/1704972459.8537254/train/plugins/profile/2024_01_11_20_27_41/winddetection.tensorflow_stats.pb\n",
      "Dumped tool data for kernel_stats.pb to ../logs/240104_w_shaft/1704972459.8537254/train/plugins/profile/2024_01_11_20_27_41/winddetection.kernel_stats.pb\n",
      "\n"
     ]
    },
    {
     "name": "stdout",
     "output_type": "stream",
     "text": [
      "WARNING:tensorflow:Callback method `on_train_batch_begin` is slow compared to the batch time (batch time: 0.0052s vs `on_train_batch_begin` time: 0.0290s). Check your callbacks.\n"
     ]
    },
    {
     "name": "stderr",
     "output_type": "stream",
     "text": [
      "WARNING:tensorflow:Callback method `on_train_batch_begin` is slow compared to the batch time (batch time: 0.0052s vs `on_train_batch_begin` time: 0.0290s). Check your callbacks.\n"
     ]
    },
    {
     "name": "stdout",
     "output_type": "stream",
     "text": [
      "WARNING:tensorflow:Callback method `on_train_batch_end` is slow compared to the batch time (batch time: 0.0052s vs `on_train_batch_end` time: 0.0766s). Check your callbacks.\n"
     ]
    },
    {
     "name": "stderr",
     "output_type": "stream",
     "text": [
      "WARNING:tensorflow:Callback method `on_train_batch_end` is slow compared to the batch time (batch time: 0.0052s vs `on_train_batch_end` time: 0.0766s). Check your callbacks.\n"
     ]
    },
    {
     "name": "stdout",
     "output_type": "stream",
     "text": [
      "Training end time: 2024-01-11 20:36:28\n",
      "Training took 0:08:48.653898 (h:m:s)\n"
     ]
    },
    {
     "name": "stderr",
     "output_type": "stream",
     "text": [
      "WARNING:absl:Found untraced functions such as _jit_compiled_convolution_op, _jit_compiled_convolution_op, _jit_compiled_convolution_op, _jit_compiled_convolution_op, _jit_compiled_convolution_op while saving (showing 5 of 5). These functions will not be directly callable after loading.\n"
     ]
    },
    {
     "name": "stdout",
     "output_type": "stream",
     "text": [
      "INFO:tensorflow:Assets written to: ../models/240104_w_shaft/1_CNN/raw_data/data_split_by_1_period/not_normalized/my_model_CH2567/assets\n"
     ]
    },
    {
     "name": "stderr",
     "output_type": "stream",
     "text": [
      "INFO:tensorflow:Assets written to: ../models/240104_w_shaft/1_CNN/raw_data/data_split_by_1_period/not_normalized/my_model_CH2567/assets\n"
     ]
    },
    {
     "name": "stdout",
     "output_type": "stream",
     "text": [
      "\n",
      "\n",
      "\n",
      "\n",
      "2567\n",
      "Should Flatten:  False\n",
      "Split parameter:  data_split_by_0.5_period\n",
      "Which Channel:  SG2 & SG5 & SG6 & SG7\n",
      "Should Normalize: False\n",
      "Num of train data：9216 (0deg：1152 / 15deg：1152 / 30deg：1152 / 45deg：1152 / 60deg：1152 / 75deg：1152 / 90deg：1152 / No Wind：1152)\n",
      "Num of test data：2304 (0deg：288 / 15deg：288 / 30deg：288 / 45deg：288 / 60deg：288 / 75deg：288 / 90deg：288 / No Wind：288)\n",
      "Model: \"model\"\n",
      "_________________________________________________________________\n",
      " Layer (type)                Output Shape              Param #   \n",
      "=================================================================\n",
      " input_1 (InputLayer)        [(None, 416, 4)]          0         \n",
      "                                                                 \n",
      " conv1d (Conv1D)             (None, 289, 16)           8208      \n",
      "                                                                 \n",
      " re_lu (ReLU)                (None, 289, 16)           0         \n",
      "                                                                 \n",
      " batch_normalization (BatchN  (None, 289, 16)          64        \n",
      " ormalization)                                                   \n",
      "                                                                 \n",
      " dropout (Dropout)           (None, 289, 16)           0         \n",
      "                                                                 \n",
      " conv1d_1 (Conv1D)           (None, 226, 16)           16400     \n",
      "                                                                 \n",
      " re_lu_1 (ReLU)              (None, 226, 16)           0         \n",
      "                                                                 \n",
      " batch_normalization_1 (Batc  (None, 226, 16)          64        \n",
      " hNormalization)                                                 \n",
      "                                                                 \n",
      " dropout_1 (Dropout)         (None, 226, 16)           0         \n",
      "                                                                 \n",
      " conv1d_2 (Conv1D)           (None, 195, 16)           8208      \n",
      "                                                                 \n",
      " re_lu_2 (ReLU)              (None, 195, 16)           0         \n",
      "                                                                 \n",
      " batch_normalization_2 (Batc  (None, 195, 16)          64        \n",
      " hNormalization)                                                 \n",
      "                                                                 \n",
      " dropout_2 (Dropout)         (None, 195, 16)           0         \n",
      "                                                                 \n",
      " conv1d_3 (Conv1D)           (None, 180, 16)           4112      \n",
      "                                                                 \n",
      " re_lu_3 (ReLU)              (None, 180, 16)           0         \n",
      "                                                                 \n",
      " batch_normalization_3 (Batc  (None, 180, 16)          64        \n",
      " hNormalization)                                                 \n",
      "                                                                 \n",
      " dropout_3 (Dropout)         (None, 180, 16)           0         \n",
      "                                                                 \n",
      " flatten (Flatten)           (None, 2880)              0         \n",
      "                                                                 \n",
      " dense (Dense)               (None, 8)                 23048     \n",
      "                                                                 \n",
      " tf.nn.softmax (TFOpLambda)  (None, 8)                 0         \n",
      "                                                                 \n",
      "=================================================================\n",
      "Total params: 60,232\n",
      "Trainable params: 60,104\n",
      "Non-trainable params: 128\n",
      "_________________________________________________________________\n",
      "8000\n"
     ]
    },
    {
     "name": "stderr",
     "output_type": "stream",
     "text": [
      "2024-01-11 20:36:30.782901: I tensorflow/core/profiler/lib/profiler_session.cc:101] Profiler session initializing.\n",
      "2024-01-11 20:36:30.782914: I tensorflow/core/profiler/lib/profiler_session.cc:116] Profiler session started.\n"
     ]
    },
    {
     "name": "stdout",
     "output_type": "stream",
     "text": [
      "Training start time: 2024-01-11 20:36:31\n"
     ]
    },
    {
     "name": "stderr",
     "output_type": "stream",
     "text": [
      "2024-01-11 20:36:30.961087: I tensorflow/core/profiler/lib/profiler_session.cc:128] Profiler session tear down.\n",
      "2024-01-11 20:36:30.961229: I tensorflow/core/profiler/backends/gpu/cupti_tracer.cc:1798] CUPTI activity buffer flushed\n"
     ]
    },
    {
     "data": {
      "application/vnd.jupyter.widget-view+json": {
       "model_id": "e7040707dd9d4b80a386be740255a953",
       "version_major": 2,
       "version_minor": 0
      },
      "text/plain": [
       "Epoch Progress:   0%|          | 0/8000 [00:00<?, ?epoch/s]"
      ]
     },
     "metadata": {},
     "output_type": "display_data"
    },
    {
     "name": "stderr",
     "output_type": "stream",
     "text": [
      "2024-01-11 20:36:31.956646: I tensorflow/core/profiler/lib/profiler_session.cc:101] Profiler session initializing.\n",
      "2024-01-11 20:36:31.956662: I tensorflow/core/profiler/lib/profiler_session.cc:116] Profiler session started.\n"
     ]
    },
    {
     "name": "stdout",
     "output_type": "stream",
     "text": [
      "WARNING:tensorflow:Callback method `on_train_batch_begin` is slow compared to the batch time (batch time: 0.0037s vs `on_train_batch_begin` time: 0.0310s). Check your callbacks.\n"
     ]
    },
    {
     "name": "stderr",
     "output_type": "stream",
     "text": [
      "2024-01-11 20:36:32.372088: I tensorflow/core/profiler/lib/profiler_session.cc:67] Profiler session collecting data.\n",
      "2024-01-11 20:36:32.404910: I tensorflow/core/profiler/backends/gpu/cupti_tracer.cc:1798] CUPTI activity buffer flushed\n",
      "2024-01-11 20:36:32.461767: I tensorflow/core/profiler/backends/gpu/cupti_collector.cc:521]  GpuTracer has collected 341 callback api events and 341 activity events. \n",
      "2024-01-11 20:36:32.486819: I tensorflow/core/profiler/lib/profiler_session.cc:128] Profiler session tear down.\n",
      "2024-01-11 20:36:32.493714: I tensorflow/core/profiler/rpc/client/save_profile.cc:136] Creating directory: ../logs/240104_w_shaft/1704972990.7828476/train/plugins/profile/2024_01_11_20_36_32\n",
      "\n",
      "2024-01-11 20:36:32.496891: I tensorflow/core/profiler/rpc/client/save_profile.cc:142] Dumped gzipped tool data for trace.json.gz to ../logs/240104_w_shaft/1704972990.7828476/train/plugins/profile/2024_01_11_20_36_32/winddetection.trace.json.gz\n",
      "2024-01-11 20:36:32.522571: I tensorflow/core/profiler/rpc/client/save_profile.cc:136] Creating directory: ../logs/240104_w_shaft/1704972990.7828476/train/plugins/profile/2024_01_11_20_36_32\n",
      "\n",
      "2024-01-11 20:36:32.532147: I tensorflow/core/profiler/rpc/client/save_profile.cc:142] Dumped gzipped tool data for memory_profile.json.gz to ../logs/240104_w_shaft/1704972990.7828476/train/plugins/profile/2024_01_11_20_36_32/winddetection.memory_profile.json.gz\n",
      "2024-01-11 20:36:32.533141: I tensorflow/core/profiler/rpc/client/capture_profile.cc:251] Creating directory: ../logs/240104_w_shaft/1704972990.7828476/train/plugins/profile/2024_01_11_20_36_32\n",
      "Dumped tool data for xplane.pb to ../logs/240104_w_shaft/1704972990.7828476/train/plugins/profile/2024_01_11_20_36_32/winddetection.xplane.pb\n",
      "Dumped tool data for overview_page.pb to ../logs/240104_w_shaft/1704972990.7828476/train/plugins/profile/2024_01_11_20_36_32/winddetection.overview_page.pb\n",
      "Dumped tool data for input_pipeline.pb to ../logs/240104_w_shaft/1704972990.7828476/train/plugins/profile/2024_01_11_20_36_32/winddetection.input_pipeline.pb\n",
      "Dumped tool data for tensorflow_stats.pb to ../logs/240104_w_shaft/1704972990.7828476/train/plugins/profile/2024_01_11_20_36_32/winddetection.tensorflow_stats.pb\n",
      "Dumped tool data for kernel_stats.pb to ../logs/240104_w_shaft/1704972990.7828476/train/plugins/profile/2024_01_11_20_36_32/winddetection.kernel_stats.pb\n",
      "\n",
      "WARNING:tensorflow:Callback method `on_train_batch_begin` is slow compared to the batch time (batch time: 0.0037s vs `on_train_batch_begin` time: 0.0310s). Check your callbacks.\n"
     ]
    },
    {
     "name": "stdout",
     "output_type": "stream",
     "text": [
      "WARNING:tensorflow:Callback method `on_train_batch_end` is slow compared to the batch time (batch time: 0.0037s vs `on_train_batch_end` time: 0.0703s). Check your callbacks.\n"
     ]
    },
    {
     "name": "stderr",
     "output_type": "stream",
     "text": [
      "WARNING:tensorflow:Callback method `on_train_batch_end` is slow compared to the batch time (batch time: 0.0037s vs `on_train_batch_end` time: 0.0703s). Check your callbacks.\n"
     ]
    },
    {
     "name": "stdout",
     "output_type": "stream",
     "text": [
      "Training end time: 2024-01-11 21:04:38\n",
      "Training took 0:28:07.177899 (h:m:s)\n"
     ]
    },
    {
     "name": "stderr",
     "output_type": "stream",
     "text": [
      "WARNING:absl:Found untraced functions such as _jit_compiled_convolution_op, _jit_compiled_convolution_op, _jit_compiled_convolution_op, _jit_compiled_convolution_op while saving (showing 4 of 4). These functions will not be directly callable after loading.\n"
     ]
    },
    {
     "name": "stdout",
     "output_type": "stream",
     "text": [
      "INFO:tensorflow:Assets written to: ../models/240104_w_shaft/1_CNN/raw_data/data_split_by_0.5_period/not_normalized/my_model_CH2567/assets\n"
     ]
    },
    {
     "name": "stderr",
     "output_type": "stream",
     "text": [
      "INFO:tensorflow:Assets written to: ../models/240104_w_shaft/1_CNN/raw_data/data_split_by_0.5_period/not_normalized/my_model_CH2567/assets\n"
     ]
    },
    {
     "name": "stdout",
     "output_type": "stream",
     "text": [
      "\n",
      "\n",
      "\n",
      "\n",
      "2567\n",
      "Should Flatten:  False\n",
      "Split parameter:  data_split_by_0.2_period\n",
      "Which Channel:  SG2 & SG5 & SG6 & SG7\n",
      "Should Normalize: False\n",
      "Num of train data：23116 (0deg：2889 / 15deg：2890 / 30deg：2890 / 45deg：2889 / 60deg：2890 / 75deg：2889 / 90deg：2889 / No Wind：2890)\n",
      "Num of test data：5780 (0deg：723 / 15deg：722 / 30deg：722 / 45deg：723 / 60deg：722 / 75deg：723 / 90deg：723 / No Wind：722)\n",
      "Model: \"model\"\n",
      "_________________________________________________________________\n",
      " Layer (type)                Output Shape              Param #   \n",
      "=================================================================\n",
      " input_1 (InputLayer)        [(None, 166, 4)]          0         \n",
      "                                                                 \n",
      " conv1d (Conv1D)             (None, 103, 16)           4112      \n",
      "                                                                 \n",
      " re_lu (ReLU)                (None, 103, 16)           0         \n",
      "                                                                 \n",
      " batch_normalization (BatchN  (None, 103, 16)          64        \n",
      " ormalization)                                                   \n",
      "                                                                 \n",
      " dropout (Dropout)           (None, 103, 16)           0         \n",
      "                                                                 \n",
      " conv1d_1 (Conv1D)           (None, 72, 16)            8208      \n",
      "                                                                 \n",
      " re_lu_1 (ReLU)              (None, 72, 16)            0         \n",
      "                                                                 \n",
      " batch_normalization_1 (Batc  (None, 72, 16)           64        \n",
      " hNormalization)                                                 \n",
      "                                                                 \n",
      " dropout_1 (Dropout)         (None, 72, 16)            0         \n",
      "                                                                 \n",
      " conv1d_2 (Conv1D)           (None, 57, 16)            4112      \n",
      "                                                                 \n",
      " re_lu_2 (ReLU)              (None, 57, 16)            0         \n",
      "                                                                 \n",
      " batch_normalization_2 (Batc  (None, 57, 16)           64        \n",
      " hNormalization)                                                 \n",
      "                                                                 \n",
      " dropout_2 (Dropout)         (None, 57, 16)            0         \n",
      "                                                                 \n",
      " flatten (Flatten)           (None, 912)               0         \n",
      "                                                                 \n",
      " dense (Dense)               (None, 8)                 7304      \n",
      "                                                                 \n",
      " tf.nn.softmax (TFOpLambda)  (None, 8)                 0         \n",
      "                                                                 \n",
      "=================================================================\n",
      "Total params: 23,928\n",
      "Trainable params: 23,832\n",
      "Non-trainable params: 96\n",
      "_________________________________________________________________\n",
      "13000\n"
     ]
    },
    {
     "name": "stderr",
     "output_type": "stream",
     "text": [
      "2024-01-11 21:04:39.540749: I tensorflow/core/profiler/lib/profiler_session.cc:101] Profiler session initializing.\n",
      "2024-01-11 21:04:39.540764: I tensorflow/core/profiler/lib/profiler_session.cc:116] Profiler session started.\n"
     ]
    },
    {
     "name": "stdout",
     "output_type": "stream",
     "text": [
      "Training start time: 2024-01-11 21:04:39\n"
     ]
    },
    {
     "name": "stderr",
     "output_type": "stream",
     "text": [
      "2024-01-11 21:04:39.765170: I tensorflow/core/profiler/lib/profiler_session.cc:128] Profiler session tear down.\n",
      "2024-01-11 21:04:39.765303: I tensorflow/core/profiler/backends/gpu/cupti_tracer.cc:1798] CUPTI activity buffer flushed\n"
     ]
    },
    {
     "data": {
      "application/vnd.jupyter.widget-view+json": {
       "model_id": "deeb9979e56c4b2faa9e5b18026f7c54",
       "version_major": 2,
       "version_minor": 0
      },
      "text/plain": [
       "Epoch Progress:   0%|          | 0/13000 [00:00<?, ?epoch/s]"
      ]
     },
     "metadata": {},
     "output_type": "display_data"
    },
    {
     "name": "stderr",
     "output_type": "stream",
     "text": [
      "2024-01-11 21:04:40.583099: I tensorflow/core/profiler/lib/profiler_session.cc:101] Profiler session initializing.\n",
      "2024-01-11 21:04:40.583117: I tensorflow/core/profiler/lib/profiler_session.cc:116] Profiler session started.\n"
     ]
    },
    {
     "name": "stdout",
     "output_type": "stream",
     "text": [
      "WARNING:tensorflow:Callback method `on_train_batch_begin` is slow compared to the batch time (batch time: 0.0027s vs `on_train_batch_begin` time: 0.0315s). Check your callbacks.\n"
     ]
    },
    {
     "name": "stderr",
     "output_type": "stream",
     "text": [
      "2024-01-11 21:04:40.953360: I tensorflow/core/profiler/lib/profiler_session.cc:67] Profiler session collecting data.\n",
      "2024-01-11 21:04:40.982621: I tensorflow/core/profiler/backends/gpu/cupti_tracer.cc:1798] CUPTI activity buffer flushed\n",
      "2024-01-11 21:04:41.038281: I tensorflow/core/profiler/backends/gpu/cupti_collector.cc:521]  GpuTracer has collected 258 callback api events and 258 activity events. \n",
      "2024-01-11 21:04:41.064120: I tensorflow/core/profiler/lib/profiler_session.cc:128] Profiler session tear down.\n",
      "2024-01-11 21:04:41.069628: I tensorflow/core/profiler/rpc/client/save_profile.cc:136] Creating directory: ../logs/240104_w_shaft/1704974679.5406923/train/plugins/profile/2024_01_11_21_04_41\n",
      "\n",
      "2024-01-11 21:04:41.072091: I tensorflow/core/profiler/rpc/client/save_profile.cc:142] Dumped gzipped tool data for trace.json.gz to ../logs/240104_w_shaft/1704974679.5406923/train/plugins/profile/2024_01_11_21_04_41/winddetection.trace.json.gz\n",
      "2024-01-11 21:04:41.091458: I tensorflow/core/profiler/rpc/client/save_profile.cc:136] Creating directory: ../logs/240104_w_shaft/1704974679.5406923/train/plugins/profile/2024_01_11_21_04_41\n",
      "\n",
      "2024-01-11 21:04:41.097650: I tensorflow/core/profiler/rpc/client/save_profile.cc:142] Dumped gzipped tool data for memory_profile.json.gz to ../logs/240104_w_shaft/1704974679.5406923/train/plugins/profile/2024_01_11_21_04_41/winddetection.memory_profile.json.gz\n",
      "2024-01-11 21:04:41.098412: I tensorflow/core/profiler/rpc/client/capture_profile.cc:251] Creating directory: ../logs/240104_w_shaft/1704974679.5406923/train/plugins/profile/2024_01_11_21_04_41\n",
      "Dumped tool data for xplane.pb to ../logs/240104_w_shaft/1704974679.5406923/train/plugins/profile/2024_01_11_21_04_41/winddetection.xplane.pb\n",
      "Dumped tool data for overview_page.pb to ../logs/240104_w_shaft/1704974679.5406923/train/plugins/profile/2024_01_11_21_04_41/winddetection.overview_page.pb\n",
      "Dumped tool data for input_pipeline.pb to ../logs/240104_w_shaft/1704974679.5406923/train/plugins/profile/2024_01_11_21_04_41/winddetection.input_pipeline.pb\n",
      "Dumped tool data for tensorflow_stats.pb to ../logs/240104_w_shaft/1704974679.5406923/train/plugins/profile/2024_01_11_21_04_41/winddetection.tensorflow_stats.pb\n",
      "Dumped tool data for kernel_stats.pb to ../logs/240104_w_shaft/1704974679.5406923/train/plugins/profile/2024_01_11_21_04_41/winddetection.kernel_stats.pb\n",
      "\n",
      "WARNING:tensorflow:Callback method `on_train_batch_begin` is slow compared to the batch time (batch time: 0.0027s vs `on_train_batch_begin` time: 0.0315s). Check your callbacks.\n"
     ]
    },
    {
     "name": "stdout",
     "output_type": "stream",
     "text": [
      "WARNING:tensorflow:Callback method `on_train_batch_end` is slow compared to the batch time (batch time: 0.0027s vs `on_train_batch_end` time: 0.0587s). Check your callbacks.\n"
     ]
    },
    {
     "name": "stderr",
     "output_type": "stream",
     "text": [
      "WARNING:tensorflow:Callback method `on_train_batch_end` is slow compared to the batch time (batch time: 0.0027s vs `on_train_batch_end` time: 0.0587s). Check your callbacks.\n"
     ]
    },
    {
     "name": "stdout",
     "output_type": "stream",
     "text": [
      "Training end time: 2024-01-11 22:00:55\n",
      "Training took 0:56:16.121199 (h:m:s)\n"
     ]
    },
    {
     "name": "stderr",
     "output_type": "stream",
     "text": [
      "WARNING:absl:Found untraced functions such as _jit_compiled_convolution_op, _jit_compiled_convolution_op, _jit_compiled_convolution_op while saving (showing 3 of 3). These functions will not be directly callable after loading.\n"
     ]
    },
    {
     "name": "stdout",
     "output_type": "stream",
     "text": [
      "INFO:tensorflow:Assets written to: ../models/240104_w_shaft/1_CNN/raw_data/data_split_by_0.2_period/not_normalized/my_model_CH2567/assets\n"
     ]
    },
    {
     "name": "stderr",
     "output_type": "stream",
     "text": [
      "INFO:tensorflow:Assets written to: ../models/240104_w_shaft/1_CNN/raw_data/data_split_by_0.2_period/not_normalized/my_model_CH2567/assets\n"
     ]
    },
    {
     "name": "stdout",
     "output_type": "stream",
     "text": [
      "\n",
      "\n",
      "\n",
      "\n"
     ]
    }
   ],
   "source": [
    "# from tensorflow.keras import backend\n",
    "\n",
    "# epochs = 0\n",
    "\n",
    "# for should_use_flatten_data in tqdm(should_use_flatten_data_list):\n",
    "#     for should_normalize in tqdm(should_normalize_list):\n",
    "#         for which_channel in tqdm(which_channels_list):\n",
    "#             for chosen_parameter_folder_name in tqdm(chosen_parameter_folder_names_list):\n",
    "#                 cnn_data_trainer.update_settings_efficiently(\n",
    "#                     should_use_flatten_data=should_use_flatten_data,\n",
    "#                     should_normalize=should_normalize,\n",
    "#                     which_channel=which_channel,\n",
    "#                     chosen_parameter_folder_name=chosen_parameter_folder_name\n",
    "#                 )\n",
    "#                 cnn_data_trainer.load_train_test_data()\n",
    "#                 cnn_data_trainer.get_model(optimizer='adam',\n",
    "#                                                loss='sparse_categorical_crossentropy',\n",
    "#                                                metrics=['accuracy'])\n",
    "                \n",
    "#                 if chosen_parameter_folder_name == \"data_split_by_1_period\":\n",
    "#                     if len(which_channel) == 4:\n",
    "#                         epochs = 2000\n",
    "#                 elif chosen_parameter_folder_name == \"data_split_by_0.5_period\":\n",
    "#                     if len(which_channel) == 4:\n",
    "#                         epochs = 8000\n",
    "#                 elif chosen_parameter_folder_name == \"data_split_by_0.2_period\":\n",
    "#                     if len(which_channel) == 4:\n",
    "#                         epochs = 13000\n",
    "#                 print(epochs)\n",
    "#                 if epochs < 1:\n",
    "#                     raise Exception()\n",
    "#                 cnn_data_trainer.train_model(epochs=epochs, verbose=0, validation_split=0.2, batch_size=128)\n",
    "#                 cnn_data_trainer.save_model()\n",
    "\n",
    "#                 epochs = 0\n",
    "\n",
    "#                 print(\"\\n\\n\\n\")\n",
    "\n",
    "#                 # セッションのクリア\n",
    "#                 backend.clear_session()"
   ]
  },
  {
   "cell_type": "code",
   "execution_count": null,
   "metadata": {},
   "outputs": [],
   "source": []
  }
 ],
 "metadata": {
  "kernelspec": {
   "display_name": "Python (tf210_py38)",
   "language": "python",
   "name": "tf210_py38"
  },
  "language_info": {
   "codemirror_mode": {
    "name": "ipython",
    "version": 3
   },
   "file_extension": ".py",
   "mimetype": "text/x-python",
   "name": "python",
   "nbconvert_exporter": "python",
   "pygments_lexer": "ipython3",
   "version": "3.8.10"
  }
 },
 "nbformat": 4,
 "nbformat_minor": 0
}
